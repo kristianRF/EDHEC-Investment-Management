{
 "cells": [
  {
   "cell_type": "markdown",
   "metadata": {},
   "source": [
    "# Week 3 Graded Quiz"
   ]
  },
  {
   "cell_type": "code",
   "execution_count": 1,
   "metadata": {},
   "outputs": [],
   "source": [
    "import pandas as pd\n",
    "import edhec_risk_kit as erk\n",
    "import numpy as np\n",
    "\n",
    "%load_ext autoreload\n",
    "%autoreload 2\n",
    "%matplotlib inline"
   ]
  },
  {
   "cell_type": "markdown",
   "metadata": {},
   "source": [
    "In the following questions, we will be working with three bonds:\n",
    "\n",
    "- B1 is a 15 Year Bond with a Face Value of \\$1000 that pays a 5\\% coupon semi-annually (2 times a year)\n",
    "- B2 is a 5 Year Bond with a Face value of \\$1000 that pays a 6\\% coupon quarterly (4 times a year)\n",
    "- B3 is a 10 Year Zero-Coupon Bond with a Face Value of \\$1000\n",
    "\n",
    "(Hint: you can still use the erk.bond_cash_flows() and erk.bond_price() by setting the coupon amount to 0\\% and coupons_per_year to 1)\n",
    "\n",
    "Assume the yield curve is flat at 5%.\n",
    "Duration refers to Macaulay Duration\n",
    "Hint: the macaulay_duration function gives as output the duration expressed in periods and not in years. If you want to get the yearly duration you need to divide the duration for coupons_per_year; \n",
    "\n",
    "e.g.: duration_B2 = erk.macaulay_duration(flows_B2, 0.05/4)/4"
   ]
  },
  {
   "cell_type": "code",
   "execution_count": 78,
   "metadata": {},
   "outputs": [
    {
     "data": {
      "text/html": [
       "<div>\n",
       "<style scoped>\n",
       "    .dataframe tbody tr th:only-of-type {\n",
       "        vertical-align: middle;\n",
       "    }\n",
       "\n",
       "    .dataframe tbody tr th {\n",
       "        vertical-align: top;\n",
       "    }\n",
       "\n",
       "    .dataframe thead th {\n",
       "        text-align: right;\n",
       "    }\n",
       "</style>\n",
       "<table border=\"1\" class=\"dataframe\">\n",
       "  <thead>\n",
       "    <tr style=\"text-align: right;\">\n",
       "      <th></th>\n",
       "      <th>Maturity</th>\n",
       "      <th>Principal</th>\n",
       "      <th>Coupon</th>\n",
       "      <th>Frequency</th>\n",
       "    </tr>\n",
       "  </thead>\n",
       "  <tbody>\n",
       "    <tr>\n",
       "      <th>Bond 1</th>\n",
       "      <td>15.0</td>\n",
       "      <td>1000.0</td>\n",
       "      <td>0.05</td>\n",
       "      <td>2.0</td>\n",
       "    </tr>\n",
       "    <tr>\n",
       "      <th>Bond 2</th>\n",
       "      <td>5.0</td>\n",
       "      <td>1000.0</td>\n",
       "      <td>0.06</td>\n",
       "      <td>4.0</td>\n",
       "    </tr>\n",
       "    <tr>\n",
       "      <th>Bond 3</th>\n",
       "      <td>10.0</td>\n",
       "      <td>1000.0</td>\n",
       "      <td>0.00</td>\n",
       "      <td>1.0</td>\n",
       "    </tr>\n",
       "  </tbody>\n",
       "</table>\n",
       "</div>"
      ],
      "text/plain": [
       "        Maturity  Principal  Coupon  Frequency\n",
       "Bond 1      15.0     1000.0    0.05        2.0\n",
       "Bond 2       5.0     1000.0    0.06        4.0\n",
       "Bond 3      10.0     1000.0    0.00        1.0"
      ]
     },
     "execution_count": 78,
     "metadata": {},
     "output_type": "execute_result"
    }
   ],
   "source": [
    "data = pd.DataFrame({\n",
    "    \"Bond 1\":(15, 1000, .05, 2),\n",
    "    \"Bond 2\":(5, 1000, .06, 4),\n",
    "    \"Bond 3\":(10, 1000, 0, 1)\n",
    "}, index = [\"Maturity\",\"Principal\",\"Coupon\",\"Frequency\"])\n",
    "data = data.T\n",
    "data"
   ]
  },
  {
   "cell_type": "markdown",
   "metadata": {},
   "source": [
    "## Question 1 + 2 + 3"
   ]
  },
  {
   "cell_type": "code",
   "execution_count": 114,
   "metadata": {},
   "outputs": [
    {
     "name": "stdout",
     "output_type": "stream",
     "text": [
      "Bond 1 = 1000.0\n",
      "Bond 2 = 1044.0\n",
      "Bond 3 = 613.91\n"
     ]
    }
   ],
   "source": [
    "for i in data.index: \n",
    "     print(i,\"=\", erk.bond_price(data['Maturity'][i],\n",
    "                                 data['Principal'][i],\n",
    "                                 data['Coupon'][i],\n",
    "                                 data['Frequency'][i],\n",
    "                                 0.05).loc[0].round(2))"
   ]
  },
  {
   "cell_type": "markdown",
   "metadata": {},
   "source": [
    "## Question 4 + 5 +6"
   ]
  },
  {
   "cell_type": "code",
   "execution_count": 119,
   "metadata": {},
   "outputs": [
    {
     "name": "stdout",
     "output_type": "stream",
     "text": [
      "Bond 1 = 10.73\n",
      "Bond 2 = 4.37\n",
      "Bond 3 = 10.0\n"
     ]
    }
   ],
   "source": [
    "for i in data.index: \n",
    "    cf = erk.bond_cash_flows(data['Maturity'][i],\n",
    "                             data['Principal'][i],\n",
    "                             data['Coupon'][i],\n",
    "                             data['Frequency'][i])\n",
    "    discounts = erk.discount(cf.index, .05/data['Frequency'][i])\n",
    "    dcf = discounts.mul(cf, axis=0)\n",
    "    weights = dcf/dcf.sum()\n",
    "    durationV = weights.mul(cf.index, axis=0)\n",
    "    print(i,\"=\", (durationV.sum().iloc[0]/data['Frequency'][i]).round(2))"
   ]
  },
  {
   "cell_type": "markdown",
   "metadata": {},
   "source": [
    "## Question 7"
   ]
  },
  {
   "cell_type": "code",
   "execution_count": 120,
   "metadata": {},
   "outputs": [
    {
     "data": {
      "text/plain": [
       "6.75"
      ]
     },
     "execution_count": 120,
     "metadata": {},
     "output_type": "execute_result"
    }
   ],
   "source": [
    "liabilities = pd.Series(data=[100000,200000,300000], index=[3,5,10])\n",
    "erk.macaulay_duration(liabilities, .05).round(2)"
   ]
  },
  {
   "cell_type": "markdown",
   "metadata": {},
   "source": [
    "## Question 8"
   ]
  },
  {
   "cell_type": "code",
   "execution_count": 127,
   "metadata": {},
   "outputs": [
    {
     "data": {
      "text/plain": [
       "62.58"
      ]
     },
     "execution_count": 127,
     "metadata": {},
     "output_type": "execute_result"
    }
   ],
   "source": [
    "d_t = 6.75\n",
    "d_s = 4.37\n",
    "d_l = 10.73\n",
    "w_s = (d_l - d_t)/(d_l - d_s)\n",
    "round(w_s*100, 2)"
   ]
  },
  {
   "cell_type": "markdown",
   "metadata": {},
   "source": [
    "## Question 9"
   ]
  },
  {
   "cell_type": "markdown",
   "metadata": {},
   "source": [
    "I cannot use B1 and B3 as both durations are higher than duration of liability portfolio"
   ]
  },
  {
   "cell_type": "markdown",
   "metadata": {},
   "source": [
    "## Question 10"
   ]
  },
  {
   "cell_type": "code",
   "execution_count": 129,
   "metadata": {},
   "outputs": [
    {
     "data": {
      "text/plain": [
       "57.73"
      ]
     },
     "execution_count": 129,
     "metadata": {},
     "output_type": "execute_result"
    }
   ],
   "source": [
    "d_t = 6.75\n",
    "d_s = 4.37\n",
    "d_l = 10.0\n",
    "w_s = (d_l - d_t)/(d_l - d_s)\n",
    "round(w_s*100, 2)"
   ]
  }
 ],
 "metadata": {
  "kernelspec": {
   "display_name": "Python 3",
   "language": "python",
   "name": "python3"
  },
  "language_info": {
   "codemirror_mode": {
    "name": "ipython",
    "version": 3
   },
   "file_extension": ".py",
   "mimetype": "text/x-python",
   "name": "python",
   "nbconvert_exporter": "python",
   "pygments_lexer": "ipython3",
   "version": "3.7.6"
  }
 },
 "nbformat": 4,
 "nbformat_minor": 4
}
