{
 "cells": [
  {
   "cell_type": "markdown",
   "metadata": {},
   "source": [
    "# Week 1 Graded Quiz"
   ]
  },
  {
   "cell_type": "code",
   "execution_count": 1,
   "metadata": {},
   "outputs": [],
   "source": [
    "import pandas as pd\n",
    "import edhec_risk_kit as erk\n",
    "import numpy as np\n",
    "\n",
    "%load_ext autoreload\n",
    "%autoreload 2\n",
    "%matplotlib inline"
   ]
  },
  {
   "cell_type": "markdown",
   "metadata": {},
   "source": [
    "## Question 1"
   ]
  },
  {
   "cell_type": "code",
   "execution_count": 9,
   "metadata": {},
   "outputs": [],
   "source": [
    "ind49_rets = erk.get_ind_returns(weighting=\"vw\", n_inds=49)[\"1991\":]"
   ]
  },
  {
   "cell_type": "code",
   "execution_count": 10,
   "metadata": {},
   "outputs": [
    {
     "data": {
      "text/html": [
       "<div>\n",
       "<style scoped>\n",
       "    .dataframe tbody tr th:only-of-type {\n",
       "        vertical-align: middle;\n",
       "    }\n",
       "\n",
       "    .dataframe tbody tr th {\n",
       "        vertical-align: top;\n",
       "    }\n",
       "\n",
       "    .dataframe thead th {\n",
       "        text-align: right;\n",
       "    }\n",
       "</style>\n",
       "<table border=\"1\" class=\"dataframe\">\n",
       "  <thead>\n",
       "    <tr style=\"text-align: right;\">\n",
       "      <th></th>\n",
       "      <th>Agric</th>\n",
       "      <th>Food</th>\n",
       "      <th>Soda</th>\n",
       "      <th>Beer</th>\n",
       "      <th>Smoke</th>\n",
       "      <th>Toys</th>\n",
       "      <th>Fun</th>\n",
       "      <th>Books</th>\n",
       "      <th>Hshld</th>\n",
       "      <th>Clths</th>\n",
       "      <th>...</th>\n",
       "      <th>Boxes</th>\n",
       "      <th>Trans</th>\n",
       "      <th>Whlsl</th>\n",
       "      <th>Rtail</th>\n",
       "      <th>Meals</th>\n",
       "      <th>Banks</th>\n",
       "      <th>Insur</th>\n",
       "      <th>RlEst</th>\n",
       "      <th>Fin</th>\n",
       "      <th>Other</th>\n",
       "    </tr>\n",
       "  </thead>\n",
       "  <tbody>\n",
       "    <tr>\n",
       "      <th>2018-08</th>\n",
       "      <td>0.0715</td>\n",
       "      <td>0.0114</td>\n",
       "      <td>-0.0308</td>\n",
       "      <td>-0.0186</td>\n",
       "      <td>-0.0543</td>\n",
       "      <td>0.0738</td>\n",
       "      <td>0.0250</td>\n",
       "      <td>-0.0463</td>\n",
       "      <td>0.0254</td>\n",
       "      <td>0.0526</td>\n",
       "      <td>...</td>\n",
       "      <td>-0.0062</td>\n",
       "      <td>0.0291</td>\n",
       "      <td>0.0366</td>\n",
       "      <td>0.0911</td>\n",
       "      <td>0.0364</td>\n",
       "      <td>0.0277</td>\n",
       "      <td>0.0352</td>\n",
       "      <td>-0.0423</td>\n",
       "      <td>0.0004</td>\n",
       "      <td>0.0333</td>\n",
       "    </tr>\n",
       "    <tr>\n",
       "      <th>2018-09</th>\n",
       "      <td>-0.0392</td>\n",
       "      <td>-0.0220</td>\n",
       "      <td>0.0310</td>\n",
       "      <td>0.0019</td>\n",
       "      <td>0.0537</td>\n",
       "      <td>0.0717</td>\n",
       "      <td>-0.0075</td>\n",
       "      <td>-0.0209</td>\n",
       "      <td>0.0107</td>\n",
       "      <td>0.0130</td>\n",
       "      <td>...</td>\n",
       "      <td>0.0189</td>\n",
       "      <td>0.0105</td>\n",
       "      <td>-0.0148</td>\n",
       "      <td>0.0061</td>\n",
       "      <td>0.0251</td>\n",
       "      <td>-0.0282</td>\n",
       "      <td>0.0116</td>\n",
       "      <td>-0.0492</td>\n",
       "      <td>-0.0340</td>\n",
       "      <td>0.0068</td>\n",
       "    </tr>\n",
       "    <tr>\n",
       "      <th>2018-10</th>\n",
       "      <td>-0.0197</td>\n",
       "      <td>0.0095</td>\n",
       "      <td>0.0118</td>\n",
       "      <td>-0.0157</td>\n",
       "      <td>0.0790</td>\n",
       "      <td>-0.1504</td>\n",
       "      <td>-0.1605</td>\n",
       "      <td>-0.0569</td>\n",
       "      <td>-0.0051</td>\n",
       "      <td>-0.1014</td>\n",
       "      <td>...</td>\n",
       "      <td>-0.1100</td>\n",
       "      <td>-0.0975</td>\n",
       "      <td>-0.0788</td>\n",
       "      <td>-0.1021</td>\n",
       "      <td>-0.0171</td>\n",
       "      <td>-0.0613</td>\n",
       "      <td>-0.0413</td>\n",
       "      <td>-0.1213</td>\n",
       "      <td>-0.0455</td>\n",
       "      <td>-0.0515</td>\n",
       "    </tr>\n",
       "    <tr>\n",
       "      <th>2018-11</th>\n",
       "      <td>-0.0357</td>\n",
       "      <td>0.0029</td>\n",
       "      <td>0.0684</td>\n",
       "      <td>0.0579</td>\n",
       "      <td>-0.0843</td>\n",
       "      <td>-0.0715</td>\n",
       "      <td>-0.0001</td>\n",
       "      <td>0.0375</td>\n",
       "      <td>0.0644</td>\n",
       "      <td>-0.0099</td>\n",
       "      <td>...</td>\n",
       "      <td>0.1021</td>\n",
       "      <td>0.0617</td>\n",
       "      <td>0.0318</td>\n",
       "      <td>0.0159</td>\n",
       "      <td>0.0616</td>\n",
       "      <td>0.0292</td>\n",
       "      <td>0.0432</td>\n",
       "      <td>0.0715</td>\n",
       "      <td>0.0006</td>\n",
       "      <td>0.0355</td>\n",
       "    </tr>\n",
       "    <tr>\n",
       "      <th>2018-12</th>\n",
       "      <td>-0.1093</td>\n",
       "      <td>-0.1093</td>\n",
       "      <td>-0.0783</td>\n",
       "      <td>-0.0969</td>\n",
       "      <td>-0.1580</td>\n",
       "      <td>-0.1635</td>\n",
       "      <td>-0.0750</td>\n",
       "      <td>-0.1442</td>\n",
       "      <td>-0.0557</td>\n",
       "      <td>-0.0728</td>\n",
       "      <td>...</td>\n",
       "      <td>-0.1248</td>\n",
       "      <td>-0.1519</td>\n",
       "      <td>-0.1121</td>\n",
       "      <td>-0.0919</td>\n",
       "      <td>-0.0628</td>\n",
       "      <td>-0.1279</td>\n",
       "      <td>-0.0985</td>\n",
       "      <td>-0.1172</td>\n",
       "      <td>-0.0874</td>\n",
       "      <td>-0.0654</td>\n",
       "    </tr>\n",
       "  </tbody>\n",
       "</table>\n",
       "<p>5 rows × 49 columns</p>\n",
       "</div>"
      ],
      "text/plain": [
       "          Agric    Food    Soda    Beer   Smoke    Toys     Fun   Books  \\\n",
       "2018-08  0.0715  0.0114 -0.0308 -0.0186 -0.0543  0.0738  0.0250 -0.0463   \n",
       "2018-09 -0.0392 -0.0220  0.0310  0.0019  0.0537  0.0717 -0.0075 -0.0209   \n",
       "2018-10 -0.0197  0.0095  0.0118 -0.0157  0.0790 -0.1504 -0.1605 -0.0569   \n",
       "2018-11 -0.0357  0.0029  0.0684  0.0579 -0.0843 -0.0715 -0.0001  0.0375   \n",
       "2018-12 -0.1093 -0.1093 -0.0783 -0.0969 -0.1580 -0.1635 -0.0750 -0.1442   \n",
       "\n",
       "          Hshld   Clths  ...   Boxes   Trans   Whlsl   Rtail   Meals   Banks  \\\n",
       "2018-08  0.0254  0.0526  ... -0.0062  0.0291  0.0366  0.0911  0.0364  0.0277   \n",
       "2018-09  0.0107  0.0130  ...  0.0189  0.0105 -0.0148  0.0061  0.0251 -0.0282   \n",
       "2018-10 -0.0051 -0.1014  ... -0.1100 -0.0975 -0.0788 -0.1021 -0.0171 -0.0613   \n",
       "2018-11  0.0644 -0.0099  ...  0.1021  0.0617  0.0318  0.0159  0.0616  0.0292   \n",
       "2018-12 -0.0557 -0.0728  ... -0.1248 -0.1519 -0.1121 -0.0919 -0.0628 -0.1279   \n",
       "\n",
       "          Insur   RlEst     Fin   Other  \n",
       "2018-08  0.0352 -0.0423  0.0004  0.0333  \n",
       "2018-09  0.0116 -0.0492 -0.0340  0.0068  \n",
       "2018-10 -0.0413 -0.1213 -0.0455 -0.0515  \n",
       "2018-11  0.0432  0.0715  0.0006  0.0355  \n",
       "2018-12 -0.0985 -0.1172 -0.0874 -0.0654  \n",
       "\n",
       "[5 rows x 49 columns]"
      ]
     },
     "execution_count": 10,
     "metadata": {},
     "output_type": "execute_result"
    }
   ],
   "source": [
    "ind49_rets.tail()"
   ]
  },
  {
   "cell_type": "code",
   "execution_count": 11,
   "metadata": {},
   "outputs": [
    {
     "data": {
      "text/html": [
       "<div>\n",
       "<style scoped>\n",
       "    .dataframe tbody tr th:only-of-type {\n",
       "        vertical-align: middle;\n",
       "    }\n",
       "\n",
       "    .dataframe tbody tr th {\n",
       "        vertical-align: top;\n",
       "    }\n",
       "\n",
       "    .dataframe thead th {\n",
       "        text-align: right;\n",
       "    }\n",
       "</style>\n",
       "<table border=\"1\" class=\"dataframe\">\n",
       "  <thead>\n",
       "    <tr style=\"text-align: right;\">\n",
       "      <th></th>\n",
       "      <th>Mkt-RF</th>\n",
       "      <th>SMB</th>\n",
       "      <th>HML</th>\n",
       "      <th>RF</th>\n",
       "    </tr>\n",
       "  </thead>\n",
       "  <tbody>\n",
       "    <tr>\n",
       "      <th>1991-01</th>\n",
       "      <td>0.0469</td>\n",
       "      <td>0.0379</td>\n",
       "      <td>-0.0184</td>\n",
       "      <td>0.0052</td>\n",
       "    </tr>\n",
       "    <tr>\n",
       "      <th>1991-02</th>\n",
       "      <td>0.0719</td>\n",
       "      <td>0.0395</td>\n",
       "      <td>-0.0054</td>\n",
       "      <td>0.0048</td>\n",
       "    </tr>\n",
       "    <tr>\n",
       "      <th>1991-03</th>\n",
       "      <td>0.0265</td>\n",
       "      <td>0.0389</td>\n",
       "      <td>-0.0123</td>\n",
       "      <td>0.0044</td>\n",
       "    </tr>\n",
       "    <tr>\n",
       "      <th>1991-04</th>\n",
       "      <td>-0.0028</td>\n",
       "      <td>0.0050</td>\n",
       "      <td>0.0142</td>\n",
       "      <td>0.0053</td>\n",
       "    </tr>\n",
       "    <tr>\n",
       "      <th>1991-05</th>\n",
       "      <td>0.0365</td>\n",
       "      <td>-0.0034</td>\n",
       "      <td>-0.0057</td>\n",
       "      <td>0.0047</td>\n",
       "    </tr>\n",
       "  </tbody>\n",
       "</table>\n",
       "</div>"
      ],
      "text/plain": [
       "         Mkt-RF     SMB     HML      RF\n",
       "1991-01  0.0469  0.0379 -0.0184  0.0052\n",
       "1991-02  0.0719  0.0395 -0.0054  0.0048\n",
       "1991-03  0.0265  0.0389 -0.0123  0.0044\n",
       "1991-04 -0.0028  0.0050  0.0142  0.0053\n",
       "1991-05  0.0365 -0.0034 -0.0057  0.0047"
      ]
     },
     "execution_count": 11,
     "metadata": {},
     "output_type": "execute_result"
    }
   ],
   "source": [
    "fff = erk.get_fff_returns()[\"1991\":]\n",
    "fff.head()"
   ]
  },
  {
   "cell_type": "code",
   "execution_count": 12,
   "metadata": {},
   "outputs": [
    {
     "data": {
      "text/plain": [
       "((336, 49), (336, 1))"
      ]
     },
     "execution_count": 12,
     "metadata": {},
     "output_type": "execute_result"
    }
   ],
   "source": [
    "import statsmodels.api as sm\n",
    "\n",
    "ind49_excess = ind49_rets[\"1991\":] - fff.loc[\"1991\":, ['RF']].values\n",
    "mkt_excess = fff.loc[\"1991\":,['Mkt-RF']]\n",
    "ind49_excess.shape, mkt_excess.shape"
   ]
  },
  {
   "cell_type": "code",
   "execution_count": 13,
   "metadata": {},
   "outputs": [
    {
     "data": {
      "text/plain": [
       "(336, 2)"
      ]
     },
     "execution_count": 13,
     "metadata": {},
     "output_type": "execute_result"
    }
   ],
   "source": [
    "exp_var = mkt_excess.copy()\n",
    "exp_var[\"Constant\"] = 1\n",
    "exp_var.shape"
   ]
  },
  {
   "cell_type": "code",
   "execution_count": 32,
   "metadata": {},
   "outputs": [
    {
     "data": {
      "text/plain": [
       "Mkt-RF      0.53\n",
       "Constant    0.00\n",
       "dtype: float64"
      ]
     },
     "execution_count": 32,
     "metadata": {},
     "output_type": "execute_result"
    }
   ],
   "source": [
    "sm.OLS(ind49_excess[:][\"Beer\"], exp_var[:]).fit().params.round(2)"
   ]
  },
  {
   "cell_type": "markdown",
   "metadata": {},
   "source": [
    "## Question 2"
   ]
  },
  {
   "cell_type": "code",
   "execution_count": 33,
   "metadata": {},
   "outputs": [
    {
     "data": {
      "text/plain": [
       "Mkt-RF      1.55\n",
       "Constant   -0.01\n",
       "dtype: float64"
      ]
     },
     "execution_count": 33,
     "metadata": {},
     "output_type": "execute_result"
    }
   ],
   "source": [
    "sm.OLS(ind49_excess[:][\"Steel\"], exp_var[:]).fit().params.round(2)"
   ]
  },
  {
   "cell_type": "markdown",
   "metadata": {},
   "source": [
    "## Question 3"
   ]
  },
  {
   "cell_type": "code",
   "execution_count": 50,
   "metadata": {},
   "outputs": [
    {
     "data": {
      "text/plain": [
       "Mkt-RF      0.59\n",
       "Constant    0.00\n",
       "dtype: float64"
      ]
     },
     "execution_count": 50,
     "metadata": {},
     "output_type": "execute_result"
    }
   ],
   "source": [
    "sm.OLS(ind49_excess[\"2013\":][\"Beer\"], exp_var[\"2013\":]).fit().params.round(2)"
   ]
  },
  {
   "cell_type": "markdown",
   "metadata": {},
   "source": [
    "## Question 4"
   ]
  },
  {
   "cell_type": "code",
   "execution_count": 51,
   "metadata": {},
   "outputs": [
    {
     "data": {
      "text/plain": [
       "Mkt-RF      1.42\n",
       "Constant   -0.01\n",
       "dtype: float64"
      ]
     },
     "execution_count": 51,
     "metadata": {},
     "output_type": "execute_result"
    }
   ],
   "source": [
    "sm.OLS(ind49_excess[\"2013\":][\"Steel\"], exp_var[\"2013\":]).fit().params.round(2)"
   ]
  },
  {
   "cell_type": "markdown",
   "metadata": {},
   "source": [
    "## Question 5"
   ]
  },
  {
   "cell_type": "code",
   "execution_count": 90,
   "metadata": {},
   "outputs": [
    {
     "data": {
      "text/plain": [
       "'Hlth'"
      ]
     },
     "execution_count": 90,
     "metadata": {},
     "output_type": "execute_result"
    }
   ],
   "source": [
    "tmp = {}\n",
    "for name in ind49_excess.columns:\n",
    "    tmp[name] = sm.OLS(ind49_excess[\"1991\":\"1993\"][name], exp_var[\"1991\":\"1993\"]).fit().params.iloc[0]\n",
    "max(tmp, key=tmp.get)"
   ]
  },
  {
   "cell_type": "markdown",
   "metadata": {},
   "source": [
    "## Question 6"
   ]
  },
  {
   "cell_type": "code",
   "execution_count": 91,
   "metadata": {},
   "outputs": [
    {
     "data": {
      "text/plain": [
       "'Gold'"
      ]
     },
     "execution_count": 91,
     "metadata": {},
     "output_type": "execute_result"
    }
   ],
   "source": [
    "tmp = {}\n",
    "for name in ind49_excess.columns:\n",
    "    tmp[name] = sm.OLS(ind49_excess[\"1991\":\"1993\"][name], exp_var[\"1991\":\"1993\"]).fit().params.iloc[0]\n",
    "min(tmp, key=tmp.get)"
   ]
  },
  {
   "cell_type": "markdown",
   "metadata": {},
   "source": [
    "## Question 7"
   ]
  },
  {
   "cell_type": "code",
   "execution_count": 97,
   "metadata": {},
   "outputs": [
    {
     "data": {
      "text/html": [
       "<div>\n",
       "<style scoped>\n",
       "    .dataframe tbody tr th:only-of-type {\n",
       "        vertical-align: middle;\n",
       "    }\n",
       "\n",
       "    .dataframe tbody tr th {\n",
       "        vertical-align: top;\n",
       "    }\n",
       "\n",
       "    .dataframe thead th {\n",
       "        text-align: right;\n",
       "    }\n",
       "</style>\n",
       "<table border=\"1\" class=\"dataframe\">\n",
       "  <thead>\n",
       "    <tr style=\"text-align: right;\">\n",
       "      <th></th>\n",
       "      <th>Mkt-RF</th>\n",
       "      <th>Constant</th>\n",
       "      <th>HML</th>\n",
       "      <th>SMB</th>\n",
       "    </tr>\n",
       "  </thead>\n",
       "  <tbody>\n",
       "    <tr>\n",
       "      <th>1991-01</th>\n",
       "      <td>0.0469</td>\n",
       "      <td>1</td>\n",
       "      <td>-0.0184</td>\n",
       "      <td>0.0379</td>\n",
       "    </tr>\n",
       "    <tr>\n",
       "      <th>1991-02</th>\n",
       "      <td>0.0719</td>\n",
       "      <td>1</td>\n",
       "      <td>-0.0054</td>\n",
       "      <td>0.0395</td>\n",
       "    </tr>\n",
       "    <tr>\n",
       "      <th>1991-03</th>\n",
       "      <td>0.0265</td>\n",
       "      <td>1</td>\n",
       "      <td>-0.0123</td>\n",
       "      <td>0.0389</td>\n",
       "    </tr>\n",
       "    <tr>\n",
       "      <th>1991-04</th>\n",
       "      <td>-0.0028</td>\n",
       "      <td>1</td>\n",
       "      <td>0.0142</td>\n",
       "      <td>0.0050</td>\n",
       "    </tr>\n",
       "    <tr>\n",
       "      <th>1991-05</th>\n",
       "      <td>0.0365</td>\n",
       "      <td>1</td>\n",
       "      <td>-0.0057</td>\n",
       "      <td>-0.0034</td>\n",
       "    </tr>\n",
       "  </tbody>\n",
       "</table>\n",
       "</div>"
      ],
      "text/plain": [
       "         Mkt-RF  Constant     HML     SMB\n",
       "1991-01  0.0469         1 -0.0184  0.0379\n",
       "1991-02  0.0719         1 -0.0054  0.0395\n",
       "1991-03  0.0265         1 -0.0123  0.0389\n",
       "1991-04 -0.0028         1  0.0142  0.0050\n",
       "1991-05  0.0365         1 -0.0057 -0.0034"
      ]
     },
     "execution_count": 97,
     "metadata": {},
     "output_type": "execute_result"
    }
   ],
   "source": [
    "exp_var2 = exp_var.copy()\n",
    "exp_var2[\"HML\"] = fff.loc[\"1991\":,['HML']]\n",
    "exp_var2[\"SMB\"] = fff.loc[\"1991\":,['SMB']]\n",
    "exp_var2.head()"
   ]
  },
  {
   "cell_type": "code",
   "execution_count": 105,
   "metadata": {},
   "outputs": [
    {
     "data": {
      "text/plain": [
       "-0.36"
      ]
     },
     "execution_count": 105,
     "metadata": {},
     "output_type": "execute_result"
    }
   ],
   "source": [
    "# Test regression\n",
    "sm.OLS(ind49_excess[:][\"Beer\"], exp_var2[:]).fit().params.iloc[3].round(2)"
   ]
  },
  {
   "cell_type": "code",
   "execution_count": 107,
   "metadata": {},
   "outputs": [
    {
     "data": {
      "text/plain": [
       "'FabPr'"
      ]
     },
     "execution_count": 107,
     "metadata": {},
     "output_type": "execute_result"
    }
   ],
   "source": [
    "tmp2 = {}\n",
    "for name in ind49_excess.columns:\n",
    "    tmp2[name] = sm.OLS(ind49_excess[:][name], exp_var2[:]).fit().params.iloc[3].round(2)\n",
    "max(tmp2, key=tmp2.get)"
   ]
  },
  {
   "cell_type": "markdown",
   "metadata": {},
   "source": [
    "## Question 8"
   ]
  },
  {
   "cell_type": "code",
   "execution_count": 108,
   "metadata": {},
   "outputs": [
    {
     "data": {
      "text/plain": [
       "'Beer'"
      ]
     },
     "execution_count": 108,
     "metadata": {},
     "output_type": "execute_result"
    }
   ],
   "source": [
    "min(tmp2, key=tmp2.get)"
   ]
  },
  {
   "cell_type": "markdown",
   "metadata": {},
   "source": [
    "## Question 9"
   ]
  },
  {
   "cell_type": "code",
   "execution_count": 111,
   "metadata": {},
   "outputs": [
    {
     "data": {
      "text/plain": [
       "0.01"
      ]
     },
     "execution_count": 111,
     "metadata": {},
     "output_type": "execute_result"
    }
   ],
   "source": [
    "# Test regression\n",
    "sm.OLS(ind49_excess[:][\"Beer\"], exp_var2[:]).fit().params.iloc[2].round(2)"
   ]
  },
  {
   "cell_type": "code",
   "execution_count": 112,
   "metadata": {},
   "outputs": [
    {
     "data": {
      "text/plain": [
       "'Txtls'"
      ]
     },
     "execution_count": 112,
     "metadata": {},
     "output_type": "execute_result"
    }
   ],
   "source": [
    "tmp3 = {}\n",
    "for name in ind49_excess.columns:\n",
    "    tmp3[name] = sm.OLS(ind49_excess[:][name], exp_var2[:]).fit().params.iloc[2].round(2)\n",
    "max(tmp3, key=tmp3.get)"
   ]
  },
  {
   "cell_type": "markdown",
   "metadata": {},
   "source": [
    "## Question 9"
   ]
  },
  {
   "cell_type": "code",
   "execution_count": 114,
   "metadata": {},
   "outputs": [
    {
     "data": {
      "text/plain": [
       "'Softw'"
      ]
     },
     "execution_count": 114,
     "metadata": {},
     "output_type": "execute_result"
    }
   ],
   "source": [
    "min(tmp3, key=tmp3.get)"
   ]
  },
  {
   "cell_type": "code",
   "execution_count": null,
   "metadata": {},
   "outputs": [],
   "source": []
  }
 ],
 "metadata": {
  "kernelspec": {
   "display_name": "Python 3",
   "language": "python",
   "name": "python3"
  },
  "language_info": {
   "codemirror_mode": {
    "name": "ipython",
    "version": 3
   },
   "file_extension": ".py",
   "mimetype": "text/x-python",
   "name": "python",
   "nbconvert_exporter": "python",
   "pygments_lexer": "ipython3",
   "version": "3.8.3"
  }
 },
 "nbformat": 4,
 "nbformat_minor": 4
}
