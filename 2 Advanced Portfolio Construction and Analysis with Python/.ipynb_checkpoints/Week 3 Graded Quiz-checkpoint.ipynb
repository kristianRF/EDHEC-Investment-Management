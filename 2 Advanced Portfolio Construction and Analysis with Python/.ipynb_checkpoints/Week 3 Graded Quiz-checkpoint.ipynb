{
 "cells": [
  {
   "cell_type": "markdown",
   "metadata": {},
   "source": [
    "# Week 3 Graded Quiz"
   ]
  },
  {
   "cell_type": "code",
   "execution_count": 1,
   "metadata": {},
   "outputs": [],
   "source": [
    "import pandas as pd\n",
    "import edhec_risk_kit as erk\n",
    "import numpy as np\n",
    "from numpy.linalg import inv\n",
    "\n",
    "%load_ext autoreload\n",
    "%autoreload 2\n",
    "%matplotlib inline"
   ]
  },
  {
   "cell_type": "markdown",
   "metadata": {},
   "source": [
    "## Question 1"
   ]
  },
  {
   "cell_type": "code",
   "execution_count": 2,
   "metadata": {},
   "outputs": [],
   "source": [
    "industries = ['Hlth', 'Fin', 'Whlsl', 'Rtail', 'Food']\n",
    "ind_rets = erk.get_ind_file('returns',weighting=\"vw\", n_inds=49)[\"2013\":\"2018\"][industries]"
   ]
  },
  {
   "cell_type": "code",
   "execution_count": 3,
   "metadata": {},
   "outputs": [
    {
     "data": {
      "text/html": [
       "<div>\n",
       "<style scoped>\n",
       "    .dataframe tbody tr th:only-of-type {\n",
       "        vertical-align: middle;\n",
       "    }\n",
       "\n",
       "    .dataframe tbody tr th {\n",
       "        vertical-align: top;\n",
       "    }\n",
       "\n",
       "    .dataframe thead th {\n",
       "        text-align: right;\n",
       "    }\n",
       "</style>\n",
       "<table border=\"1\" class=\"dataframe\">\n",
       "  <thead>\n",
       "    <tr style=\"text-align: right;\">\n",
       "      <th></th>\n",
       "      <th>Hlth</th>\n",
       "      <th>Fin</th>\n",
       "      <th>Whlsl</th>\n",
       "      <th>Rtail</th>\n",
       "      <th>Food</th>\n",
       "    </tr>\n",
       "  </thead>\n",
       "  <tbody>\n",
       "    <tr>\n",
       "      <th>2013-01</th>\n",
       "      <td>0.0966</td>\n",
       "      <td>0.1300</td>\n",
       "      <td>0.0646</td>\n",
       "      <td>0.0541</td>\n",
       "      <td>0.0754</td>\n",
       "    </tr>\n",
       "    <tr>\n",
       "      <th>2013-02</th>\n",
       "      <td>0.0078</td>\n",
       "      <td>0.0177</td>\n",
       "      <td>0.0207</td>\n",
       "      <td>0.0061</td>\n",
       "      <td>0.0483</td>\n",
       "    </tr>\n",
       "    <tr>\n",
       "      <th>2013-03</th>\n",
       "      <td>0.0591</td>\n",
       "      <td>0.0360</td>\n",
       "      <td>0.0325</td>\n",
       "      <td>0.0477</td>\n",
       "      <td>0.0798</td>\n",
       "    </tr>\n",
       "    <tr>\n",
       "      <th>2013-04</th>\n",
       "      <td>-0.0034</td>\n",
       "      <td>-0.0002</td>\n",
       "      <td>0.0017</td>\n",
       "      <td>0.0320</td>\n",
       "      <td>0.0174</td>\n",
       "    </tr>\n",
       "    <tr>\n",
       "      <th>2013-05</th>\n",
       "      <td>0.0454</td>\n",
       "      <td>0.0842</td>\n",
       "      <td>0.0385</td>\n",
       "      <td>0.0239</td>\n",
       "      <td>-0.0201</td>\n",
       "    </tr>\n",
       "    <tr>\n",
       "      <th>...</th>\n",
       "      <td>...</td>\n",
       "      <td>...</td>\n",
       "      <td>...</td>\n",
       "      <td>...</td>\n",
       "      <td>...</td>\n",
       "    </tr>\n",
       "    <tr>\n",
       "      <th>2018-08</th>\n",
       "      <td>0.0585</td>\n",
       "      <td>0.0004</td>\n",
       "      <td>0.0366</td>\n",
       "      <td>0.0911</td>\n",
       "      <td>0.0114</td>\n",
       "    </tr>\n",
       "    <tr>\n",
       "      <th>2018-09</th>\n",
       "      <td>-0.0045</td>\n",
       "      <td>-0.0340</td>\n",
       "      <td>-0.0148</td>\n",
       "      <td>0.0061</td>\n",
       "      <td>-0.0220</td>\n",
       "    </tr>\n",
       "    <tr>\n",
       "      <th>2018-10</th>\n",
       "      <td>-0.0659</td>\n",
       "      <td>-0.0455</td>\n",
       "      <td>-0.0788</td>\n",
       "      <td>-0.1021</td>\n",
       "      <td>0.0095</td>\n",
       "    </tr>\n",
       "    <tr>\n",
       "      <th>2018-11</th>\n",
       "      <td>0.0356</td>\n",
       "      <td>0.0006</td>\n",
       "      <td>0.0318</td>\n",
       "      <td>0.0159</td>\n",
       "      <td>0.0029</td>\n",
       "    </tr>\n",
       "    <tr>\n",
       "      <th>2018-12</th>\n",
       "      <td>-0.1546</td>\n",
       "      <td>-0.0874</td>\n",
       "      <td>-0.1121</td>\n",
       "      <td>-0.0919</td>\n",
       "      <td>-0.1093</td>\n",
       "    </tr>\n",
       "  </tbody>\n",
       "</table>\n",
       "<p>72 rows × 5 columns</p>\n",
       "</div>"
      ],
      "text/plain": [
       "           Hlth     Fin   Whlsl   Rtail    Food\n",
       "2013-01  0.0966  0.1300  0.0646  0.0541  0.0754\n",
       "2013-02  0.0078  0.0177  0.0207  0.0061  0.0483\n",
       "2013-03  0.0591  0.0360  0.0325  0.0477  0.0798\n",
       "2013-04 -0.0034 -0.0002  0.0017  0.0320  0.0174\n",
       "2013-05  0.0454  0.0842  0.0385  0.0239 -0.0201\n",
       "...         ...     ...     ...     ...     ...\n",
       "2018-08  0.0585  0.0004  0.0366  0.0911  0.0114\n",
       "2018-09 -0.0045 -0.0340 -0.0148  0.0061 -0.0220\n",
       "2018-10 -0.0659 -0.0455 -0.0788 -0.1021  0.0095\n",
       "2018-11  0.0356  0.0006  0.0318  0.0159  0.0029\n",
       "2018-12 -0.1546 -0.0874 -0.1121 -0.0919 -0.1093\n",
       "\n",
       "[72 rows x 5 columns]"
      ]
     },
     "execution_count": 3,
     "metadata": {},
     "output_type": "execute_result"
    }
   ],
   "source": [
    "ind_rets"
   ]
  },
  {
   "cell_type": "code",
   "execution_count": 4,
   "metadata": {},
   "outputs": [],
   "source": [
    "ind_mcap = erk.get_ind_market_caps(49, weights=True)[\"2013\":\"2018\"][industries]\n",
    "#ind_mcap = ind_mcap.div(ind_mcap.sum(axis = 1), axis=0) "
   ]
  },
  {
   "cell_type": "code",
   "execution_count": 5,
   "metadata": {},
   "outputs": [
    {
     "name": "stdout",
     "output_type": "stream",
     "text": [
      "The highest capweight is: Rtail\n"
     ]
    }
   ],
   "source": [
    "# Cap weights\n",
    "cap_wts = erk.weight_cw(ind_rets, cap_weights=ind_mcap)\n",
    "\n",
    "print('The highest capweight is:', pd.Series.idxmax(cap_wts))"
   ]
  },
  {
   "cell_type": "markdown",
   "metadata": {},
   "source": [
    "## Question 2"
   ]
  },
  {
   "cell_type": "code",
   "execution_count": 6,
   "metadata": {},
   "outputs": [
    {
     "data": {
      "text/html": [
       "<div>\n",
       "<style scoped>\n",
       "    .dataframe tbody tr th:only-of-type {\n",
       "        vertical-align: middle;\n",
       "    }\n",
       "\n",
       "    .dataframe tbody tr th {\n",
       "        vertical-align: top;\n",
       "    }\n",
       "\n",
       "    .dataframe thead th {\n",
       "        text-align: right;\n",
       "    }\n",
       "</style>\n",
       "<table border=\"1\" class=\"dataframe\">\n",
       "  <thead>\n",
       "    <tr style=\"text-align: right;\">\n",
       "      <th></th>\n",
       "      <th>Hlth</th>\n",
       "      <th>Fin</th>\n",
       "      <th>Whlsl</th>\n",
       "      <th>Rtail</th>\n",
       "      <th>Food</th>\n",
       "    </tr>\n",
       "  </thead>\n",
       "  <tbody>\n",
       "    <tr>\n",
       "      <th>Hlth</th>\n",
       "      <td>1.000000</td>\n",
       "      <td>0.524886</td>\n",
       "      <td>0.650900</td>\n",
       "      <td>0.574227</td>\n",
       "      <td>0.371698</td>\n",
       "    </tr>\n",
       "    <tr>\n",
       "      <th>Fin</th>\n",
       "      <td>0.524886</td>\n",
       "      <td>1.000000</td>\n",
       "      <td>0.777653</td>\n",
       "      <td>0.595332</td>\n",
       "      <td>0.343016</td>\n",
       "    </tr>\n",
       "    <tr>\n",
       "      <th>Whlsl</th>\n",
       "      <td>0.650900</td>\n",
       "      <td>0.777653</td>\n",
       "      <td>1.000000</td>\n",
       "      <td>0.743754</td>\n",
       "      <td>0.541244</td>\n",
       "    </tr>\n",
       "    <tr>\n",
       "      <th>Rtail</th>\n",
       "      <td>0.574227</td>\n",
       "      <td>0.595332</td>\n",
       "      <td>0.743754</td>\n",
       "      <td>1.000000</td>\n",
       "      <td>0.575063</td>\n",
       "    </tr>\n",
       "    <tr>\n",
       "      <th>Food</th>\n",
       "      <td>0.371698</td>\n",
       "      <td>0.343016</td>\n",
       "      <td>0.541244</td>\n",
       "      <td>0.575063</td>\n",
       "      <td>1.000000</td>\n",
       "    </tr>\n",
       "  </tbody>\n",
       "</table>\n",
       "</div>"
      ],
      "text/plain": [
       "           Hlth       Fin     Whlsl     Rtail      Food\n",
       "Hlth   1.000000  0.524886  0.650900  0.574227  0.371698\n",
       "Fin    0.524886  1.000000  0.777653  0.595332  0.343016\n",
       "Whlsl  0.650900  0.777653  1.000000  0.743754  0.541244\n",
       "Rtail  0.574227  0.595332  0.743754  1.000000  0.575063\n",
       "Food   0.371698  0.343016  0.541244  0.575063  1.000000"
      ]
     },
     "execution_count": 6,
     "metadata": {},
     "output_type": "execute_result"
    }
   ],
   "source": [
    "cormat = ind_rets.corr()\n",
    "cormat"
   ]
  },
  {
   "cell_type": "code",
   "execution_count": 7,
   "metadata": {},
   "outputs": [
    {
     "data": {
      "text/plain": [
       "Hlth     0.162801\n",
       "Fin      0.167753\n",
       "Whlsl    0.135644\n",
       "Rtail    0.141238\n",
       "Food     0.125401\n",
       "dtype: float64"
      ]
     },
     "execution_count": 7,
     "metadata": {},
     "output_type": "execute_result"
    }
   ],
   "source": [
    "vol = ind_rets.std() * np.sqrt(12)\n",
    "vol"
   ]
  },
  {
   "cell_type": "code",
   "execution_count": 8,
   "metadata": {},
   "outputs": [
    {
     "data": {
      "text/html": [
       "<div>\n",
       "<style scoped>\n",
       "    .dataframe tbody tr th:only-of-type {\n",
       "        vertical-align: middle;\n",
       "    }\n",
       "\n",
       "    .dataframe tbody tr th {\n",
       "        vertical-align: top;\n",
       "    }\n",
       "\n",
       "    .dataframe thead th {\n",
       "        text-align: right;\n",
       "    }\n",
       "</style>\n",
       "<table border=\"1\" class=\"dataframe\">\n",
       "  <thead>\n",
       "    <tr style=\"text-align: right;\">\n",
       "      <th></th>\n",
       "      <th>Hlth</th>\n",
       "      <th>Fin</th>\n",
       "      <th>Whlsl</th>\n",
       "      <th>Rtail</th>\n",
       "      <th>Food</th>\n",
       "    </tr>\n",
       "  </thead>\n",
       "  <tbody>\n",
       "    <tr>\n",
       "      <th>Hlth</th>\n",
       "      <td>0.108718</td>\n",
       "      <td>0.057064</td>\n",
       "      <td>0.070764</td>\n",
       "      <td>0.062429</td>\n",
       "      <td>0.040410</td>\n",
       "    </tr>\n",
       "    <tr>\n",
       "      <th>Fin</th>\n",
       "      <td>0.057064</td>\n",
       "      <td>0.108718</td>\n",
       "      <td>0.084545</td>\n",
       "      <td>0.064723</td>\n",
       "      <td>0.037292</td>\n",
       "    </tr>\n",
       "    <tr>\n",
       "      <th>Whlsl</th>\n",
       "      <td>0.070764</td>\n",
       "      <td>0.084545</td>\n",
       "      <td>0.108718</td>\n",
       "      <td>0.080859</td>\n",
       "      <td>0.058843</td>\n",
       "    </tr>\n",
       "    <tr>\n",
       "      <th>Rtail</th>\n",
       "      <td>0.062429</td>\n",
       "      <td>0.064723</td>\n",
       "      <td>0.080859</td>\n",
       "      <td>0.108718</td>\n",
       "      <td>0.062519</td>\n",
       "    </tr>\n",
       "    <tr>\n",
       "      <th>Food</th>\n",
       "      <td>0.040410</td>\n",
       "      <td>0.037292</td>\n",
       "      <td>0.058843</td>\n",
       "      <td>0.062519</td>\n",
       "      <td>0.108718</td>\n",
       "    </tr>\n",
       "  </tbody>\n",
       "</table>\n",
       "</div>"
      ],
      "text/plain": [
       "           Hlth       Fin     Whlsl     Rtail      Food\n",
       "Hlth   0.108718  0.057064  0.070764  0.062429  0.040410\n",
       "Fin    0.057064  0.108718  0.084545  0.064723  0.037292\n",
       "Whlsl  0.070764  0.084545  0.108718  0.080859  0.058843\n",
       "Rtail  0.062429  0.064723  0.080859  0.108718  0.062519\n",
       "Food   0.040410  0.037292  0.058843  0.062519  0.108718"
      ]
     },
     "execution_count": 8,
     "metadata": {},
     "output_type": "execute_result"
    }
   ],
   "source": [
    "sigma = (vol @ vol) * cormat\n",
    "sigma"
   ]
  },
  {
   "cell_type": "code",
   "execution_count": 9,
   "metadata": {},
   "outputs": [
    {
     "name": "stdout",
     "output_type": "stream",
     "text": [
      "The highest implied return is: Rtail\n"
     ]
    }
   ],
   "source": [
    "delta = 2.5\n",
    "imp_ret = erk.implied_returns(delta, sigma, cap_wts)\n",
    "\n",
    "print('The highest implied return is:', pd.Series.idxmax(imp_ret))"
   ]
  },
  {
   "cell_type": "markdown",
   "metadata": {},
   "source": [
    "## Question 3"
   ]
  },
  {
   "cell_type": "code",
   "execution_count": 10,
   "metadata": {},
   "outputs": [
    {
     "name": "stdout",
     "output_type": "stream",
     "text": [
      "The lowest implied return is: Hlth\n"
     ]
    }
   ],
   "source": [
    "print('The lowest implied return is:', pd.Series.idxmax(-imp_ret))"
   ]
  },
  {
   "cell_type": "markdown",
   "metadata": {},
   "source": [
    "## Question 4 + 5"
   ]
  },
  {
   "cell_type": "code",
   "execution_count": 11,
   "metadata": {},
   "outputs": [
    {
     "data": {
      "text/plain": [
       "0    0.03\n",
       "dtype: float64"
      ]
     },
     "execution_count": 11,
     "metadata": {},
     "output_type": "execute_result"
    }
   ],
   "source": [
    "# Relative View 1: Hlth will outperform Rtail and Whlsl by 3%\n",
    "q = pd.Series([0.03])\n",
    "q"
   ]
  },
  {
   "cell_type": "code",
   "execution_count": 12,
   "metadata": {},
   "outputs": [
    {
     "data": {
      "text/html": [
       "<div>\n",
       "<style scoped>\n",
       "    .dataframe tbody tr th:only-of-type {\n",
       "        vertical-align: middle;\n",
       "    }\n",
       "\n",
       "    .dataframe tbody tr th {\n",
       "        vertical-align: top;\n",
       "    }\n",
       "\n",
       "    .dataframe thead th {\n",
       "        text-align: right;\n",
       "    }\n",
       "</style>\n",
       "<table border=\"1\" class=\"dataframe\">\n",
       "  <thead>\n",
       "    <tr style=\"text-align: right;\">\n",
       "      <th></th>\n",
       "      <th>Hlth</th>\n",
       "      <th>Fin</th>\n",
       "      <th>Whlsl</th>\n",
       "      <th>Rtail</th>\n",
       "      <th>Food</th>\n",
       "    </tr>\n",
       "  </thead>\n",
       "  <tbody>\n",
       "    <tr>\n",
       "      <th>0</th>\n",
       "      <td>0</td>\n",
       "      <td>0</td>\n",
       "      <td>0</td>\n",
       "      <td>0</td>\n",
       "      <td>0</td>\n",
       "    </tr>\n",
       "  </tbody>\n",
       "</table>\n",
       "</div>"
      ],
      "text/plain": [
       "   Hlth  Fin  Whlsl  Rtail  Food\n",
       "0     0    0      0      0     0"
      ]
     },
     "execution_count": 12,
     "metadata": {},
     "output_type": "execute_result"
    }
   ],
   "source": [
    "# The Pick Matrix\n",
    "p = pd.DataFrame([0] * len(industries), index = industries)\n",
    "p.T"
   ]
  },
  {
   "cell_type": "code",
   "execution_count": 13,
   "metadata": {},
   "outputs": [],
   "source": [
    "w_Rtail = cap_wts.loc['Rtail'] / (cap_wts.loc['Rtail'] + cap_wts.loc['Whlsl'])\n",
    "w_Whlsl = cap_wts.loc['Whlsl'] / (cap_wts.loc['Rtail'] + cap_wts.loc['Whlsl'])"
   ]
  },
  {
   "cell_type": "code",
   "execution_count": 14,
   "metadata": {},
   "outputs": [
    {
     "data": {
      "text/html": [
       "<div>\n",
       "<style scoped>\n",
       "    .dataframe tbody tr th:only-of-type {\n",
       "        vertical-align: middle;\n",
       "    }\n",
       "\n",
       "    .dataframe tbody tr th {\n",
       "        vertical-align: top;\n",
       "    }\n",
       "\n",
       "    .dataframe thead th {\n",
       "        text-align: right;\n",
       "    }\n",
       "</style>\n",
       "<table border=\"1\" class=\"dataframe\">\n",
       "  <thead>\n",
       "    <tr style=\"text-align: right;\">\n",
       "      <th></th>\n",
       "      <th>Hlth</th>\n",
       "      <th>Fin</th>\n",
       "      <th>Whlsl</th>\n",
       "      <th>Rtail</th>\n",
       "      <th>Food</th>\n",
       "    </tr>\n",
       "  </thead>\n",
       "  <tbody>\n",
       "    <tr>\n",
       "      <th>0</th>\n",
       "      <td>1.0</td>\n",
       "      <td>0.0</td>\n",
       "      <td>-0.15</td>\n",
       "      <td>-0.85</td>\n",
       "      <td>0.0</td>\n",
       "    </tr>\n",
       "  </tbody>\n",
       "</table>\n",
       "</div>"
      ],
      "text/plain": [
       "   Hlth  Fin  Whlsl  Rtail  Food\n",
       "0   1.0  0.0  -0.15  -0.85   0.0"
      ]
     },
     "execution_count": 14,
     "metadata": {},
     "output_type": "execute_result"
    }
   ],
   "source": [
    "p.loc['Hlth'], p.loc['Rtail'], p.loc['Whlsl'] = 1, -w_Rtail, -w_Whlsl\n",
    "p = p.T\n",
    "p.round(2)"
   ]
  },
  {
   "cell_type": "markdown",
   "metadata": {},
   "source": [
    "## Question 6"
   ]
  },
  {
   "cell_type": "code",
   "execution_count": 15,
   "metadata": {},
   "outputs": [],
   "source": [
    "def w_msr(sigma, mu, scale=True):\n",
    "    \"\"\"\n",
    "    Optimal (Tangent/Max Sharpe Ratio) Portfolio weights\n",
    "    by using the Markowitz Optimization Procedure\n",
    "    Mu is the vector of Excess expected Returns\n",
    "    Sigma must be an N x N matrix as a DataFrame and Mu a column vector as a Series\n",
    "    This implements page 188 Equation 5.2.28 of\n",
    "    \"The econometrics of financial markets\" Campbell, Lo and Mackinlay.\n",
    "    \"\"\"\n",
    "    w = inv(sigma).dot(mu)\n",
    "    if scale:\n",
    "        w = w/sum(w) # fix: this assumes all w is +ve\n",
    "    return w"
   ]
  },
  {
   "cell_type": "code",
   "execution_count": 16,
   "metadata": {},
   "outputs": [
    {
     "name": "stdout",
     "output_type": "stream",
     "text": [
      "The lowest implied return is: Food\n"
     ]
    }
   ],
   "source": [
    "tau = 0.05\n",
    "msr_wts = w_msr(sigma, imp_ret)\n",
    "bl_mu, bl_sigma = erk.bl(msr_wts, sigma, p, q, tau = tau)\n",
    "\n",
    "print('The lowest implied return is:', pd.Series.idxmax(-bl_mu))"
   ]
  },
  {
   "cell_type": "markdown",
   "metadata": {},
   "source": [
    "## Question 7"
   ]
  },
  {
   "cell_type": "code",
   "execution_count": 17,
   "metadata": {},
   "outputs": [
    {
     "data": {
      "text/html": [
       "<div>\n",
       "<style scoped>\n",
       "    .dataframe tbody tr th:only-of-type {\n",
       "        vertical-align: middle;\n",
       "    }\n",
       "\n",
       "    .dataframe tbody tr th {\n",
       "        vertical-align: top;\n",
       "    }\n",
       "\n",
       "    .dataframe thead th {\n",
       "        text-align: right;\n",
       "    }\n",
       "</style>\n",
       "<table border=\"1\" class=\"dataframe\">\n",
       "  <thead>\n",
       "    <tr style=\"text-align: right;\">\n",
       "      <th></th>\n",
       "      <th>BL-MSR Weights</th>\n",
       "    </tr>\n",
       "  </thead>\n",
       "  <tbody>\n",
       "    <tr>\n",
       "      <th>Hlth</th>\n",
       "      <td>0.276885</td>\n",
       "    </tr>\n",
       "    <tr>\n",
       "      <th>Fin</th>\n",
       "      <td>0.175362</td>\n",
       "    </tr>\n",
       "    <tr>\n",
       "      <th>Whlsl</th>\n",
       "      <td>0.061820</td>\n",
       "    </tr>\n",
       "    <tr>\n",
       "      <th>Rtail</th>\n",
       "      <td>0.346756</td>\n",
       "    </tr>\n",
       "    <tr>\n",
       "      <th>Food</th>\n",
       "      <td>0.139176</td>\n",
       "    </tr>\n",
       "  </tbody>\n",
       "</table>\n",
       "</div>"
      ],
      "text/plain": [
       "       BL-MSR Weights\n",
       "Hlth         0.276885\n",
       "Fin          0.175362\n",
       "Whlsl        0.061820\n",
       "Rtail        0.346756\n",
       "Food         0.139176"
      ]
     },
     "execution_count": 17,
     "metadata": {},
     "output_type": "execute_result"
    }
   ],
   "source": [
    "bl_wts = w_msr(bl_sigma, bl_mu)\n",
    "bl_msr_wts = pd.DataFrame(bl_wts,index=p.columns,columns=['BL-MSR Weights'])\n",
    "bl_msr_wts"
   ]
  },
  {
   "cell_type": "code",
   "execution_count": 18,
   "metadata": {},
   "outputs": [
    {
     "name": "stdout",
     "output_type": "stream",
     "text": [
      "The highest weight is: Rtail\n"
     ]
    }
   ],
   "source": [
    "print('The highest weight is:', pd.Series.idxmax(bl_msr_wts))"
   ]
  },
  {
   "cell_type": "markdown",
   "metadata": {},
   "source": [
    "## Question 8"
   ]
  },
  {
   "cell_type": "code",
   "execution_count": 19,
   "metadata": {},
   "outputs": [
    {
     "name": "stdout",
     "output_type": "stream",
     "text": [
      "The lowest weight is: Whlsl\n"
     ]
    }
   ],
   "source": [
    "print('The lowest weight is:', pd.Series.idxmax(-bl_msr_wts))"
   ]
  },
  {
   "cell_type": "markdown",
   "metadata": {},
   "source": [
    "## Question 9\n",
    "Answer: Q and not P\n",
    "## Question 10"
   ]
  },
  {
   "cell_type": "code",
   "execution_count": 20,
   "metadata": {},
   "outputs": [],
   "source": [
    "q2 = pd.Series([0.05])"
   ]
  },
  {
   "cell_type": "code",
   "execution_count": 22,
   "metadata": {},
   "outputs": [
    {
     "name": "stdout",
     "output_type": "stream",
     "text": [
      "The highest implied return is: Rtail\n"
     ]
    }
   ],
   "source": [
    "bl_mu2, bl_sigma2 = erk.bl(msr_wts, sigma, p, q2, tau = tau)\n",
    "\n",
    "print('The highest implied return is:', pd.Series.idxmax(bl_mu2))"
   ]
  },
  {
   "cell_type": "markdown",
   "metadata": {},
   "source": [
    "## Question 11"
   ]
  },
  {
   "cell_type": "code",
   "execution_count": 27,
   "metadata": {},
   "outputs": [
    {
     "data": {
      "text/html": [
       "<div>\n",
       "<style scoped>\n",
       "    .dataframe tbody tr th:only-of-type {\n",
       "        vertical-align: middle;\n",
       "    }\n",
       "\n",
       "    .dataframe tbody tr th {\n",
       "        vertical-align: top;\n",
       "    }\n",
       "\n",
       "    .dataframe thead th {\n",
       "        text-align: right;\n",
       "    }\n",
       "</style>\n",
       "<table border=\"1\" class=\"dataframe\">\n",
       "  <thead>\n",
       "    <tr style=\"text-align: right;\">\n",
       "      <th></th>\n",
       "      <th>BL-MSR Weights</th>\n",
       "    </tr>\n",
       "  </thead>\n",
       "  <tbody>\n",
       "    <tr>\n",
       "      <th>Hlth</th>\n",
       "      <td>0.326312</td>\n",
       "    </tr>\n",
       "    <tr>\n",
       "      <th>Fin</th>\n",
       "      <td>0.175362</td>\n",
       "    </tr>\n",
       "    <tr>\n",
       "      <th>Whlsl</th>\n",
       "      <td>0.054342</td>\n",
       "    </tr>\n",
       "    <tr>\n",
       "      <th>Rtail</th>\n",
       "      <td>0.304808</td>\n",
       "    </tr>\n",
       "    <tr>\n",
       "      <th>Food</th>\n",
       "      <td>0.139176</td>\n",
       "    </tr>\n",
       "  </tbody>\n",
       "</table>\n",
       "</div>"
      ],
      "text/plain": [
       "       BL-MSR Weights\n",
       "Hlth         0.326312\n",
       "Fin          0.175362\n",
       "Whlsl        0.054342\n",
       "Rtail        0.304808\n",
       "Food         0.139176"
      ]
     },
     "execution_count": 27,
     "metadata": {},
     "output_type": "execute_result"
    }
   ],
   "source": [
    "bl_wts2 = w_msr(bl_sigma2, bl_mu2)\n",
    "msr_wts2 = pd.DataFrame(bl_wts2,index=p.columns,columns=['BL-MSR Weights'])\n",
    "msr_wts2"
   ]
  },
  {
   "cell_type": "code",
   "execution_count": 28,
   "metadata": {},
   "outputs": [
    {
     "name": "stdout",
     "output_type": "stream",
     "text": [
      "The highest weight is: Hlth\n"
     ]
    }
   ],
   "source": [
    "print('The highest weight is:', pd.Series.idxmax(msr_wts2))"
   ]
  }
 ],
 "metadata": {
  "kernelspec": {
   "display_name": "Python 3",
   "language": "python",
   "name": "python3"
  },
  "language_info": {
   "codemirror_mode": {
    "name": "ipython",
    "version": 3
   },
   "file_extension": ".py",
   "mimetype": "text/x-python",
   "name": "python",
   "nbconvert_exporter": "python",
   "pygments_lexer": "ipython3",
   "version": "3.7.6"
  }
 },
 "nbformat": 4,
 "nbformat_minor": 4
}
