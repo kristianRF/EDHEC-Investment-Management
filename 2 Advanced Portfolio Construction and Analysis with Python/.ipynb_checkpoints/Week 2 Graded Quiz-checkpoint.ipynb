{
 "cells": [
  {
   "cell_type": "markdown",
   "metadata": {},
   "source": [
    "# Week 2 Graded Quiz"
   ]
  },
  {
   "cell_type": "code",
   "execution_count": 1,
   "metadata": {},
   "outputs": [],
   "source": [
    "import pandas as pd\n",
    "import edhec_risk_kit as erk\n",
    "import numpy as np\n",
    "\n",
    "%load_ext autoreload\n",
    "%autoreload 2\n",
    "%matplotlib inline"
   ]
  },
  {
   "cell_type": "markdown",
   "metadata": {},
   "source": [
    "## Question 1"
   ]
  },
  {
   "cell_type": "code",
   "execution_count": 2,
   "metadata": {},
   "outputs": [],
   "source": [
    "ind30_rets = erk.get_ind_returns(weighting=\"vw\", n_inds=30)[\"1997\":]\n",
    "ind30_mcap = erk.get_ind_market_caps(30, weights=True)[\"1997\":]"
   ]
  },
  {
   "cell_type": "code",
   "execution_count": 3,
   "metadata": {},
   "outputs": [
    {
     "data": {
      "text/html": [
       "<div>\n",
       "<style scoped>\n",
       "    .dataframe tbody tr th:only-of-type {\n",
       "        vertical-align: middle;\n",
       "    }\n",
       "\n",
       "    .dataframe tbody tr th {\n",
       "        vertical-align: top;\n",
       "    }\n",
       "\n",
       "    .dataframe thead th {\n",
       "        text-align: right;\n",
       "    }\n",
       "</style>\n",
       "<table border=\"1\" class=\"dataframe\">\n",
       "  <thead>\n",
       "    <tr style=\"text-align: right;\">\n",
       "      <th></th>\n",
       "      <th>Food</th>\n",
       "      <th>Beer</th>\n",
       "      <th>Smoke</th>\n",
       "      <th>Games</th>\n",
       "      <th>Books</th>\n",
       "      <th>Hshld</th>\n",
       "      <th>Clths</th>\n",
       "      <th>Hlth</th>\n",
       "      <th>Chems</th>\n",
       "      <th>Txtls</th>\n",
       "      <th>...</th>\n",
       "      <th>Telcm</th>\n",
       "      <th>Servs</th>\n",
       "      <th>BusEq</th>\n",
       "      <th>Paper</th>\n",
       "      <th>Trans</th>\n",
       "      <th>Whlsl</th>\n",
       "      <th>Rtail</th>\n",
       "      <th>Meals</th>\n",
       "      <th>Fin</th>\n",
       "      <th>Other</th>\n",
       "    </tr>\n",
       "  </thead>\n",
       "  <tbody>\n",
       "    <tr>\n",
       "      <th>1997-01</th>\n",
       "      <td>0.0289</td>\n",
       "      <td>0.1136</td>\n",
       "      <td>0.0463</td>\n",
       "      <td>0.0359</td>\n",
       "      <td>0.0075</td>\n",
       "      <td>0.0643</td>\n",
       "      <td>0.0644</td>\n",
       "      <td>0.0955</td>\n",
       "      <td>0.0378</td>\n",
       "      <td>0.0550</td>\n",
       "      <td>...</td>\n",
       "      <td>0.0234</td>\n",
       "      <td>0.0576</td>\n",
       "      <td>0.1027</td>\n",
       "      <td>0.0121</td>\n",
       "      <td>0.0240</td>\n",
       "      <td>0.0018</td>\n",
       "      <td>0.0034</td>\n",
       "      <td>0.0161</td>\n",
       "      <td>0.0659</td>\n",
       "      <td>0.0704</td>\n",
       "    </tr>\n",
       "    <tr>\n",
       "      <th>1997-02</th>\n",
       "      <td>0.0279</td>\n",
       "      <td>0.0274</td>\n",
       "      <td>0.1247</td>\n",
       "      <td>-0.0026</td>\n",
       "      <td>0.0239</td>\n",
       "      <td>0.0287</td>\n",
       "      <td>0.0312</td>\n",
       "      <td>0.0094</td>\n",
       "      <td>0.0110</td>\n",
       "      <td>0.0221</td>\n",
       "      <td>...</td>\n",
       "      <td>0.0228</td>\n",
       "      <td>-0.0510</td>\n",
       "      <td>-0.0805</td>\n",
       "      <td>0.0480</td>\n",
       "      <td>-0.0106</td>\n",
       "      <td>-0.0089</td>\n",
       "      <td>0.0563</td>\n",
       "      <td>-0.0315</td>\n",
       "      <td>0.0393</td>\n",
       "      <td>-0.0453</td>\n",
       "    </tr>\n",
       "    <tr>\n",
       "      <th>1997-03</th>\n",
       "      <td>-0.0120</td>\n",
       "      <td>-0.0653</td>\n",
       "      <td>-0.1354</td>\n",
       "      <td>-0.0320</td>\n",
       "      <td>0.0071</td>\n",
       "      <td>-0.0606</td>\n",
       "      <td>-0.0566</td>\n",
       "      <td>-0.0740</td>\n",
       "      <td>-0.0216</td>\n",
       "      <td>-0.0284</td>\n",
       "      <td>...</td>\n",
       "      <td>-0.0760</td>\n",
       "      <td>-0.0567</td>\n",
       "      <td>-0.0522</td>\n",
       "      <td>-0.0446</td>\n",
       "      <td>-0.0018</td>\n",
       "      <td>-0.0657</td>\n",
       "      <td>-0.0055</td>\n",
       "      <td>0.0165</td>\n",
       "      <td>-0.0663</td>\n",
       "      <td>-0.0430</td>\n",
       "    </tr>\n",
       "    <tr>\n",
       "      <th>1997-04</th>\n",
       "      <td>0.0337</td>\n",
       "      <td>0.1137</td>\n",
       "      <td>0.0324</td>\n",
       "      <td>0.0275</td>\n",
       "      <td>-0.0076</td>\n",
       "      <td>0.0845</td>\n",
       "      <td>-0.0410</td>\n",
       "      <td>0.0616</td>\n",
       "      <td>0.0324</td>\n",
       "      <td>-0.0334</td>\n",
       "      <td>...</td>\n",
       "      <td>0.0254</td>\n",
       "      <td>0.1047</td>\n",
       "      <td>0.0602</td>\n",
       "      <td>0.0366</td>\n",
       "      <td>0.0565</td>\n",
       "      <td>0.0054</td>\n",
       "      <td>0.0172</td>\n",
       "      <td>0.0611</td>\n",
       "      <td>0.0623</td>\n",
       "      <td>0.0097</td>\n",
       "    </tr>\n",
       "    <tr>\n",
       "      <th>1997-05</th>\n",
       "      <td>0.0257</td>\n",
       "      <td>0.0643</td>\n",
       "      <td>0.0998</td>\n",
       "      <td>0.0560</td>\n",
       "      <td>0.0706</td>\n",
       "      <td>0.0815</td>\n",
       "      <td>0.0501</td>\n",
       "      <td>0.0691</td>\n",
       "      <td>0.0455</td>\n",
       "      <td>0.0725</td>\n",
       "      <td>...</td>\n",
       "      <td>0.0664</td>\n",
       "      <td>0.1001</td>\n",
       "      <td>0.1020</td>\n",
       "      <td>0.0768</td>\n",
       "      <td>0.0612</td>\n",
       "      <td>0.0875</td>\n",
       "      <td>0.0643</td>\n",
       "      <td>0.0098</td>\n",
       "      <td>0.0588</td>\n",
       "      <td>0.0816</td>\n",
       "    </tr>\n",
       "  </tbody>\n",
       "</table>\n",
       "<p>5 rows × 30 columns</p>\n",
       "</div>"
      ],
      "text/plain": [
       "           Food    Beer   Smoke   Games   Books   Hshld   Clths    Hlth  \\\n",
       "1997-01  0.0289  0.1136  0.0463  0.0359  0.0075  0.0643  0.0644  0.0955   \n",
       "1997-02  0.0279  0.0274  0.1247 -0.0026  0.0239  0.0287  0.0312  0.0094   \n",
       "1997-03 -0.0120 -0.0653 -0.1354 -0.0320  0.0071 -0.0606 -0.0566 -0.0740   \n",
       "1997-04  0.0337  0.1137  0.0324  0.0275 -0.0076  0.0845 -0.0410  0.0616   \n",
       "1997-05  0.0257  0.0643  0.0998  0.0560  0.0706  0.0815  0.0501  0.0691   \n",
       "\n",
       "          Chems   Txtls  ...   Telcm   Servs   BusEq   Paper   Trans   Whlsl  \\\n",
       "1997-01  0.0378  0.0550  ...  0.0234  0.0576  0.1027  0.0121  0.0240  0.0018   \n",
       "1997-02  0.0110  0.0221  ...  0.0228 -0.0510 -0.0805  0.0480 -0.0106 -0.0089   \n",
       "1997-03 -0.0216 -0.0284  ... -0.0760 -0.0567 -0.0522 -0.0446 -0.0018 -0.0657   \n",
       "1997-04  0.0324 -0.0334  ...  0.0254  0.1047  0.0602  0.0366  0.0565  0.0054   \n",
       "1997-05  0.0455  0.0725  ...  0.0664  0.1001  0.1020  0.0768  0.0612  0.0875   \n",
       "\n",
       "          Rtail   Meals     Fin   Other  \n",
       "1997-01  0.0034  0.0161  0.0659  0.0704  \n",
       "1997-02  0.0563 -0.0315  0.0393 -0.0453  \n",
       "1997-03 -0.0055  0.0165 -0.0663 -0.0430  \n",
       "1997-04  0.0172  0.0611  0.0623  0.0097  \n",
       "1997-05  0.0643  0.0098  0.0588  0.0816  \n",
       "\n",
       "[5 rows x 30 columns]"
      ]
     },
     "execution_count": 3,
     "metadata": {},
     "output_type": "execute_result"
    }
   ],
   "source": [
    "ind30_rets.head()"
   ]
  },
  {
   "cell_type": "code",
   "execution_count": 4,
   "metadata": {},
   "outputs": [
    {
     "data": {
      "text/plain": [
       "2000-01   -0.033640\n",
       "2000-02   -0.016408\n",
       "2000-03    0.086065\n",
       "2000-04   -0.016755\n",
       "2000-05    0.000671\n",
       "             ...   \n",
       "2018-08    0.034929\n",
       "2018-09    0.003134\n",
       "2018-10   -0.069573\n",
       "2018-11    0.020852\n",
       "2018-12   -0.093852\n",
       "Freq: M, Length: 228, dtype: float64"
      ]
     },
     "execution_count": 4,
     "metadata": {},
     "output_type": "execute_result"
    }
   ],
   "source": [
    "cwr = erk.backtest_ws(ind30_rets, estimation_window=36, weighting=erk.weight_cw, cap_weights=ind30_mcap)\n",
    "cwr = cwr.dropna()\n",
    "cwr"
   ]
  },
  {
   "cell_type": "code",
   "execution_count": 5,
   "metadata": {},
   "outputs": [
    {
     "data": {
      "text/plain": [
       "6.46"
      ]
     },
     "execution_count": 5,
     "metadata": {},
     "output_type": "execute_result"
    }
   ],
   "source": [
    "round((erk.annualize_rets(cwr, periods_per_year=12))*100,2)"
   ]
  },
  {
   "cell_type": "markdown",
   "metadata": {},
   "source": [
    "## Question 2"
   ]
  },
  {
   "cell_type": "code",
   "execution_count": 6,
   "metadata": {},
   "outputs": [
    {
     "data": {
      "text/plain": [
       "15.13"
      ]
     },
     "execution_count": 6,
     "metadata": {},
     "output_type": "execute_result"
    }
   ],
   "source": [
    "round((erk.annualize_vol(cwr, periods_per_year=12))*100,2)"
   ]
  },
  {
   "cell_type": "markdown",
   "metadata": {},
   "source": [
    "## Question 3"
   ]
  },
  {
   "cell_type": "code",
   "execution_count": 7,
   "metadata": {},
   "outputs": [
    {
     "data": {
      "text/plain": [
       "2000-01   -0.031137\n",
       "2000-02   -0.036047\n",
       "2000-03    0.078613\n",
       "2000-04   -0.002040\n",
       "2000-05   -0.007117\n",
       "             ...   \n",
       "2018-08    0.009337\n",
       "2018-09   -0.001257\n",
       "2018-10   -0.074427\n",
       "2018-11    0.018667\n",
       "2018-12   -0.096270\n",
       "Freq: M, Length: 228, dtype: float64"
      ]
     },
     "execution_count": 7,
     "metadata": {},
     "output_type": "execute_result"
    }
   ],
   "source": [
    "ewr = erk.backtest_ws(ind30_rets, estimation_window=36)\n",
    "ewr = ewr.dropna()\n",
    "ewr"
   ]
  },
  {
   "cell_type": "code",
   "execution_count": 8,
   "metadata": {},
   "outputs": [
    {
     "data": {
      "text/plain": [
       "7.76"
      ]
     },
     "execution_count": 8,
     "metadata": {},
     "output_type": "execute_result"
    }
   ],
   "source": [
    "round((erk.annualize_rets(ewr, periods_per_year=12))*100,2)"
   ]
  },
  {
   "cell_type": "markdown",
   "metadata": {},
   "source": [
    "## Question 4"
   ]
  },
  {
   "cell_type": "code",
   "execution_count": 9,
   "metadata": {},
   "outputs": [
    {
     "data": {
      "text/plain": [
       "15.87"
      ]
     },
     "execution_count": 9,
     "metadata": {},
     "output_type": "execute_result"
    }
   ],
   "source": [
    "round((erk.annualize_vol(ewr, periods_per_year=12))*100,2)"
   ]
  },
  {
   "cell_type": "markdown",
   "metadata": {},
   "source": [
    "## Question 5"
   ]
  },
  {
   "cell_type": "code",
   "execution_count": 16,
   "metadata": {},
   "outputs": [
    {
     "data": {
      "text/plain": [
       "2000-01   -0.042504\n",
       "2000-02   -0.035002\n",
       "2000-03    0.079845\n",
       "2000-04   -0.000779\n",
       "2000-05    0.001206\n",
       "             ...   \n",
       "2018-08    0.023520\n",
       "2018-09    0.006912\n",
       "2018-10   -0.060794\n",
       "2018-11    0.025801\n",
       "2018-12   -0.093837\n",
       "Freq: M, Length: 228, dtype: float64"
      ]
     },
     "execution_count": 16,
     "metadata": {},
     "output_type": "execute_result"
    }
   ],
   "source": [
    "ewtr = erk.backtest_ws(ind30_rets,\n",
    "                       estimation_window=36,\n",
    "                       cap_weights=ind30_mcap,\n",
    "                       max_cw_mult=2,\n",
    "                       microcap_threshold=0.01)\n",
    "ewtr = ewtr.dropna()\n",
    "ewtr"
   ]
  },
  {
   "cell_type": "code",
   "execution_count": 17,
   "metadata": {},
   "outputs": [
    {
     "data": {
      "text/plain": [
       "7.68"
      ]
     },
     "execution_count": 17,
     "metadata": {},
     "output_type": "execute_result"
    }
   ],
   "source": [
    "round((erk.annualize_rets(ewtr, periods_per_year=12))*100,2)"
   ]
  },
  {
   "cell_type": "markdown",
   "metadata": {},
   "source": [
    "## Question 6"
   ]
  },
  {
   "cell_type": "code",
   "execution_count": 18,
   "metadata": {},
   "outputs": [
    {
     "data": {
      "text/plain": [
       "14.08"
      ]
     },
     "execution_count": 18,
     "metadata": {},
     "output_type": "execute_result"
    }
   ],
   "source": [
    "round((erk.annualize_vol(ewtr, periods_per_year=12))*100,2)"
   ]
  },
  {
   "cell_type": "markdown",
   "metadata": {},
   "source": [
    "## Question 7"
   ]
  },
  {
   "cell_type": "code",
   "execution_count": 19,
   "metadata": {},
   "outputs": [
    {
     "data": {
      "text/plain": [
       "18.74"
      ]
     },
     "execution_count": 19,
     "metadata": {},
     "output_type": "execute_result"
    }
   ],
   "source": [
    "round(erk.tracking_error(ewr, cwr)*100,2)"
   ]
  },
  {
   "cell_type": "markdown",
   "metadata": {},
   "source": [
    "## Question 8"
   ]
  },
  {
   "cell_type": "code",
   "execution_count": 20,
   "metadata": {},
   "outputs": [
    {
     "data": {
      "text/plain": [
       "11.65"
      ]
     },
     "execution_count": 20,
     "metadata": {},
     "output_type": "execute_result"
    }
   ],
   "source": [
    "round(erk.tracking_error(cwr, ewtr)*100,2)"
   ]
  },
  {
   "cell_type": "markdown",
   "metadata": {},
   "source": [
    "## Question 9"
   ]
  },
  {
   "cell_type": "code",
   "execution_count": 21,
   "metadata": {},
   "outputs": [],
   "source": [
    "mv_s_r = erk.backtest_ws(ind30_rets,\n",
    "                         estimation_window=36,\n",
    "                         weighting=erk.weight_gmv,\n",
    "                         cov_estimator=erk.sample_cov)"
   ]
  },
  {
   "cell_type": "code",
   "execution_count": 23,
   "metadata": {},
   "outputs": [
    {
     "data": {
      "text/plain": [
       "2000-01    0.018326\n",
       "2000-02   -0.063992\n",
       "2000-03    0.080058\n",
       "2000-04    0.044278\n",
       "2000-05    0.002025\n",
       "             ...   \n",
       "2018-08    0.019411\n",
       "2018-09    0.005252\n",
       "2018-10   -0.028008\n",
       "2018-11    0.027373\n",
       "2018-12   -0.078997\n",
       "Freq: M, Length: 228, dtype: float64"
      ]
     },
     "execution_count": 23,
     "metadata": {},
     "output_type": "execute_result"
    }
   ],
   "source": [
    "mv_s_r = mv_s_r.dropna()\n",
    "mv_s_r"
   ]
  },
  {
   "cell_type": "code",
   "execution_count": 24,
   "metadata": {},
   "outputs": [
    {
     "data": {
      "text/plain": [
       "6.63"
      ]
     },
     "execution_count": 24,
     "metadata": {},
     "output_type": "execute_result"
    }
   ],
   "source": [
    "round((erk.annualize_rets(mv_s_r, periods_per_year=12))*100,2)"
   ]
  },
  {
   "cell_type": "markdown",
   "metadata": {},
   "source": [
    "## Question 10"
   ]
  },
  {
   "cell_type": "code",
   "execution_count": 25,
   "metadata": {},
   "outputs": [
    {
     "data": {
      "text/plain": [
       "11.74"
      ]
     },
     "execution_count": 25,
     "metadata": {},
     "output_type": "execute_result"
    }
   ],
   "source": [
    "round((erk.annualize_vol(mv_s_r, periods_per_year=12))*100,2)"
   ]
  },
  {
   "cell_type": "markdown",
   "metadata": {},
   "source": [
    "## Question 11"
   ]
  },
  {
   "cell_type": "code",
   "execution_count": 29,
   "metadata": {},
   "outputs": [],
   "source": [
    "mv_sh_r = erk.backtest_ws(ind30_rets,\n",
    "                          estimation_window=36,\n",
    "                          weighting=erk.weight_gmv,\n",
    "                          cov_estimator=erk.shrinkage_cov,\n",
    "                          delta=0.25)"
   ]
  },
  {
   "cell_type": "code",
   "execution_count": 30,
   "metadata": {},
   "outputs": [
    {
     "data": {
      "text/plain": [
       "2000-01    0.012165\n",
       "2000-02   -0.068561\n",
       "2000-03    0.084092\n",
       "2000-04    0.041680\n",
       "2000-05    0.005120\n",
       "             ...   \n",
       "2018-08    0.023323\n",
       "2018-09    0.005678\n",
       "2018-10   -0.025249\n",
       "2018-11    0.042752\n",
       "2018-12   -0.075711\n",
       "Freq: M, Length: 228, dtype: float64"
      ]
     },
     "execution_count": 30,
     "metadata": {},
     "output_type": "execute_result"
    }
   ],
   "source": [
    "mv_sh_r = mv_sh_r.dropna()\n",
    "mv_sh_r"
   ]
  },
  {
   "cell_type": "code",
   "execution_count": 31,
   "metadata": {},
   "outputs": [
    {
     "data": {
      "text/plain": [
       "6.85"
      ]
     },
     "execution_count": 31,
     "metadata": {},
     "output_type": "execute_result"
    }
   ],
   "source": [
    "round((erk.annualize_rets(mv_sh_r, periods_per_year=12))*100,2)"
   ]
  },
  {
   "cell_type": "markdown",
   "metadata": {},
   "source": [
    "## Question 12"
   ]
  },
  {
   "cell_type": "code",
   "execution_count": 32,
   "metadata": {},
   "outputs": [
    {
     "data": {
      "text/plain": [
       "11.46"
      ]
     },
     "execution_count": 32,
     "metadata": {},
     "output_type": "execute_result"
    }
   ],
   "source": [
    "round((erk.annualize_vol(mv_sh_r, periods_per_year=12))*100,2)"
   ]
  }
 ],
 "metadata": {
  "kernelspec": {
   "display_name": "Python 3",
   "language": "python",
   "name": "python3"
  },
  "language_info": {
   "codemirror_mode": {
    "name": "ipython",
    "version": 3
   },
   "file_extension": ".py",
   "mimetype": "text/x-python",
   "name": "python",
   "nbconvert_exporter": "python",
   "pygments_lexer": "ipython3",
   "version": "3.8.3"
  }
 },
 "nbformat": 4,
 "nbformat_minor": 4
}
