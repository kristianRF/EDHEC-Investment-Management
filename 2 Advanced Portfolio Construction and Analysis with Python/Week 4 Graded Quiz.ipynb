{
 "cells": [
  {
   "cell_type": "markdown",
   "metadata": {},
   "source": [
    "# Week 3 Graded Quiz"
   ]
  },
  {
   "cell_type": "code",
   "execution_count": 2,
   "metadata": {},
   "outputs": [],
   "source": [
    "import pandas as pd\n",
    "import edhec_risk_kit as erk\n",
    "import numpy as np\n",
    "from numpy.linalg import inv\n",
    "\n",
    "%load_ext autoreload\n",
    "%autoreload 2\n",
    "%matplotlib inline"
   ]
  },
  {
   "cell_type": "markdown",
   "metadata": {},
   "source": [
    "## Question 1"
   ]
  },
  {
   "cell_type": "code",
   "execution_count": 6,
   "metadata": {},
   "outputs": [],
   "source": [
    "ind_rets = erk.get_ind_file('returns',weighting=\"vw\", n_inds=49)[\"2014\":\"2018\"]\n",
    "ind_mcap = erk.get_ind_market_caps(49, weights=True)[\"2014\":\"2018\"]"
   ]
  },
  {
   "cell_type": "code",
   "execution_count": 5,
   "metadata": {},
   "outputs": [
    {
     "data": {
      "text/html": [
       "<div>\n",
       "<style scoped>\n",
       "    .dataframe tbody tr th:only-of-type {\n",
       "        vertical-align: middle;\n",
       "    }\n",
       "\n",
       "    .dataframe tbody tr th {\n",
       "        vertical-align: top;\n",
       "    }\n",
       "\n",
       "    .dataframe thead th {\n",
       "        text-align: right;\n",
       "    }\n",
       "</style>\n",
       "<table border=\"1\" class=\"dataframe\">\n",
       "  <thead>\n",
       "    <tr style=\"text-align: right;\">\n",
       "      <th></th>\n",
       "      <th>Agric</th>\n",
       "      <th>Food</th>\n",
       "      <th>Soda</th>\n",
       "      <th>Beer</th>\n",
       "      <th>Smoke</th>\n",
       "      <th>Toys</th>\n",
       "      <th>Fun</th>\n",
       "      <th>Books</th>\n",
       "      <th>Hshld</th>\n",
       "      <th>Clths</th>\n",
       "      <th>...</th>\n",
       "      <th>Boxes</th>\n",
       "      <th>Trans</th>\n",
       "      <th>Whlsl</th>\n",
       "      <th>Rtail</th>\n",
       "      <th>Meals</th>\n",
       "      <th>Banks</th>\n",
       "      <th>Insur</th>\n",
       "      <th>RlEst</th>\n",
       "      <th>Fin</th>\n",
       "      <th>Other</th>\n",
       "    </tr>\n",
       "  </thead>\n",
       "  <tbody>\n",
       "    <tr>\n",
       "      <th>2014-01</th>\n",
       "      <td>-0.0801</td>\n",
       "      <td>-0.0346</td>\n",
       "      <td>-0.0759</td>\n",
       "      <td>-0.0054</td>\n",
       "      <td>-0.0833</td>\n",
       "      <td>-0.0856</td>\n",
       "      <td>0.0078</td>\n",
       "      <td>-0.0644</td>\n",
       "      <td>-0.0620</td>\n",
       "      <td>-0.0758</td>\n",
       "      <td>...</td>\n",
       "      <td>-0.0358</td>\n",
       "      <td>-0.0199</td>\n",
       "      <td>-0.0235</td>\n",
       "      <td>-0.0759</td>\n",
       "      <td>-0.0477</td>\n",
       "      <td>-0.0350</td>\n",
       "      <td>-0.0530</td>\n",
       "      <td>-0.0235</td>\n",
       "      <td>-0.0556</td>\n",
       "      <td>-0.0662</td>\n",
       "    </tr>\n",
       "    <tr>\n",
       "      <th>2014-02</th>\n",
       "      <td>0.0300</td>\n",
       "      <td>0.0495</td>\n",
       "      <td>0.0192</td>\n",
       "      <td>0.0162</td>\n",
       "      <td>0.0335</td>\n",
       "      <td>0.0339</td>\n",
       "      <td>0.0919</td>\n",
       "      <td>0.0825</td>\n",
       "      <td>0.0345</td>\n",
       "      <td>0.0553</td>\n",
       "      <td>...</td>\n",
       "      <td>0.0788</td>\n",
       "      <td>0.0211</td>\n",
       "      <td>0.0450</td>\n",
       "      <td>0.0579</td>\n",
       "      <td>0.0484</td>\n",
       "      <td>0.0301</td>\n",
       "      <td>0.0381</td>\n",
       "      <td>0.0473</td>\n",
       "      <td>0.0301</td>\n",
       "      <td>0.0266</td>\n",
       "    </tr>\n",
       "    <tr>\n",
       "      <th>2014-03</th>\n",
       "      <td>0.0373</td>\n",
       "      <td>0.0319</td>\n",
       "      <td>0.0165</td>\n",
       "      <td>0.0478</td>\n",
       "      <td>0.0407</td>\n",
       "      <td>0.0448</td>\n",
       "      <td>-0.0706</td>\n",
       "      <td>-0.0010</td>\n",
       "      <td>0.0175</td>\n",
       "      <td>-0.0040</td>\n",
       "      <td>...</td>\n",
       "      <td>-0.0124</td>\n",
       "      <td>0.0268</td>\n",
       "      <td>0.0041</td>\n",
       "      <td>-0.0121</td>\n",
       "      <td>0.0173</td>\n",
       "      <td>0.0298</td>\n",
       "      <td>0.0217</td>\n",
       "      <td>-0.0263</td>\n",
       "      <td>0.0099</td>\n",
       "      <td>0.0561</td>\n",
       "    </tr>\n",
       "  </tbody>\n",
       "</table>\n",
       "<p>3 rows × 49 columns</p>\n",
       "</div>"
      ],
      "text/plain": [
       "          Agric    Food    Soda    Beer   Smoke    Toys     Fun   Books  \\\n",
       "2014-01 -0.0801 -0.0346 -0.0759 -0.0054 -0.0833 -0.0856  0.0078 -0.0644   \n",
       "2014-02  0.0300  0.0495  0.0192  0.0162  0.0335  0.0339  0.0919  0.0825   \n",
       "2014-03  0.0373  0.0319  0.0165  0.0478  0.0407  0.0448 -0.0706 -0.0010   \n",
       "\n",
       "          Hshld   Clths  ...   Boxes   Trans   Whlsl   Rtail   Meals   Banks  \\\n",
       "2014-01 -0.0620 -0.0758  ... -0.0358 -0.0199 -0.0235 -0.0759 -0.0477 -0.0350   \n",
       "2014-02  0.0345  0.0553  ...  0.0788  0.0211  0.0450  0.0579  0.0484  0.0301   \n",
       "2014-03  0.0175 -0.0040  ... -0.0124  0.0268  0.0041 -0.0121  0.0173  0.0298   \n",
       "\n",
       "          Insur   RlEst     Fin   Other  \n",
       "2014-01 -0.0530 -0.0235 -0.0556 -0.0662  \n",
       "2014-02  0.0381  0.0473  0.0301  0.0266  \n",
       "2014-03  0.0217 -0.0263  0.0099  0.0561  \n",
       "\n",
       "[3 rows x 49 columns]"
      ]
     },
     "execution_count": 5,
     "metadata": {},
     "output_type": "execute_result"
    }
   ],
   "source": [
    "ind_rets.head(3)"
   ]
  },
  {
   "cell_type": "code",
   "execution_count": 8,
   "metadata": {},
   "outputs": [
    {
     "data": {
      "text/html": [
       "<div>\n",
       "<style scoped>\n",
       "    .dataframe tbody tr th:only-of-type {\n",
       "        vertical-align: middle;\n",
       "    }\n",
       "\n",
       "    .dataframe tbody tr th {\n",
       "        vertical-align: top;\n",
       "    }\n",
       "\n",
       "    .dataframe thead th {\n",
       "        text-align: right;\n",
       "    }\n",
       "</style>\n",
       "<table border=\"1\" class=\"dataframe\">\n",
       "  <thead>\n",
       "    <tr style=\"text-align: right;\">\n",
       "      <th></th>\n",
       "      <th>Agric</th>\n",
       "      <th>Food</th>\n",
       "      <th>Soda</th>\n",
       "      <th>Beer</th>\n",
       "      <th>Smoke</th>\n",
       "      <th>Toys</th>\n",
       "      <th>Fun</th>\n",
       "      <th>Books</th>\n",
       "      <th>Hshld</th>\n",
       "      <th>Clths</th>\n",
       "      <th>...</th>\n",
       "      <th>Boxes</th>\n",
       "      <th>Trans</th>\n",
       "      <th>Whlsl</th>\n",
       "      <th>Rtail</th>\n",
       "      <th>Meals</th>\n",
       "      <th>Banks</th>\n",
       "      <th>Insur</th>\n",
       "      <th>RlEst</th>\n",
       "      <th>Fin</th>\n",
       "      <th>Other</th>\n",
       "    </tr>\n",
       "  </thead>\n",
       "  <tbody>\n",
       "    <tr>\n",
       "      <th>Agric</th>\n",
       "      <td>0.002551</td>\n",
       "      <td>0.000638</td>\n",
       "      <td>0.000411</td>\n",
       "      <td>0.000272</td>\n",
       "      <td>0.000481</td>\n",
       "      <td>0.001433</td>\n",
       "      <td>0.001257</td>\n",
       "      <td>0.001054</td>\n",
       "      <td>0.000311</td>\n",
       "      <td>0.000349</td>\n",
       "      <td>...</td>\n",
       "      <td>0.001230</td>\n",
       "      <td>0.000940</td>\n",
       "      <td>0.001066</td>\n",
       "      <td>0.000956</td>\n",
       "      <td>0.000579</td>\n",
       "      <td>0.001311</td>\n",
       "      <td>0.000956</td>\n",
       "      <td>0.001158</td>\n",
       "      <td>0.001256</td>\n",
       "      <td>0.000663</td>\n",
       "    </tr>\n",
       "    <tr>\n",
       "      <th>Food</th>\n",
       "      <td>0.000638</td>\n",
       "      <td>0.001239</td>\n",
       "      <td>0.000865</td>\n",
       "      <td>0.000871</td>\n",
       "      <td>0.001154</td>\n",
       "      <td>0.000745</td>\n",
       "      <td>0.000477</td>\n",
       "      <td>0.000890</td>\n",
       "      <td>0.000771</td>\n",
       "      <td>0.000592</td>\n",
       "      <td>...</td>\n",
       "      <td>0.000724</td>\n",
       "      <td>0.000597</td>\n",
       "      <td>0.000713</td>\n",
       "      <td>0.000822</td>\n",
       "      <td>0.000513</td>\n",
       "      <td>0.000513</td>\n",
       "      <td>0.000654</td>\n",
       "      <td>0.000806</td>\n",
       "      <td>0.000441</td>\n",
       "      <td>0.000650</td>\n",
       "    </tr>\n",
       "    <tr>\n",
       "      <th>Soda</th>\n",
       "      <td>0.000411</td>\n",
       "      <td>0.000865</td>\n",
       "      <td>0.001541</td>\n",
       "      <td>0.001027</td>\n",
       "      <td>0.001249</td>\n",
       "      <td>0.000651</td>\n",
       "      <td>0.000557</td>\n",
       "      <td>0.000754</td>\n",
       "      <td>0.000815</td>\n",
       "      <td>0.000618</td>\n",
       "      <td>...</td>\n",
       "      <td>0.000888</td>\n",
       "      <td>0.000757</td>\n",
       "      <td>0.000620</td>\n",
       "      <td>0.000869</td>\n",
       "      <td>0.000758</td>\n",
       "      <td>0.000507</td>\n",
       "      <td>0.000698</td>\n",
       "      <td>0.000918</td>\n",
       "      <td>0.000470</td>\n",
       "      <td>0.000838</td>\n",
       "    </tr>\n",
       "    <tr>\n",
       "      <th>Beer</th>\n",
       "      <td>0.000272</td>\n",
       "      <td>0.000871</td>\n",
       "      <td>0.001027</td>\n",
       "      <td>0.001158</td>\n",
       "      <td>0.001199</td>\n",
       "      <td>0.000489</td>\n",
       "      <td>0.000366</td>\n",
       "      <td>0.000749</td>\n",
       "      <td>0.000807</td>\n",
       "      <td>0.000448</td>\n",
       "      <td>...</td>\n",
       "      <td>0.000794</td>\n",
       "      <td>0.000699</td>\n",
       "      <td>0.000550</td>\n",
       "      <td>0.000642</td>\n",
       "      <td>0.000556</td>\n",
       "      <td>0.000390</td>\n",
       "      <td>0.000529</td>\n",
       "      <td>0.000946</td>\n",
       "      <td>0.000333</td>\n",
       "      <td>0.000603</td>\n",
       "    </tr>\n",
       "    <tr>\n",
       "      <th>Smoke</th>\n",
       "      <td>0.000481</td>\n",
       "      <td>0.001154</td>\n",
       "      <td>0.001249</td>\n",
       "      <td>0.001199</td>\n",
       "      <td>0.002936</td>\n",
       "      <td>0.000969</td>\n",
       "      <td>0.000179</td>\n",
       "      <td>0.000525</td>\n",
       "      <td>0.000913</td>\n",
       "      <td>0.000329</td>\n",
       "      <td>...</td>\n",
       "      <td>0.000549</td>\n",
       "      <td>0.000670</td>\n",
       "      <td>0.000414</td>\n",
       "      <td>0.000413</td>\n",
       "      <td>0.000533</td>\n",
       "      <td>0.000312</td>\n",
       "      <td>0.000389</td>\n",
       "      <td>0.000428</td>\n",
       "      <td>0.000256</td>\n",
       "      <td>0.000764</td>\n",
       "    </tr>\n",
       "  </tbody>\n",
       "</table>\n",
       "<p>5 rows × 49 columns</p>\n",
       "</div>"
      ],
      "text/plain": [
       "          Agric      Food      Soda      Beer     Smoke      Toys       Fun  \\\n",
       "Agric  0.002551  0.000638  0.000411  0.000272  0.000481  0.001433  0.001257   \n",
       "Food   0.000638  0.001239  0.000865  0.000871  0.001154  0.000745  0.000477   \n",
       "Soda   0.000411  0.000865  0.001541  0.001027  0.001249  0.000651  0.000557   \n",
       "Beer   0.000272  0.000871  0.001027  0.001158  0.001199  0.000489  0.000366   \n",
       "Smoke  0.000481  0.001154  0.001249  0.001199  0.002936  0.000969  0.000179   \n",
       "\n",
       "          Books     Hshld     Clths  ...     Boxes     Trans     Whlsl  \\\n",
       "Agric  0.001054  0.000311  0.000349  ...  0.001230  0.000940  0.001066   \n",
       "Food   0.000890  0.000771  0.000592  ...  0.000724  0.000597  0.000713   \n",
       "Soda   0.000754  0.000815  0.000618  ...  0.000888  0.000757  0.000620   \n",
       "Beer   0.000749  0.000807  0.000448  ...  0.000794  0.000699  0.000550   \n",
       "Smoke  0.000525  0.000913  0.000329  ...  0.000549  0.000670  0.000414   \n",
       "\n",
       "          Rtail     Meals     Banks     Insur     RlEst       Fin     Other  \n",
       "Agric  0.000956  0.000579  0.001311  0.000956  0.001158  0.001256  0.000663  \n",
       "Food   0.000822  0.000513  0.000513  0.000654  0.000806  0.000441  0.000650  \n",
       "Soda   0.000869  0.000758  0.000507  0.000698  0.000918  0.000470  0.000838  \n",
       "Beer   0.000642  0.000556  0.000390  0.000529  0.000946  0.000333  0.000603  \n",
       "Smoke  0.000413  0.000533  0.000312  0.000389  0.000428  0.000256  0.000764  \n",
       "\n",
       "[5 rows x 49 columns]"
      ]
     },
     "execution_count": 8,
     "metadata": {},
     "output_type": "execute_result"
    }
   ],
   "source": [
    "covmat = ind_rets.cov()\n",
    "covmat.head(5)"
   ]
  },
  {
   "cell_type": "code",
   "execution_count": 31,
   "metadata": {},
   "outputs": [],
   "source": [
    "risk_contribution_cw = erk.risk_contribution(erk.weight_cw(ind_rets,ind_mcap), covmat)"
   ]
  },
  {
   "cell_type": "code",
   "execution_count": 32,
   "metadata": {},
   "outputs": [
    {
     "name": "stdout",
     "output_type": "stream",
     "text": [
      "The highest risk contribution is: Banks\n"
     ]
    }
   ],
   "source": [
    "print('The highest risk contribution is:', pd.Series.idxmax(risk_contribution_cw))"
   ]
  },
  {
   "cell_type": "markdown",
   "metadata": {},
   "source": [
    "## Question 2"
   ]
  },
  {
   "cell_type": "code",
   "execution_count": 33,
   "metadata": {},
   "outputs": [
    {
     "data": {
      "text/plain": [
       "0.10406010634326318"
      ]
     },
     "execution_count": 33,
     "metadata": {},
     "output_type": "execute_result"
    }
   ],
   "source": [
    "risk_contribution_cw['Banks']"
   ]
  },
  {
   "cell_type": "code",
   "execution_count": 34,
   "metadata": {},
   "outputs": [
    {
     "data": {
      "text/plain": [
       "10.41"
      ]
     },
     "execution_count": 34,
     "metadata": {},
     "output_type": "execute_result"
    }
   ],
   "source": [
    "round(max(risk_contribution_cw)*100,2)"
   ]
  },
  {
   "cell_type": "markdown",
   "metadata": {},
   "source": [
    "## Question 3 + 4"
   ]
  },
  {
   "cell_type": "code",
   "execution_count": 35,
   "metadata": {},
   "outputs": [],
   "source": [
    "risk_contribution_ew = erk.risk_contribution(erk.weight_ew(ind_rets), covmat)"
   ]
  },
  {
   "cell_type": "code",
   "execution_count": 36,
   "metadata": {},
   "outputs": [
    {
     "name": "stdout",
     "output_type": "stream",
     "text": [
      "The highest risk contribution is: Steel\n"
     ]
    }
   ],
   "source": [
    "print('The highest risk contribution is:', pd.Series.idxmax(risk_contribution_ew))"
   ]
  },
  {
   "cell_type": "code",
   "execution_count": 37,
   "metadata": {},
   "outputs": [
    {
     "data": {
      "text/plain": [
       "3.09"
      ]
     },
     "execution_count": 37,
     "metadata": {},
     "output_type": "execute_result"
    }
   ],
   "source": [
    "round(max(risk_contribution_ew)*100,2)"
   ]
  },
  {
   "cell_type": "markdown",
   "metadata": {},
   "source": [
    "## Question 5 + 6"
   ]
  },
  {
   "cell_type": "code",
   "execution_count": 51,
   "metadata": {},
   "outputs": [],
   "source": [
    "erc_w = pd.DataFrame(erk.weight_erc(ind_rets),\n",
    "                     index=ind_rets.columns)"
   ]
  },
  {
   "cell_type": "code",
   "execution_count": 85,
   "metadata": {},
   "outputs": [
    {
     "name": "stdout",
     "output_type": "stream",
     "text": [
      "The highest weight of 5.22% is assigned to: Util\n"
     ]
    }
   ],
   "source": [
    "print('The highest weight of {0:.2f}% is assigned to: {1}'.format(max(erc_w[0])*100, pd.Series.idxmax(erc_w)))"
   ]
  },
  {
   "cell_type": "markdown",
   "metadata": {},
   "source": [
    "## Question 7 + 8"
   ]
  },
  {
   "cell_type": "code",
   "execution_count": 91,
   "metadata": {},
   "outputs": [
    {
     "name": "stdout",
     "output_type": "stream",
     "text": [
      "The lowest weight of 1.28% is assigned to: Steel\n"
     ]
    }
   ],
   "source": [
    "print('The lowest weight of {0:.2f}% is assigned to: {1}'.format(min(erc_w[0])*100, pd.Series.idxmax(-erc_w)))"
   ]
  },
  {
   "cell_type": "markdown",
   "metadata": {},
   "source": [
    "## Question 9"
   ]
  },
  {
   "cell_type": "code",
   "execution_count": 97,
   "metadata": {},
   "outputs": [
    {
     "data": {
      "text/plain": [
       "10.4"
      ]
     },
     "execution_count": 97,
     "metadata": {},
     "output_type": "execute_result"
    }
   ],
   "source": [
    "round((max(risk_contribution_cw)-min(risk_contribution_cw))*100,2)"
   ]
  },
  {
   "cell_type": "markdown",
   "metadata": {},
   "source": [
    "## Question 10"
   ]
  },
  {
   "cell_type": "code",
   "execution_count": 100,
   "metadata": {},
   "outputs": [
    {
     "data": {
      "text/plain": [
       "2.5"
      ]
     },
     "execution_count": 100,
     "metadata": {},
     "output_type": "execute_result"
    }
   ],
   "source": [
    "round((max(risk_contribution_ew)-min(risk_contribution_ew))*100,2)"
   ]
  }
 ],
 "metadata": {
  "kernelspec": {
   "display_name": "Python 3",
   "language": "python",
   "name": "python3"
  },
  "language_info": {
   "codemirror_mode": {
    "name": "ipython",
    "version": 3
   },
   "file_extension": ".py",
   "mimetype": "text/x-python",
   "name": "python",
   "nbconvert_exporter": "python",
   "pygments_lexer": "ipython3",
   "version": "3.7.6"
  }
 },
 "nbformat": 4,
 "nbformat_minor": 4
}
