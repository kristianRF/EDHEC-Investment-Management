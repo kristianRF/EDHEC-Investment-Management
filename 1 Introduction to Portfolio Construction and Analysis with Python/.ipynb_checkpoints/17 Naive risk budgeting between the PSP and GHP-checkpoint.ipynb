{
 "cells": [
  {
   "cell_type": "markdown",
   "metadata": {},
   "source": [
    "# 17 Naive risk budgeting between the PSP & GHP"
   ]
  },
  {
   "cell_type": "code",
   "execution_count": 1,
   "metadata": {},
   "outputs": [],
   "source": [
    "import numpy as np\n",
    "import pandas as pd\n",
    "import edhec_risk_kit as erk\n",
    "%matplotlib inline\n",
    "%load_ext autoreload\n",
    "%autoreload 2"
   ]
  },
  {
   "cell_type": "code",
   "execution_count": 2,
   "metadata": {},
   "outputs": [],
   "source": [
    "def bt_mix(r1, r2, allocator, **kwargs): # Key-value arguments\n",
    "    \"\"\"\n",
    "    Runs a back test (simulation) of allocating between a two sets of returns\n",
    "    r1 and r2 are T x N DataFrames or returns where T is the time step index and N is the number of scenarios.\n",
    "    allocator is a function that takes two sets of returns and allocator specific parameters, and produces\n",
    "    an allocation to the first portfolio (the rest of the money is invested in the GHP) as a T x 1 DataFrame\n",
    "    Returns a T x N DataFrame of the resulting N portfolio scenarios\n",
    "    \"\"\"\n",
    "    if not r1.shape == r2.shape:\n",
    "        raise ValueError(\"r1 and r2 need to be the same shape\")\n",
    "    weights = allocator(r1, r2, **kwargs)\n",
    "    if not weights.shape == r1.shape:\n",
    "        raise ValueError(\"Allocator return weights that don't match r1\")\n",
    "    r_mix = weights*r1 + (1-weights) *r2\n",
    "    return r_mix"
   ]
  },
  {
   "cell_type": "code",
   "execution_count": 3,
   "metadata": {},
   "outputs": [],
   "source": [
    "def fixedmix_allocator(r1, r2, w1, **kwargs):\n",
    "    \"\"\"\n",
    "    Produces a time series over T steps of allocations between the PSP and GHP across N scenarios\n",
    "    PSP and GHP are T x N DataFrames that represent the returns of the PSP and GHP such that:\n",
    "     each column is a scenario\n",
    "     each row is the price for a timestep\n",
    "    Returns an T x N DataFrame of PSP Weights\n",
    "    \"\"\"\n",
    "    return pd.DataFrame(data = w1, index=r1.index, columns=r1.columns)"
   ]
  },
  {
   "cell_type": "code",
   "execution_count": 6,
   "metadata": {},
   "outputs": [],
   "source": [
    "rates, zc_prices = erk.cir(10, 500, b=0.03, r_0 = 0.03)\n",
    "price_10 = erk.bond_price(10,100,.05,12, rates)\n",
    "price_30 = erk.bond_price(30,100,.05,12, rates)\n",
    "rets_10 = erk.bond_total_return(price_10, 100, .05, 12)\n",
    "rets_30 = erk.bond_total_return(price_30, 100, .05, 12)"
   ]
  },
  {
   "cell_type": "code",
   "execution_count": 9,
   "metadata": {},
   "outputs": [
    {
     "data": {
      "text/html": [
       "<div>\n",
       "<style scoped>\n",
       "    .dataframe tbody tr th:only-of-type {\n",
       "        vertical-align: middle;\n",
       "    }\n",
       "\n",
       "    .dataframe tbody tr th {\n",
       "        vertical-align: top;\n",
       "    }\n",
       "\n",
       "    .dataframe thead th {\n",
       "        text-align: right;\n",
       "    }\n",
       "</style>\n",
       "<table border=\"1\" class=\"dataframe\">\n",
       "  <thead>\n",
       "    <tr style=\"text-align: right;\">\n",
       "      <th></th>\n",
       "      <th>Annualized Return</th>\n",
       "      <th>Annualized Vol</th>\n",
       "      <th>Skewness</th>\n",
       "      <th>Kurtosis</th>\n",
       "      <th>Cornish-Fisher VaR (5%)</th>\n",
       "      <th>Historic CVaR (5%)</th>\n",
       "      <th>Sharpe Ratio</th>\n",
       "      <th>Max Drawdown</th>\n",
       "    </tr>\n",
       "  </thead>\n",
       "  <tbody>\n",
       "    <tr>\n",
       "      <th>0</th>\n",
       "      <td>0.035802</td>\n",
       "      <td>0.003483</td>\n",
       "      <td>0.068565</td>\n",
       "      <td>3.36059</td>\n",
       "      <td>-0.001316</td>\n",
       "      <td>-0.000938</td>\n",
       "      <td>1.621153</td>\n",
       "      <td>-0.00046</td>\n",
       "    </tr>\n",
       "  </tbody>\n",
       "</table>\n",
       "</div>"
      ],
      "text/plain": [
       "   Annualized Return  Annualized Vol  Skewness  Kurtosis  \\\n",
       "0           0.035802        0.003483  0.068565   3.36059   \n",
       "\n",
       "   Cornish-Fisher VaR (5%)  Historic CVaR (5%)  Sharpe Ratio  Max Drawdown  \n",
       "0                -0.001316           -0.000938      1.621153      -0.00046  "
      ]
     },
     "execution_count": 9,
     "metadata": {},
     "output_type": "execute_result"
    }
   ],
   "source": [
    "rets_bonds = bt_mix(rets_10, rets_30, allocator = fixedmix_allocator, w1 = .6)\n",
    "mean_rets_bonds = rets_bonds.mean(axis='columns')\n",
    "erk.summary_stats(pd.DataFrame(mean_rets_bonds))"
   ]
  },
  {
   "cell_type": "code",
   "execution_count": 11,
   "metadata": {},
   "outputs": [],
   "source": [
    "price_eq = erk.gbm(n_years=10, n_scenarios= 500, mu=0.07, sigma=0.15)\n",
    "rets_eq = price_eq.pct_change().dropna()\n",
    "rets_zc= zc_prices.pct_change().dropna()"
   ]
  },
  {
   "cell_type": "code",
   "execution_count": 14,
   "metadata": {},
   "outputs": [
    {
     "data": {
      "text/html": [
       "<div>\n",
       "<style scoped>\n",
       "    .dataframe tbody tr th:only-of-type {\n",
       "        vertical-align: middle;\n",
       "    }\n",
       "\n",
       "    .dataframe tbody tr th {\n",
       "        vertical-align: top;\n",
       "    }\n",
       "\n",
       "    .dataframe thead th {\n",
       "        text-align: right;\n",
       "    }\n",
       "</style>\n",
       "<table border=\"1\" class=\"dataframe\">\n",
       "  <thead>\n",
       "    <tr style=\"text-align: right;\">\n",
       "      <th></th>\n",
       "      <th>Annualized Return</th>\n",
       "      <th>Annualized Vol</th>\n",
       "      <th>Skewness</th>\n",
       "      <th>Kurtosis</th>\n",
       "      <th>Cornish-Fisher VaR (5%)</th>\n",
       "      <th>Historic CVaR (5%)</th>\n",
       "      <th>Sharpe Ratio</th>\n",
       "      <th>Max Drawdown</th>\n",
       "    </tr>\n",
       "  </thead>\n",
       "  <tbody>\n",
       "    <tr>\n",
       "      <th>0</th>\n",
       "      <td>0.061737</td>\n",
       "      <td>0.005172</td>\n",
       "      <td>0.098129</td>\n",
       "      <td>2.514503</td>\n",
       "      <td>-0.002587</td>\n",
       "      <td>-0.002067</td>\n",
       "      <td>5.972166</td>\n",
       "      <td>0.0</td>\n",
       "    </tr>\n",
       "  </tbody>\n",
       "</table>\n",
       "</div>"
      ],
      "text/plain": [
       "   Annualized Return  Annualized Vol  Skewness  Kurtosis  \\\n",
       "0           0.061737        0.005172  0.098129  2.514503   \n",
       "\n",
       "   Cornish-Fisher VaR (5%)  Historic CVaR (5%)  Sharpe Ratio  Max Drawdown  \n",
       "0                -0.002587           -0.002067      5.972166           0.0  "
      ]
     },
     "execution_count": 14,
     "metadata": {},
     "output_type": "execute_result"
    }
   ],
   "source": [
    "rets_7030b = erk.bt_mix(rets_eq, rets_bonds, allocator=erk.fixedmix_allocator, w1=0.7)\n",
    "rets_7030b_mean = rets_7030b.mean(axis=1)\n",
    "erk.summary_stats(pd.DataFrame(rets_7030b_mean))"
   ]
  },
  {
   "cell_type": "code",
   "execution_count": 15,
   "metadata": {},
   "outputs": [],
   "source": [
    "summaries = erk.summary_stats(rets_7030b)"
   ]
  },
  {
   "cell_type": "code",
   "execution_count": 16,
   "metadata": {},
   "outputs": [
    {
     "data": {
      "text/html": [
       "<div>\n",
       "<style scoped>\n",
       "    .dataframe tbody tr th:only-of-type {\n",
       "        vertical-align: middle;\n",
       "    }\n",
       "\n",
       "    .dataframe tbody tr th {\n",
       "        vertical-align: top;\n",
       "    }\n",
       "\n",
       "    .dataframe thead th {\n",
       "        text-align: right;\n",
       "    }\n",
       "</style>\n",
       "<table border=\"1\" class=\"dataframe\">\n",
       "  <thead>\n",
       "    <tr style=\"text-align: right;\">\n",
       "      <th></th>\n",
       "      <th>Annualized Return</th>\n",
       "      <th>Annualized Vol</th>\n",
       "      <th>Skewness</th>\n",
       "      <th>Kurtosis</th>\n",
       "      <th>Cornish-Fisher VaR (5%)</th>\n",
       "      <th>Historic CVaR (5%)</th>\n",
       "      <th>Sharpe Ratio</th>\n",
       "      <th>Max Drawdown</th>\n",
       "    </tr>\n",
       "  </thead>\n",
       "  <tbody>\n",
       "    <tr>\n",
       "      <th>0</th>\n",
       "      <td>-0.001292</td>\n",
       "      <td>0.120435</td>\n",
       "      <td>-0.261896</td>\n",
       "      <td>2.713806</td>\n",
       "      <td>0.059184</td>\n",
       "      <td>0.073580</td>\n",
       "      <td>-0.253012</td>\n",
       "      <td>-0.220443</td>\n",
       "    </tr>\n",
       "    <tr>\n",
       "      <th>1</th>\n",
       "      <td>0.016392</td>\n",
       "      <td>0.108790</td>\n",
       "      <td>-0.184306</td>\n",
       "      <td>3.211853</td>\n",
       "      <td>0.051079</td>\n",
       "      <td>0.069913</td>\n",
       "      <td>-0.121875</td>\n",
       "      <td>-0.277570</td>\n",
       "    </tr>\n",
       "    <tr>\n",
       "      <th>2</th>\n",
       "      <td>0.036726</td>\n",
       "      <td>0.111818</td>\n",
       "      <td>0.281543</td>\n",
       "      <td>2.995627</td>\n",
       "      <td>0.046733</td>\n",
       "      <td>0.061560</td>\n",
       "      <td>0.058408</td>\n",
       "      <td>-0.294549</td>\n",
       "    </tr>\n",
       "    <tr>\n",
       "      <th>3</th>\n",
       "      <td>0.049832</td>\n",
       "      <td>0.106509</td>\n",
       "      <td>0.145104</td>\n",
       "      <td>3.160420</td>\n",
       "      <td>0.044462</td>\n",
       "      <td>0.058978</td>\n",
       "      <td>0.181096</td>\n",
       "      <td>-0.148711</td>\n",
       "    </tr>\n",
       "    <tr>\n",
       "      <th>4</th>\n",
       "      <td>0.039651</td>\n",
       "      <td>0.107172</td>\n",
       "      <td>0.145301</td>\n",
       "      <td>3.105840</td>\n",
       "      <td>0.045608</td>\n",
       "      <td>0.059462</td>\n",
       "      <td>0.087513</td>\n",
       "      <td>-0.171549</td>\n",
       "    </tr>\n",
       "    <tr>\n",
       "      <th>5</th>\n",
       "      <td>0.017602</td>\n",
       "      <td>0.106204</td>\n",
       "      <td>-0.311298</td>\n",
       "      <td>2.920481</td>\n",
       "      <td>0.050989</td>\n",
       "      <td>0.068610</td>\n",
       "      <td>-0.113750</td>\n",
       "      <td>-0.230906</td>\n",
       "    </tr>\n",
       "    <tr>\n",
       "      <th>6</th>\n",
       "      <td>0.105200</td>\n",
       "      <td>0.113133</td>\n",
       "      <td>-0.006806</td>\n",
       "      <td>2.457269</td>\n",
       "      <td>0.045018</td>\n",
       "      <td>0.056190</td>\n",
       "      <td>0.646844</td>\n",
       "      <td>-0.143782</td>\n",
       "    </tr>\n",
       "    <tr>\n",
       "      <th>7</th>\n",
       "      <td>0.061693</td>\n",
       "      <td>0.109505</td>\n",
       "      <td>-0.053714</td>\n",
       "      <td>2.855178</td>\n",
       "      <td>0.046855</td>\n",
       "      <td>0.059205</td>\n",
       "      <td>0.281560</td>\n",
       "      <td>-0.173914</td>\n",
       "    </tr>\n",
       "    <tr>\n",
       "      <th>8</th>\n",
       "      <td>-0.015401</td>\n",
       "      <td>0.105310</td>\n",
       "      <td>-0.147541</td>\n",
       "      <td>3.639467</td>\n",
       "      <td>0.051494</td>\n",
       "      <td>0.067154</td>\n",
       "      <td>-0.419698</td>\n",
       "      <td>-0.401048</td>\n",
       "    </tr>\n",
       "    <tr>\n",
       "      <th>9</th>\n",
       "      <td>0.062436</td>\n",
       "      <td>0.109611</td>\n",
       "      <td>-0.004832</td>\n",
       "      <td>2.992907</td>\n",
       "      <td>0.046323</td>\n",
       "      <td>0.058885</td>\n",
       "      <td>0.287881</td>\n",
       "      <td>-0.194709</td>\n",
       "    </tr>\n",
       "  </tbody>\n",
       "</table>\n",
       "</div>"
      ],
      "text/plain": [
       "   Annualized Return  Annualized Vol  Skewness  Kurtosis  \\\n",
       "0          -0.001292        0.120435 -0.261896  2.713806   \n",
       "1           0.016392        0.108790 -0.184306  3.211853   \n",
       "2           0.036726        0.111818  0.281543  2.995627   \n",
       "3           0.049832        0.106509  0.145104  3.160420   \n",
       "4           0.039651        0.107172  0.145301  3.105840   \n",
       "5           0.017602        0.106204 -0.311298  2.920481   \n",
       "6           0.105200        0.113133 -0.006806  2.457269   \n",
       "7           0.061693        0.109505 -0.053714  2.855178   \n",
       "8          -0.015401        0.105310 -0.147541  3.639467   \n",
       "9           0.062436        0.109611 -0.004832  2.992907   \n",
       "\n",
       "   Cornish-Fisher VaR (5%)  Historic CVaR (5%)  Sharpe Ratio  Max Drawdown  \n",
       "0                 0.059184            0.073580     -0.253012     -0.220443  \n",
       "1                 0.051079            0.069913     -0.121875     -0.277570  \n",
       "2                 0.046733            0.061560      0.058408     -0.294549  \n",
       "3                 0.044462            0.058978      0.181096     -0.148711  \n",
       "4                 0.045608            0.059462      0.087513     -0.171549  \n",
       "5                 0.050989            0.068610     -0.113750     -0.230906  \n",
       "6                 0.045018            0.056190      0.646844     -0.143782  \n",
       "7                 0.046855            0.059205      0.281560     -0.173914  \n",
       "8                 0.051494            0.067154     -0.419698     -0.401048  \n",
       "9                 0.046323            0.058885      0.287881     -0.194709  "
      ]
     },
     "execution_count": 16,
     "metadata": {},
     "output_type": "execute_result"
    }
   ],
   "source": [
    "summaries.head(10)"
   ]
  },
  {
   "cell_type": "code",
   "execution_count": 17,
   "metadata": {},
   "outputs": [
    {
     "data": {
      "text/plain": [
       "Annualized Return          0.056231\n",
       "Annualized Vol             0.107823\n",
       "Skewness                   0.003823\n",
       "Kurtosis                   2.947672\n",
       "Cornish-Fisher VaR (5%)    0.045953\n",
       "Historic CVaR (5%)         0.058107\n",
       "Sharpe Ratio               0.237168\n",
       "Max Drawdown              -0.204314\n",
       "dtype: float64"
      ]
     },
     "execution_count": 17,
     "metadata": {},
     "output_type": "execute_result"
    }
   ],
   "source": [
    "summaries.mean()"
   ]
  },
  {
   "cell_type": "code",
   "execution_count": 18,
   "metadata": {},
   "outputs": [],
   "source": [
    "def terminal_values(rets):\n",
    "    \"\"\"\n",
    "    Computes the terminal values from a set of returns supplied as a T x N DataFrame\n",
    "    Return a Series of length N indexed by the columns of rets\n",
    "    \"\"\"\n",
    "    return (rets+1).prod()"
   ]
  },
  {
   "cell_type": "code",
   "execution_count": 20,
   "metadata": {},
   "outputs": [
    {
     "data": {
      "text/html": [
       "<div>\n",
       "<style scoped>\n",
       "    .dataframe tbody tr th:only-of-type {\n",
       "        vertical-align: middle;\n",
       "    }\n",
       "\n",
       "    .dataframe tbody tr th {\n",
       "        vertical-align: top;\n",
       "    }\n",
       "\n",
       "    .dataframe thead th {\n",
       "        text-align: right;\n",
       "    }\n",
       "</style>\n",
       "<table border=\"1\" class=\"dataframe\">\n",
       "  <thead>\n",
       "    <tr style=\"text-align: right;\">\n",
       "      <th></th>\n",
       "      <th>FI</th>\n",
       "      <th>Eq</th>\n",
       "      <th>70/30</th>\n",
       "    </tr>\n",
       "  </thead>\n",
       "  <tbody>\n",
       "    <tr>\n",
       "      <th>mean</th>\n",
       "      <td>1.382972</td>\n",
       "      <td>2.039330</td>\n",
       "      <td>1.821221</td>\n",
       "    </tr>\n",
       "    <tr>\n",
       "      <th>std</th>\n",
       "      <td>0.114110</td>\n",
       "      <td>1.081375</td>\n",
       "      <td>0.649788</td>\n",
       "    </tr>\n",
       "    <tr>\n",
       "      <th>p_breach</th>\n",
       "      <td>NaN</td>\n",
       "      <td>0.032000</td>\n",
       "      <td>0.016000</td>\n",
       "    </tr>\n",
       "    <tr>\n",
       "      <th>e_short</th>\n",
       "      <td>NaN</td>\n",
       "      <td>0.167110</td>\n",
       "      <td>0.086005</td>\n",
       "    </tr>\n",
       "    <tr>\n",
       "      <th>p_reach</th>\n",
       "      <td>NaN</td>\n",
       "      <td>NaN</td>\n",
       "      <td>NaN</td>\n",
       "    </tr>\n",
       "    <tr>\n",
       "      <th>e_surplus</th>\n",
       "      <td>NaN</td>\n",
       "      <td>NaN</td>\n",
       "      <td>NaN</td>\n",
       "    </tr>\n",
       "  </tbody>\n",
       "</table>\n",
       "</div>"
      ],
      "text/plain": [
       "                 FI        Eq     70/30\n",
       "mean       1.382972  2.039330  1.821221\n",
       "std        0.114110  1.081375  0.649788\n",
       "p_breach        NaN  0.032000  0.016000\n",
       "e_short         NaN  0.167110  0.086005\n",
       "p_reach         NaN       NaN       NaN\n",
       "e_surplus       NaN       NaN       NaN"
      ]
     },
     "execution_count": 20,
     "metadata": {},
     "output_type": "execute_result"
    }
   ],
   "source": [
    "pd.concat([\n",
    "    erk.terminal_stats(rets_bonds, name=\"FI\"),\n",
    "    erk.terminal_stats(rets_eq, name=\"Eq\"),\n",
    "    erk.terminal_stats(rets_7030b, name=\"70/30\")\n",
    "], axis=1)"
   ]
  },
  {
   "cell_type": "code",
   "execution_count": 21,
   "metadata": {},
   "outputs": [],
   "source": [
    "import seaborn as sns"
   ]
  },
  {
   "cell_type": "code",
   "execution_count": 22,
   "metadata": {},
   "outputs": [
    {
     "data": {
      "image/png": "[encoded data removed]",
      "text/plain": [
       "<Figure size 864x432 with 1 Axes>"
      ]
     },
     "metadata": {
      "needs_background": "light"
     },
     "output_type": "display_data"
    }
   ],
   "source": [
    "import matplotlib.pyplot as plt\n",
    "plt.figure(figsize=(12, 6))\n",
    "sns.distplot(erk.terminal_values(rets_eq), color=\"red\", label=\"100% Equities\")\n",
    "sns.distplot(erk.terminal_values(rets_bonds), color=\"blue\", label=\"100% Bonds\")\n",
    "sns.distplot(erk.terminal_values(rets_7030b), color=\"orange\", label=\"70/30 Equities/Bonds\")\n",
    "plt.legend();"
   ]
  },
  {
   "cell_type": "markdown",
   "metadata": {},
   "source": [
    "## Glide Paths for Allocation"
   ]
  },
  {
   "cell_type": "code",
   "execution_count": 23,
   "metadata": {},
   "outputs": [],
   "source": [
    "def glidepath_allocator(r1, r2, start_glide=1, end_glide=0.0):\n",
    "    \"\"\"\n",
    "    Allocates weights to r1 starting at start_glide and ends at end_glide\n",
    "    by gradually moving from start_glide to end_glide over time\n",
    "    \"\"\"\n",
    "    n_points = r1.shape[0]\n",
    "    n_col = r1.shape[1]\n",
    "    path = pd.Series(data=np.linspace(start_glide, end_glide, num=n_points))\n",
    "    paths = pd.concat([path]*n_col, axis=1)\n",
    "    paths.index = r1.index\n",
    "    paths.columns = r1.columns\n",
    "    return paths"
   ]
  },
  {
   "cell_type": "code",
   "execution_count": 24,
   "metadata": {},
   "outputs": [
    {
     "data": {
      "text/html": [
       "<div>\n",
       "<style scoped>\n",
       "    .dataframe tbody tr th:only-of-type {\n",
       "        vertical-align: middle;\n",
       "    }\n",
       "\n",
       "    .dataframe tbody tr th {\n",
       "        vertical-align: top;\n",
       "    }\n",
       "\n",
       "    .dataframe thead th {\n",
       "        text-align: right;\n",
       "    }\n",
       "</style>\n",
       "<table border=\"1\" class=\"dataframe\">\n",
       "  <thead>\n",
       "    <tr style=\"text-align: right;\">\n",
       "      <th></th>\n",
       "      <th>FI</th>\n",
       "      <th>Eq</th>\n",
       "      <th>70/30</th>\n",
       "      <th>Glide 80 to 20</th>\n",
       "    </tr>\n",
       "  </thead>\n",
       "  <tbody>\n",
       "    <tr>\n",
       "      <th>mean</th>\n",
       "      <td>1.382972</td>\n",
       "      <td>2.039330</td>\n",
       "      <td>1.821221</td>\n",
       "      <td>1.675518</td>\n",
       "    </tr>\n",
       "    <tr>\n",
       "      <th>std</th>\n",
       "      <td>0.114110</td>\n",
       "      <td>1.081375</td>\n",
       "      <td>0.649788</td>\n",
       "      <td>0.450651</td>\n",
       "    </tr>\n",
       "    <tr>\n",
       "      <th>p_breach</th>\n",
       "      <td>NaN</td>\n",
       "      <td>0.032000</td>\n",
       "      <td>0.016000</td>\n",
       "      <td>0.002000</td>\n",
       "    </tr>\n",
       "    <tr>\n",
       "      <th>e_short</th>\n",
       "      <td>NaN</td>\n",
       "      <td>0.167110</td>\n",
       "      <td>0.086005</td>\n",
       "      <td>0.024499</td>\n",
       "    </tr>\n",
       "    <tr>\n",
       "      <th>p_reach</th>\n",
       "      <td>NaN</td>\n",
       "      <td>NaN</td>\n",
       "      <td>NaN</td>\n",
       "      <td>NaN</td>\n",
       "    </tr>\n",
       "    <tr>\n",
       "      <th>e_surplus</th>\n",
       "      <td>NaN</td>\n",
       "      <td>NaN</td>\n",
       "      <td>NaN</td>\n",
       "      <td>NaN</td>\n",
       "    </tr>\n",
       "  </tbody>\n",
       "</table>\n",
       "</div>"
      ],
      "text/plain": [
       "                 FI        Eq     70/30  Glide 80 to 20\n",
       "mean       1.382972  2.039330  1.821221        1.675518\n",
       "std        0.114110  1.081375  0.649788        0.450651\n",
       "p_breach        NaN  0.032000  0.016000        0.002000\n",
       "e_short         NaN  0.167110  0.086005        0.024499\n",
       "p_reach         NaN       NaN       NaN             NaN\n",
       "e_surplus       NaN       NaN       NaN             NaN"
      ]
     },
     "execution_count": 24,
     "metadata": {},
     "output_type": "execute_result"
    }
   ],
   "source": [
    "rets_g8020 = erk.bt_mix(rets_eq, rets_bonds, allocator=erk.glidepath_allocator, start_glide=.8, end_glide=.2)\n",
    "pd.concat([erk.terminal_stats(rets_bonds, name=\"FI\"), \n",
    "           erk.terminal_stats(rets_eq, name=\"Eq\"),\n",
    "           erk.terminal_stats(rets_7030b, name=\"70/30\"),\n",
    "           erk.terminal_stats(rets_g8020, name=\"Glide 80 to 20\")],\n",
    "          axis=1)"
   ]
  },
  {
   "cell_type": "code",
   "execution_count": 25,
   "metadata": {},
   "outputs": [
    {
     "data": {
      "image/png": "[encoded data removed]",
      "text/plain": [
       "<Figure size 864x432 with 1 Axes>"
      ]
     },
     "metadata": {
      "needs_background": "light"
     },
     "output_type": "display_data"
    }
   ],
   "source": [
    "rets_7030z = erk.bt_mix(rets_eq, rets_zc, allocator=erk.fixedmix_allocator, w1=0.7)\n",
    "plt.figure(figsize=(12, 6))\n",
    "#sns.distplot(terminal_values(rets_eq), color=\"red\", label=\"100% Equities\")\n",
    "#sns.distplot(terminal_values(rets_bonds), color=\"blue\", label=\"100% Bonds\")\n",
    "sns.distplot(erk.terminal_values(rets_7030b), color=\"orange\", label=\"70/30 Equities/Bonds\")\n",
    "#sns.distplot(terminal_values(rets_g8020), color=\"green\", label=\"Glide 80 to 20\")\n",
    "sns.distplot(erk.terminal_values(rets_7030z), color=\"grey\", label=\"70/30 Equities/Zeros\")\n",
    "plt.legend();"
   ]
  },
  {
   "cell_type": "code",
   "execution_count": null,
   "metadata": {},
   "outputs": [],
   "source": []
  }
 ],
 "metadata": {
  "kernelspec": {
   "display_name": "Python 3",
   "language": "python",
   "name": "python3"
  },
  "language_info": {
   "codemirror_mode": {
    "name": "ipython",
    "version": 3
   },
   "file_extension": ".py",
   "mimetype": "text/x-python",
   "name": "python",
   "nbconvert_exporter": "python",
   "pygments_lexer": "ipython3",
   "version": "3.7.6"
  }
 },
 "nbformat": 4,
 "nbformat_minor": 4
}
