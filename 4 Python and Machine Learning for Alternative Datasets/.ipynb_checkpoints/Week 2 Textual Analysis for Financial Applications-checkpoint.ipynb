{
 "cells": [
  {
   "cell_type": "markdown",
   "metadata": {},
   "source": [
    "# 2.1 Introduction to Web Scraping"
   ]
  },
  {
   "cell_type": "code",
   "execution_count": 29,
   "metadata": {},
   "outputs": [
    {
     "name": "stdout",
     "output_type": "stream",
     "text": [
      "The autoreload extension is already loaded. To reload it, use:\n",
      "  %reload_ext autoreload\n"
     ]
    }
   ],
   "source": [
    "import numpy as np\n",
    "import pandas as pd\n",
    "import matplotlib.pyplot as plt\n",
    "import seaborn as sns\n",
    "import calendar\n",
    "\n",
    "%matplotlib inline\n",
    "%load_ext autoreload\n",
    "%autoreload 2"
   ]
  },
  {
   "cell_type": "code",
   "execution_count": 1,
   "metadata": {},
   "outputs": [],
   "source": [
    "import requests\n",
    "from bs4 import BeautifulSoup\n",
    "\n",
    "#The library requests allows us to web scrape content\n",
    "#BeautifulSoup parses html and makes navigating it much easier\n",
    "r = requests.get(\"https://en.wikipedia.org/wiki/S%26P_100\")\n",
    "soup = BeautifulSoup(r.content, 'html.parser')"
   ]
  },
  {
   "cell_type": "markdown",
   "metadata": {},
   "source": [
    "The prettify function allows for easier viewing of the data e.g.\n",
    "```python\n",
    "print(soup.prettify())\n",
    "```"
   ]
  },
  {
   "cell_type": "code",
   "execution_count": 5,
   "metadata": {},
   "outputs": [
    {
     "name": "stdout",
     "output_type": "stream",
     "text": [
      "<title>S&amp;P 100 - Wikipedia</title>\n"
     ]
    }
   ],
   "source": [
    "#We can look for a certain element using find\n",
    "#It will return the first one\n",
    "title = soup.find('title')\n",
    "print(title)"
   ]
  },
  {
   "cell_type": "code",
   "execution_count": 7,
   "metadata": {},
   "outputs": [
    {
     "name": "stdout",
     "output_type": "stream",
     "text": [
      "4\n"
     ]
    }
   ],
   "source": [
    "#The find_all function finds all applicable elements\n",
    "tables = soup.find_all('table')\n",
    "print(len(tables))\n",
    "#print(tables[0].prettify())"
   ]
  },
  {
   "cell_type": "code",
   "execution_count": 8,
   "metadata": {},
   "outputs": [
    {
     "name": "stdout",
     "output_type": "stream",
     "text": [
      "2\n"
     ]
    }
   ],
   "source": [
    "#We can also search by class in addition to element\n",
    "#For example, let's get only sortable tables\n",
    "sortable_tables = soup.findAll(\"table\", {\"class\": \"sortable\"})\n",
    "print(len(sortable_tables))\n",
    "# print(sortable_tables[0].prettify())"
   ]
  },
  {
   "cell_type": "code",
   "execution_count": 9,
   "metadata": {},
   "outputs": [
    {
     "name": "stdout",
     "output_type": "stream",
     "text": [
      "{'class': ['wikitable', 'sortable'], 'id': 'constituents'}\n",
      "\n",
      "['wikitable', 'sortable']\n"
     ]
    }
   ],
   "source": [
    "#We can see certain attributes of an element easily\n",
    "example_table = sortable_tables[0]\n",
    "#For example, the class(es) through attrs\n",
    "print(example_table.attrs)\n",
    "print()\n",
    "print(example_table.attrs[\"class\"])"
   ]
  },
  {
   "cell_type": "code",
   "execution_count": 13,
   "metadata": {},
   "outputs": [],
   "source": [
    "#Or just the text through the text attribute\n",
    "# print(example_table.text)"
   ]
  },
  {
   "cell_type": "code",
   "execution_count": 14,
   "metadata": {},
   "outputs": [
    {
     "name": "stdout",
     "output_type": "stream",
     "text": [
      "['wikitable', 'sortable']\n",
      "['wikitable', 'sortable']\n"
     ]
    }
   ],
   "source": [
    "#Let's see if there is an easy way to identify which table is the list of the S&P 100 by class\n",
    "sortable_table_classes = [table.attrs[\"class\"] for table in sortable_tables]\n",
    "for class_list in sortable_table_classes:\n",
    "    print(class_list)\n",
    "#They are the same, we will need to do something else"
   ]
  },
  {
   "cell_type": "code",
   "execution_count": 15,
   "metadata": {},
   "outputs": [
    {
     "name": "stdout",
     "output_type": "stream",
     "text": [
      "['Apple Inc.']\n",
      "\n",
      "Only one element with the text Apple Inc.\n"
     ]
    }
   ],
   "source": [
    "#Let's say we are certain the word Apple Inc. will only be in the table\n",
    "apple_text_elements = soup.findAll(text='Apple Inc.')\n",
    "print(apple_text_elements)\n",
    "assert len(apple_text_elements) == 1\n",
    "print()\n",
    "print(\"Only one element with the text Apple Inc.\")"
   ]
  },
  {
   "cell_type": "code",
   "execution_count": 16,
   "metadata": {},
   "outputs": [
    {
     "name": "stdout",
     "output_type": "stream",
     "text": [
      "<class 'bs4.element.NavigableString'>\n"
     ]
    }
   ],
   "source": [
    "#It might look like a string, but if you look at the type you will see it is not\n",
    "print(type(apple_text_elements[0]))"
   ]
  },
  {
   "cell_type": "code",
   "execution_count": 17,
   "metadata": {},
   "outputs": [
    {
     "name": "stdout",
     "output_type": "stream",
     "text": [
      "<a href=\"/wiki/Apple_Inc.\" title=\"Apple Inc.\">Apple Inc.</a>\n"
     ]
    }
   ],
   "source": [
    "apple_element = apple_text_elements[0]\n",
    "#The parent attribute gives you the element which contains the current element\n",
    "print(apple_element.parent)"
   ]
  },
  {
   "cell_type": "code",
   "execution_count": 18,
   "metadata": {},
   "outputs": [
    {
     "name": "stdout",
     "output_type": "stream",
     "text": [
      "<td><a href=\"/wiki/Apple_Inc.\" title=\"Apple Inc.\">Apple Inc.</a>\n",
      "</td>\n"
     ]
    }
   ],
   "source": [
    "#Getting the parent of the hyperlink, we are now in the <td> tag\n",
    "print(apple_element.parent.parent)"
   ]
  },
  {
   "cell_type": "code",
   "execution_count": 19,
   "metadata": {},
   "outputs": [
    {
     "name": "stdout",
     "output_type": "stream",
     "text": [
      "<tr>\n",
      "<td>AAPL\n",
      "</td>\n",
      "<td><a href=\"/wiki/Apple_Inc.\" title=\"Apple Inc.\">Apple Inc.</a>\n",
      "</td></tr>\n"
     ]
    }
   ],
   "source": [
    "#Then the row\n",
    "print(apple_element.parent.parent.parent)"
   ]
  },
  {
   "cell_type": "code",
   "execution_count": 20,
   "metadata": {},
   "outputs": [],
   "source": [
    "#Then finally the body of the table\n",
    "# print(apple_element.parent.parent.parent.parent)"
   ]
  },
  {
   "cell_type": "code",
   "execution_count": 21,
   "metadata": {},
   "outputs": [],
   "source": [
    "#You can also query for a certain parent with a tag like below\n",
    "# print(apple_element.find_parent('tbody'))"
   ]
  },
  {
   "cell_type": "code",
   "execution_count": 22,
   "metadata": {},
   "outputs": [
    {
     "name": "stdout",
     "output_type": "stream",
     "text": [
      "102\n",
      "\n",
      "<tr>\n",
      "<th>Symbol\n",
      "</th>\n",
      "<th>Name\n",
      "</th></tr>\n",
      "\n",
      "<tr>\n",
      "<td>AAPL\n",
      "</td>\n",
      "<td><a href=\"/wiki/Apple_Inc.\" title=\"Apple Inc.\">Apple Inc.</a>\n",
      "</td></tr>\n"
     ]
    }
   ],
   "source": [
    "#With this table, we can find all rows first\n",
    "table = apple_element.find_parent('tbody')\n",
    "table_rows = table.find_all(\"tr\")\n",
    "print(len(table_rows))\n",
    "print()\n",
    "print(table_rows[0])\n",
    "print()\n",
    "print(table_rows[1])"
   ]
  },
  {
   "cell_type": "code",
   "execution_count": 23,
   "metadata": {},
   "outputs": [
    {
     "name": "stdout",
     "output_type": "stream",
     "text": [
      "101\n",
      "<a href=\"/wiki/Apple_Inc.\" title=\"Apple Inc.\">Apple Inc.</a>\n"
     ]
    }
   ],
   "source": [
    "#We could iterate through each row and grab the second element\n",
    "#But it is just as clean to go straight for hyperlinks by selecting only the a elements\n",
    "links = table.find_all('a')\n",
    "print(len(links))\n",
    "print(links[0])"
   ]
  },
  {
   "cell_type": "code",
   "execution_count": 24,
   "metadata": {},
   "outputs": [
    {
     "name": "stdout",
     "output_type": "stream",
     "text": [
      "{'href': '/wiki/Apple_Inc.', 'title': 'Apple Inc.'}\n",
      "\n",
      "/wiki/Apple_Inc.\n"
     ]
    }
   ],
   "source": [
    "#The attributes of each link holds the linked page\n",
    "example_link = links[0]\n",
    "print(example_link.attrs)\n",
    "print()\n",
    "print(example_link.attrs[\"href\"])"
   ]
  },
  {
   "cell_type": "code",
   "execution_count": 25,
   "metadata": {},
   "outputs": [
    {
     "name": "stdout",
     "output_type": "stream",
     "text": [
      "['/wiki/Apple_Inc.', '/wiki/AbbVie_Inc.', '/wiki/Abbott_Laboratories', '/wiki/Accenture', '/wiki/Adobe_Inc.', '/wiki/American_International_Group', '/wiki/Allstate', '/wiki/Amgen', '/wiki/American_Tower', '/wiki/Amazon.com', '/wiki/American_Express', '/wiki/Boeing', '/wiki/Bank_of_America', '/wiki/Biogen', '/wiki/The_Bank_of_New_York_Mellon', '/wiki/Booking_Holdings', '/wiki/BlackRock', '/wiki/Bristol-Myers_Squibb', '/wiki/Berkshire_Hathaway', '/wiki/Citigroup', '/wiki/Caterpillar_Inc.', '/wiki/Charter_Communications', '/wiki/Colgate-Palmolive', '/wiki/Comcast', '/wiki/Capital_One', '/wiki/ConocoPhillips', '/wiki/Costco_Wholesale_Corp.', '/wiki/Salesforce.com', '/wiki/Cisco_Systems', '/wiki/CVS_Health', '/wiki/Chevron_Corporation', '/wiki/DuPont_de_Nemours_Inc', '/wiki/Danaher_Corporation', '/wiki/The_Walt_Disney_Company', '/wiki/Dow_Inc.', '/wiki/Duke_Energy', '/wiki/Emerson_Electric', '/wiki/Exelon', '/wiki/Ford_Motor_Company', '/wiki/Facebook,_Inc.', '/wiki/FedEx', '/wiki/General_Dynamics', '/wiki/General_Electric', '/wiki/Gilead_Sciences', '/wiki/General_Motors', '/wiki/Alphabet_Inc.', '/wiki/Alphabet_Inc.', '/wiki/Goldman_Sachs', '/wiki/The_Home_Depot', '/wiki/Honeywell', '/wiki/IBM', '/wiki/Intel', '/wiki/Johnson_%26_Johnson', '/wiki/JPMorgan_Chase_%26_Co.', '/wiki/Kraft_Heinz', '/wiki/Kinder_Morgan', '/wiki/The_Coca-Cola_Company', '/wiki/Eli_Lilly_and_Company', '/wiki/Lockheed_Martin', '/wiki/Lowe%27s', '/wiki/Mastercard', '/wiki/McDonald%27s', '/wiki/Mondel%C4%93z_International', '/wiki/Medtronic', '/wiki/MetLife', '/wiki/3M', '/wiki/Altria', '/wiki/Merck_%26_Co.', '/wiki/Morgan_Stanley', '/wiki/Microsoft', '/wiki/NextEra_Energy', '/wiki/Netflix', '/wiki/Nike,_Inc.', '/wiki/Nvidia', '/wiki/Oracle_Corporation', '/wiki/PepsiCo', '/wiki/Pfizer_Inc', '/wiki/Procter_%26_Gamble', '/wiki/Philip_Morris_International', '/wiki/PayPal', '/wiki/Qualcomm', '/wiki/Raytheon_Technologies', '/wiki/Starbucks', '/wiki/Schlumberger', '/wiki/Southern_Company', '/wiki/Simon_Property_Group', '/wiki/AT%26T', '/wiki/Target_Corporation', '/wiki/Thermo_Fisher_Scientific', '/wiki/Tesla,_Inc.', '/wiki/Texas_Instruments', '/wiki/UnitedHealth_Group', '/wiki/Union_Pacific_Corporation', '/wiki/United_Parcel_Service', '/wiki/U.S._Bancorp', '/wiki/Visa_Inc.', '/wiki/Verizon_Communications', '/wiki/Walgreens_Boots_Alliance', '/wiki/Wells_Fargo', '/wiki/Walmart', '/wiki/ExxonMobil']\n"
     ]
    }
   ],
   "source": [
    "#Let's convert the links list to be the actual links\n",
    "links = [link.attrs[\"href\"] for link in links]\n",
    "print(links)"
   ]
  },
  {
   "cell_type": "code",
   "execution_count": 26,
   "metadata": {},
   "outputs": [
    {
     "name": "stdout",
     "output_type": "stream",
     "text": [
      "['/wiki/3M' '/wiki/AT%26T' '/wiki/AbbVie_Inc.' '/wiki/Abbott_Laboratories'\n",
      " '/wiki/Accenture' '/wiki/Adobe_Inc.' '/wiki/Allstate'\n",
      " '/wiki/Alphabet_Inc.' '/wiki/Altria' '/wiki/Amazon.com'\n",
      " '/wiki/American_Express' '/wiki/American_International_Group'\n",
      " '/wiki/American_Tower' '/wiki/Amgen' '/wiki/Apple_Inc.'\n",
      " '/wiki/Bank_of_America' '/wiki/Berkshire_Hathaway' '/wiki/Biogen'\n",
      " '/wiki/BlackRock' '/wiki/Boeing' '/wiki/Booking_Holdings'\n",
      " '/wiki/Bristol-Myers_Squibb' '/wiki/CVS_Health' '/wiki/Capital_One'\n",
      " '/wiki/Caterpillar_Inc.' '/wiki/Charter_Communications'\n",
      " '/wiki/Chevron_Corporation' '/wiki/Cisco_Systems' '/wiki/Citigroup'\n",
      " '/wiki/Colgate-Palmolive' '/wiki/Comcast' '/wiki/ConocoPhillips'\n",
      " '/wiki/Costco_Wholesale_Corp.' '/wiki/Danaher_Corporation'\n",
      " '/wiki/Dow_Inc.' '/wiki/DuPont_de_Nemours_Inc' '/wiki/Duke_Energy'\n",
      " '/wiki/Eli_Lilly_and_Company' '/wiki/Emerson_Electric' '/wiki/Exelon'\n",
      " '/wiki/ExxonMobil' '/wiki/Facebook,_Inc.' '/wiki/FedEx'\n",
      " '/wiki/Ford_Motor_Company' '/wiki/General_Dynamics'\n",
      " '/wiki/General_Electric' '/wiki/General_Motors' '/wiki/Gilead_Sciences'\n",
      " '/wiki/Goldman_Sachs' '/wiki/Honeywell' '/wiki/IBM' '/wiki/Intel'\n",
      " '/wiki/JPMorgan_Chase_%26_Co.' '/wiki/Johnson_%26_Johnson'\n",
      " '/wiki/Kinder_Morgan' '/wiki/Kraft_Heinz' '/wiki/Lockheed_Martin'\n",
      " '/wiki/Lowe%27s' '/wiki/Mastercard' '/wiki/McDonald%27s'\n",
      " '/wiki/Medtronic' '/wiki/Merck_%26_Co.' '/wiki/MetLife' '/wiki/Microsoft'\n",
      " '/wiki/Mondel%C4%93z_International' '/wiki/Morgan_Stanley'\n",
      " '/wiki/Netflix' '/wiki/NextEra_Energy' '/wiki/Nike,_Inc.' '/wiki/Nvidia'\n",
      " '/wiki/Oracle_Corporation' '/wiki/PayPal' '/wiki/PepsiCo'\n",
      " '/wiki/Pfizer_Inc' '/wiki/Philip_Morris_International'\n",
      " '/wiki/Procter_%26_Gamble' '/wiki/Qualcomm' '/wiki/Raytheon_Technologies'\n",
      " '/wiki/Salesforce.com' '/wiki/Schlumberger' '/wiki/Simon_Property_Group'\n",
      " '/wiki/Southern_Company' '/wiki/Starbucks' '/wiki/Target_Corporation'\n",
      " '/wiki/Tesla,_Inc.' '/wiki/Texas_Instruments'\n",
      " '/wiki/The_Bank_of_New_York_Mellon' '/wiki/The_Coca-Cola_Company'\n",
      " '/wiki/The_Home_Depot' '/wiki/The_Walt_Disney_Company'\n",
      " '/wiki/Thermo_Fisher_Scientific' '/wiki/U.S._Bancorp'\n",
      " '/wiki/Union_Pacific_Corporation' '/wiki/UnitedHealth_Group'\n",
      " '/wiki/United_Parcel_Service' '/wiki/Verizon_Communications'\n",
      " '/wiki/Visa_Inc.' '/wiki/Walgreens_Boots_Alliance' '/wiki/Walmart'\n",
      " '/wiki/Wells_Fargo']\n",
      "[1 1 1 1 1 1 1 2 1 1 1 1 1 1 1 1 1 1 1 1 1 1 1 1 1 1 1 1 1 1 1 1 1 1 1 1 1\n",
      " 1 1 1 1 1 1 1 1 1 1 1 1 1 1 1 1 1 1 1 1 1 1 1 1 1 1 1 1 1 1 1 1 1 1 1 1 1\n",
      " 1 1 1 1 1 1 1 1 1 1 1 1 1 1 1 1 1 1 1 1 1 1 1 1 1 1]\n"
     ]
    }
   ],
   "source": [
    "#Because of the potential for there to be two share classes, we should check duplicates\n",
    "#np.unique() returns two objects when return_counts = True, the unique values and the counts for them\n",
    "import numpy as np\n",
    "links_unique, link_counts = np.unique(links, return_counts=True)\n",
    "print(links_unique)\n",
    "print(link_counts)"
   ]
  },
  {
   "cell_type": "code",
   "execution_count": 27,
   "metadata": {},
   "outputs": [
    {
     "name": "stdout",
     "output_type": "stream",
     "text": [
      "[False False False False False False False  True False False False False\n",
      " False False False False False False False False False False False False\n",
      " False False False False False False False False False False False False\n",
      " False False False False False False False False False False False False\n",
      " False False False False False False False False False False False False\n",
      " False False False False False False False False False False False False\n",
      " False False False False False False False False False False False False\n",
      " False False False False False False False False False False False False\n",
      " False False False False]\n"
     ]
    }
   ],
   "source": [
    "#We can turn the counts array into True/False based on being greated than 1....\n",
    "i = link_counts > 1\n",
    "print(i)"
   ]
  },
  {
   "cell_type": "code",
   "execution_count": 28,
   "metadata": {},
   "outputs": [
    {
     "name": "stdout",
     "output_type": "stream",
     "text": [
      "['/wiki/Alphabet_Inc.']\n"
     ]
    }
   ],
   "source": [
    "#And then index the unique links to see which links are duplicated\n",
    "print(links_unique[i])\n",
    "#Google and Fox have two share classes"
   ]
  },
  {
   "cell_type": "code",
   "execution_count": 29,
   "metadata": {},
   "outputs": [
    {
     "name": "stdout",
     "output_type": "stream",
     "text": [
      "['https://en.wikipedia.org//wiki/3M', 'https://en.wikipedia.org//wiki/AT%26T', 'https://en.wikipedia.org//wiki/AbbVie_Inc.', 'https://en.wikipedia.org//wiki/Abbott_Laboratories', 'https://en.wikipedia.org//wiki/Accenture', 'https://en.wikipedia.org//wiki/Adobe_Inc.', 'https://en.wikipedia.org//wiki/Allstate', 'https://en.wikipedia.org//wiki/Alphabet_Inc.', 'https://en.wikipedia.org//wiki/Altria', 'https://en.wikipedia.org//wiki/Amazon.com', 'https://en.wikipedia.org//wiki/American_Express', 'https://en.wikipedia.org//wiki/American_International_Group', 'https://en.wikipedia.org//wiki/American_Tower', 'https://en.wikipedia.org//wiki/Amgen', 'https://en.wikipedia.org//wiki/Apple_Inc.', 'https://en.wikipedia.org//wiki/Bank_of_America', 'https://en.wikipedia.org//wiki/Berkshire_Hathaway', 'https://en.wikipedia.org//wiki/Biogen', 'https://en.wikipedia.org//wiki/BlackRock', 'https://en.wikipedia.org//wiki/Boeing', 'https://en.wikipedia.org//wiki/Booking_Holdings', 'https://en.wikipedia.org//wiki/Bristol-Myers_Squibb', 'https://en.wikipedia.org//wiki/CVS_Health', 'https://en.wikipedia.org//wiki/Capital_One', 'https://en.wikipedia.org//wiki/Caterpillar_Inc.', 'https://en.wikipedia.org//wiki/Charter_Communications', 'https://en.wikipedia.org//wiki/Chevron_Corporation', 'https://en.wikipedia.org//wiki/Cisco_Systems', 'https://en.wikipedia.org//wiki/Citigroup', 'https://en.wikipedia.org//wiki/Colgate-Palmolive', 'https://en.wikipedia.org//wiki/Comcast', 'https://en.wikipedia.org//wiki/ConocoPhillips', 'https://en.wikipedia.org//wiki/Costco_Wholesale_Corp.', 'https://en.wikipedia.org//wiki/Danaher_Corporation', 'https://en.wikipedia.org//wiki/Dow_Inc.', 'https://en.wikipedia.org//wiki/DuPont_de_Nemours_Inc', 'https://en.wikipedia.org//wiki/Duke_Energy', 'https://en.wikipedia.org//wiki/Eli_Lilly_and_Company', 'https://en.wikipedia.org//wiki/Emerson_Electric', 'https://en.wikipedia.org//wiki/Exelon', 'https://en.wikipedia.org//wiki/ExxonMobil', 'https://en.wikipedia.org//wiki/Facebook,_Inc.', 'https://en.wikipedia.org//wiki/FedEx', 'https://en.wikipedia.org//wiki/Ford_Motor_Company', 'https://en.wikipedia.org//wiki/General_Dynamics', 'https://en.wikipedia.org//wiki/General_Electric', 'https://en.wikipedia.org//wiki/General_Motors', 'https://en.wikipedia.org//wiki/Gilead_Sciences', 'https://en.wikipedia.org//wiki/Goldman_Sachs', 'https://en.wikipedia.org//wiki/Honeywell', 'https://en.wikipedia.org//wiki/IBM', 'https://en.wikipedia.org//wiki/Intel', 'https://en.wikipedia.org//wiki/JPMorgan_Chase_%26_Co.', 'https://en.wikipedia.org//wiki/Johnson_%26_Johnson', 'https://en.wikipedia.org//wiki/Kinder_Morgan', 'https://en.wikipedia.org//wiki/Kraft_Heinz', 'https://en.wikipedia.org//wiki/Lockheed_Martin', 'https://en.wikipedia.org//wiki/Lowe%27s', 'https://en.wikipedia.org//wiki/Mastercard', 'https://en.wikipedia.org//wiki/McDonald%27s', 'https://en.wikipedia.org//wiki/Medtronic', 'https://en.wikipedia.org//wiki/Merck_%26_Co.', 'https://en.wikipedia.org//wiki/MetLife', 'https://en.wikipedia.org//wiki/Microsoft', 'https://en.wikipedia.org//wiki/Mondel%C4%93z_International', 'https://en.wikipedia.org//wiki/Morgan_Stanley', 'https://en.wikipedia.org//wiki/Netflix', 'https://en.wikipedia.org//wiki/NextEra_Energy', 'https://en.wikipedia.org//wiki/Nike,_Inc.', 'https://en.wikipedia.org//wiki/Nvidia', 'https://en.wikipedia.org//wiki/Oracle_Corporation', 'https://en.wikipedia.org//wiki/PayPal', 'https://en.wikipedia.org//wiki/PepsiCo', 'https://en.wikipedia.org//wiki/Pfizer_Inc', 'https://en.wikipedia.org//wiki/Philip_Morris_International', 'https://en.wikipedia.org//wiki/Procter_%26_Gamble', 'https://en.wikipedia.org//wiki/Qualcomm', 'https://en.wikipedia.org//wiki/Raytheon_Technologies', 'https://en.wikipedia.org//wiki/Salesforce.com', 'https://en.wikipedia.org//wiki/Schlumberger', 'https://en.wikipedia.org//wiki/Simon_Property_Group', 'https://en.wikipedia.org//wiki/Southern_Company', 'https://en.wikipedia.org//wiki/Starbucks', 'https://en.wikipedia.org//wiki/Target_Corporation', 'https://en.wikipedia.org//wiki/Tesla,_Inc.', 'https://en.wikipedia.org//wiki/Texas_Instruments', 'https://en.wikipedia.org//wiki/The_Bank_of_New_York_Mellon', 'https://en.wikipedia.org//wiki/The_Coca-Cola_Company', 'https://en.wikipedia.org//wiki/The_Home_Depot', 'https://en.wikipedia.org//wiki/The_Walt_Disney_Company', 'https://en.wikipedia.org//wiki/Thermo_Fisher_Scientific', 'https://en.wikipedia.org//wiki/U.S._Bancorp', 'https://en.wikipedia.org//wiki/Union_Pacific_Corporation', 'https://en.wikipedia.org//wiki/UnitedHealth_Group', 'https://en.wikipedia.org//wiki/United_Parcel_Service', 'https://en.wikipedia.org//wiki/Verizon_Communications', 'https://en.wikipedia.org//wiki/Visa_Inc.', 'https://en.wikipedia.org//wiki/Walgreens_Boots_Alliance', 'https://en.wikipedia.org//wiki/Walmart', 'https://en.wikipedia.org//wiki/Wells_Fargo']\n"
     ]
    }
   ],
   "source": [
    "#Let's add in the part of the link that comes before each of these\n",
    "links_unique = [\"https://en.wikipedia.org/\" + link for link in links_unique]\n",
    "print(links_unique)"
   ]
  },
  {
   "cell_type": "code",
   "execution_count": 30,
   "metadata": {},
   "outputs": [],
   "source": [
    "#Now that we have unique links, we can move on to pulling text from each page for our comparison of text context\n",
    "#For example, let's grab the first page\n",
    "r = requests.get(links_unique[0])\n",
    "soup = BeautifulSoup(r.content, 'html.parser')\n",
    "#print(soup.prettify())"
   ]
  },
  {
   "cell_type": "code",
   "execution_count": 31,
   "metadata": {},
   "outputs": [
    {
     "name": "stdout",
     "output_type": "stream",
     "text": [
      "\n",
      "\n",
      "The 3M Company is an American multinational conglomerate corporation operating in the fields of industry, worker safety, US health care, and consumer goods.[4] The company produces over 60,000 products under several brands,[5] including adhesives, abrasives, laminates, passive fire protection, personal protective equipment, window films, paint protection films, dental and orthodontic products, electrical and electronic connecting and insulating materials, medical products, car-care products,[6] electronic circuits, healthcare software and optical films.[7] It is based in Maplewood, a suburb of Saint Paul, Minnesota.[8]\n",
      "\n"
     ]
    }
   ],
   "source": [
    "#Let's grab all text data which is in the paragraphs of the page\n",
    "paragraphs = soup.find_all(\"p\")\n",
    "paragraphs = [paragraph.text for paragraph in paragraphs]\n",
    "#Notice the first paragraph is blank\n",
    "print(paragraphs[0])\n",
    "print(paragraphs[1])"
   ]
  },
  {
   "cell_type": "code",
   "execution_count": 32,
   "metadata": {},
   "outputs": [
    {
     "name": "stdout",
     "output_type": "stream",
     "text": [
      "Text 1-Text 2\n"
     ]
    }
   ],
   "source": [
    "#We can join all paragraph elements with a delimiter between them like so:\n",
    "print(\"-\".join([\"Text 1\", \"Text 2\"]))"
   ]
  },
  {
   "cell_type": "code",
   "execution_count": 34,
   "metadata": {},
   "outputs": [],
   "source": [
    "#Let's do this with all the paragraph data but use a space to separate\n",
    "paragraphs = \" \".join(paragraphs)\n",
    "# print(paragraphs)"
   ]
  },
  {
   "cell_type": "markdown",
   "metadata": {},
   "source": [
    "# Applied Text Data Processing"
   ]
  },
  {
   "cell_type": "code",
   "execution_count": 35,
   "metadata": {},
   "outputs": [],
   "source": [
    "#Those numbers with brackets (annotations) are annoying, time to get rid of them\n",
    "#A quick intro to regular expressions\n",
    "import re\n",
    "test_string = \"\"\"This is our test string to find out how regular expressions work. [1]\n",
    "We will be seeing what kinds of basic searches and functionality we can do. [2]\n",
    "Case sensitivity may matter in ouR analysis. [33]\"\"\""
   ]
  },
  {
   "cell_type": "code",
   "execution_count": 36,
   "metadata": {},
   "outputs": [
    {
     "name": "stdout",
     "output_type": "stream",
     "text": [
      "['ou', 'ou', 'ou']\n"
     ]
    }
   ],
   "source": [
    "#Find all will return all matching strings\n",
    "#In this case we will get back just the exact string because it is what we are looking for\n",
    "print(re.findall(\"ou\", test_string))"
   ]
  },
  {
   "cell_type": "code",
   "execution_count": 37,
   "metadata": {},
   "outputs": [
    {
     "name": "stdout",
     "output_type": "stream",
     "text": [
      "['our', 'out']\n"
     ]
    }
   ],
   "source": [
    "#By using [a-z], we signal the next piece can be any lower case letter a-z\n",
    "print(re.findall(\"ou[a-z]\", test_string))"
   ]
  },
  {
   "cell_type": "code",
   "execution_count": 38,
   "metadata": {},
   "outputs": [
    {
     "name": "stdout",
     "output_type": "stream",
     "text": [
      "['our']\n"
     ]
    }
   ],
   "source": [
    "#Or using [a-r] we limit to letters a through r\n",
    "print(re.findall(\"ou[a-r]\", test_string))"
   ]
  },
  {
   "cell_type": "code",
   "execution_count": 39,
   "metadata": {},
   "outputs": [
    {
     "name": "stdout",
     "output_type": "stream",
     "text": [
      "['our', 'out', 'ouR']\n"
     ]
    }
   ],
   "source": [
    "#It is case sensitive, so we will see that A-Z gives us capitals\n",
    "print(re.findall(\"ou[a-zA-Z]\", test_string))"
   ]
  },
  {
   "cell_type": "code",
   "execution_count": 40,
   "metadata": {},
   "outputs": [
    {
     "name": "stdout",
     "output_type": "stream",
     "text": [
      "['This is ', ' test string to find ', ' how regular expressions work. [1]\\nWe will be seeing what kinds of basic searches and functionality we can do. [2]\\nCase sensitivity may matter in ', ' analysis. [33]']\n"
     ]
    }
   ],
   "source": [
    "#The split function splits text by the searched text\n",
    "print(re.split(\"ou[a-zA-Z]\", test_string))"
   ]
  },
  {
   "cell_type": "code",
   "execution_count": 41,
   "metadata": {},
   "outputs": [
    {
     "name": "stdout",
     "output_type": "stream",
     "text": [
      "This is [REDACTED] test string to find [REDACTED] how regular expressions work. [1]\n",
      "We will be seeing what kinds of basic searches and functionality we can do. [2]\n",
      "Case sensitivity may matter in [REDACTED] analysis. [33]\n"
     ]
    }
   ],
   "source": [
    "#Sub replaces our text where we give a pattern followed by the replacement text followed by the string we are searching\n",
    "print(re.sub(\"ou[a-zA-Z]\", \"[REDACTED]\",test_string))"
   ]
  },
  {
   "cell_type": "code",
   "execution_count": 42,
   "metadata": {},
   "outputs": [
    {
     "name": "stdout",
     "output_type": "stream",
     "text": [
      "['1', '2', '3', '3']\n"
     ]
    }
   ],
   "source": [
    "#Searching for numbers is done like so\n",
    "#Notice the 33 was split\n",
    "print(re.findall(\"[1-9]\",test_string))"
   ]
  },
  {
   "cell_type": "code",
   "execution_count": 44,
   "metadata": {},
   "outputs": [
    {
     "name": "stdout",
     "output_type": "stream",
     "text": [
      "This is our test string to find out how regular expressions work. [X]\n",
      "We will be seeing what kinds of basic searches and functionality we can do. [X]\n",
      "Case sensitivity may matter in ouR analysis. [XX]\n"
     ]
    }
   ],
   "source": [
    "#Replacing he numbers\n",
    "print(re.sub(\"[1-9]\",\"X\",test_string))"
   ]
  },
  {
   "cell_type": "code",
   "execution_count": 45,
   "metadata": {},
   "outputs": [
    {
     "name": "stdout",
     "output_type": "stream",
     "text": [
      "['1', '2', '33']\n"
     ]
    }
   ],
   "source": [
    "#Adding + after the brackets will say pick wherever there is that occurence one or more times\n",
    "print(re.findall(\"[1-9]+\",test_string))"
   ]
  },
  {
   "cell_type": "code",
   "execution_count": 46,
   "metadata": {},
   "outputs": [
    {
     "name": "stdout",
     "output_type": "stream",
     "text": [
      "['[', '[', '[']\n",
      "[']', ']', ']']\n"
     ]
    }
   ],
   "source": [
    "#To find brackets in text, we have to use \\[ and \\]\n",
    "print(re.findall(\"\\[\",test_string))\n",
    "print(re.findall(\"\\]\",test_string))"
   ]
  },
  {
   "cell_type": "code",
   "execution_count": 47,
   "metadata": {},
   "outputs": [
    {
     "name": "stdout",
     "output_type": "stream",
     "text": [
      "['[1]', '[2]', '[33]']\n"
     ]
    }
   ],
   "source": [
    "#Finally, we can add the three together to find occurences where there are brackets with numbers inside\n",
    "print(re.findall(\"\\[[1-9]+\\]\",test_string))"
   ]
  },
  {
   "cell_type": "code",
   "execution_count": 48,
   "metadata": {},
   "outputs": [
    {
     "name": "stdout",
     "output_type": "stream",
     "text": [
      "This is our test string to find out how regular expressions work. \n",
      "We will be seeing what kinds of basic searches and functionality we can do. \n",
      "Case sensitivity may matter in ouR analysis. \n"
     ]
    }
   ],
   "source": [
    "print(re.sub(\"\\[[1-9]+\\]\",\"\",test_string))"
   ]
  },
  {
   "cell_type": "code",
   "execution_count": 49,
   "metadata": {},
   "outputs": [
    {
     "name": "stdout",
     "output_type": "stream",
     "text": [
      "\n",
      "   T h e   3 M   C o m p a n y   i s   a n   A m e r i c a n   m u l t i n a t i o n a l   c o n g l o m e r a t e   c o r p o r a t i o n   o p e r a t i n g   i n   t h e   f i e l d s   o f   i n d u s t r y ,   w o r k e r   s a f e t y ,   U S   h e a l t h   c a r e ,   a n d   c o n s u m e r   g o o d s . [ 4 ]   T h e   c o m p a n y   p r o d u c e s   o v e r   6 0 , 0 0 0   p r o d u \n",
      "\n",
      "\n",
      "   T h e   3 M   C o m p a n y   i s   a n   A m e r i c a n   m u l t i n a t i o n a l   c o n g l o m e r a t e   c o r p o r a t i o n   o p e r a t i n g   i n   t h e   f i e l d s   o f   i n d u s t r y ,   w o r k e r   s a f e t y ,   U S   h e a l t h   c a r e ,   a n d   c o n s u m e r   g o o d s . [ 4 ]   T h e   c o m p a n y   p r o d u c e s   o v e r   6 0 , 0 0 0   p r o d u \n"
     ]
    }
   ],
   "source": [
    "#Test with the actual data\n",
    "print(paragraphs[:400])\n",
    "print()\n",
    "print(re.sub(\"\\[[1-9]+\\]\",\"\",paragraphs[:400]))"
   ]
  },
  {
   "cell_type": "code",
   "execution_count": 50,
   "metadata": {},
   "outputs": [],
   "source": [
    "paragraphs = re.sub(\"\\[[1-9]+\\]\",\"\",paragraphs)"
   ]
  },
  {
   "cell_type": "code",
   "execution_count": 51,
   "metadata": {},
   "outputs": [],
   "source": [
    "import nltk\n",
    "#nltk is the library we will use for text analysis\n",
    "stemmer = nltk.stem.SnowballStemmer('english')"
   ]
  },
  {
   "cell_type": "code",
   "execution_count": 52,
   "metadata": {},
   "outputs": [
    {
     "data": {
      "text/plain": [
       "'run run'"
      ]
     },
     "execution_count": 52,
     "metadata": {},
     "output_type": "execute_result"
    }
   ],
   "source": [
    "#The stemmer breaks down words into roots\n",
    "stemmer.stem(\"run running\")"
   ]
  },
  {
   "cell_type": "code",
   "execution_count": 53,
   "metadata": {},
   "outputs": [],
   "source": [
    "paragraphs = stemmer.stem(paragraphs)"
   ]
  },
  {
   "cell_type": "code",
   "execution_count": 54,
   "metadata": {},
   "outputs": [
    {
     "name": "stdout",
     "output_type": "stream",
     "text": [
      "text that we want to analyze with text analysis.\n",
      "\n",
      "  (0, 2)\t2\n",
      "  (0, 3)\t1\n",
      "  (0, 6)\t1\n",
      "  (0, 5)\t1\n",
      "  (0, 4)\t1\n",
      "  (0, 1)\t1\n",
      "  (0, 7)\t1\n",
      "  (0, 0)\t1\n"
     ]
    }
   ],
   "source": [
    "#To get counts, we can use the count vectorizer\n",
    "from sklearn.feature_extraction.text import CountVectorizer\n",
    "vectorizer = CountVectorizer()\n",
    "\n",
    "test_text = \"Text that we want to analyze with text analysis.\"\n",
    "test_text = stemmer.stem(test_text)\n",
    "print(test_text)\n",
    "print()\n",
    "#The text is not readable from the initial fit_transform because it is in sparse matrix form\n",
    "counts = vectorizer.fit_transform([test_text])\n",
    "print(counts)"
   ]
  },
  {
   "cell_type": "code",
   "execution_count": 55,
   "metadata": {},
   "outputs": [
    {
     "name": "stdout",
     "output_type": "stream",
     "text": [
      "[[1 1 2 1 1 1 1 1]]\n"
     ]
    }
   ],
   "source": [
    "#To array gives us the counts but not the words\n",
    "print(counts.toarray())"
   ]
  },
  {
   "cell_type": "code",
   "execution_count": 56,
   "metadata": {},
   "outputs": [
    {
     "name": "stdout",
     "output_type": "stream",
     "text": [
      "['analysis', 'analyze', 'text', 'that', 'to', 'want', 'we', 'with']\n"
     ]
    }
   ],
   "source": [
    "#The function get_feature_names returns the names\n",
    "print(vectorizer.get_feature_names())"
   ]
  },
  {
   "cell_type": "code",
   "execution_count": 58,
   "metadata": {},
   "outputs": [
    {
     "name": "stdout",
     "output_type": "stream",
     "text": [
      "analysis    1\n",
      "analyze     1\n",
      "text        2\n",
      "that        1\n",
      "to          1\n",
      "want        1\n",
      "we          1\n",
      "with        1\n",
      "dtype: int64\n"
     ]
    }
   ],
   "source": [
    "#Convert the array to a series\n",
    "print(pd.Series(counts.toarray()[0], index = vectorizer.get_feature_names()))"
   ]
  },
  {
   "cell_type": "code",
   "execution_count": 59,
   "metadata": {},
   "outputs": [
    {
     "name": "stdout",
     "output_type": "stream",
     "text": [
      "analysis    1\n",
      "analyze     1\n",
      "text        2\n",
      "want        1\n",
      "dtype: int64\n"
     ]
    }
   ],
   "source": [
    "#Stop words gets rid of the common words like a or the in the anglish language that don't add much to analysis\n",
    "vectorizer = CountVectorizer(stop_words='english')\n",
    "test_text = \"Text that we want to analyze with text analysis.\"\n",
    "test_text = stemmer.stem(test_text)\n",
    "counts = vectorizer.fit_transform([test_text])\n",
    "print(pd.Series(counts.toarray()[0], index = vectorizer.get_feature_names()))"
   ]
  },
  {
   "cell_type": "code",
   "execution_count": 60,
   "metadata": {},
   "outputs": [
    {
     "name": "stdout",
     "output_type": "stream",
     "text": [
      "3m              71\n",
      "company         23\n",
      "2018            12\n",
      "million         11\n",
      "products        10\n",
      "                ..\n",
      "handled          1\n",
      "harbors          1\n",
      "harry            1\n",
      "headquarters     1\n",
      "herbert          1\n",
      "Length: 788, dtype: int64\n"
     ]
    }
   ],
   "source": [
    "#Let's turn this into a function\n",
    "def get_company_text(url):\n",
    "    r = requests.get(url)\n",
    "    soup = BeautifulSoup(r.content, 'html.parser')\n",
    "    paragraphs = soup.find_all(\"p\")\n",
    "    paragraphs = [paragraph.text for paragraph in paragraphs]\n",
    "    paragraphs = \" \".join(paragraphs)\n",
    "    pattern = \"\\[[0-9]+\\]\"\n",
    "    paragraphs = re.sub(pattern, \"\", paragraphs)\n",
    "    stemmer = nltk.stem.SnowballStemmer('english')\n",
    "    paragraphs = stemmer.stem(paragraphs)\n",
    "    vectorizer = CountVectorizer(stop_words='english')\n",
    "    counts = vectorizer.fit_transform([paragraphs])\n",
    "    counts = pd.Series(counts.toarray()[0],index=vectorizer.get_feature_names())\n",
    "    return counts\n",
    "counts = get_company_text(links_unique[0])\n",
    "print(counts.sort_values(ascending=False))"
   ]
  },
  {
   "cell_type": "code",
   "execution_count": 61,
   "metadata": {},
   "outputs": [
    {
     "name": "stdout",
     "output_type": "stream",
     "text": [
      "       0  1\n",
      "000    7  5\n",
      "10     0  2\n",
      "100    1  2\n",
      "100th  1  0\n",
      "108    0  1\n",
      "...   .. ..\n",
      "xandr  0  2\n",
      "yards  0  1\n",
      "year   6  1\n",
      "years  2  1\n",
      "york   0  1\n",
      "\n",
      "[1719 rows x 2 columns]\n"
     ]
    }
   ],
   "source": [
    "#And extend to multiple companies\n",
    "def get_company_text_multiple(urls):\n",
    "    text = []\n",
    "    for url in urls:\n",
    "        r = requests.get(url)\n",
    "        soup = BeautifulSoup(r.content, 'html.parser')\n",
    "        paragraphs = soup.find_all(\"p\")\n",
    "        paragraphs = [paragraph.text for paragraph in paragraphs]\n",
    "        paragraphs = \" \".join(paragraphs)\n",
    "        pattern = \"\\[[0-9]+\\]\"\n",
    "        paragraphs = re.sub(pattern, \"\", paragraphs)\n",
    "        stemmer = nltk.stem.SnowballStemmer('english')\n",
    "        paragraphs = stemmer.stem(paragraphs)\n",
    "        text.append(paragraphs)\n",
    "    vectorizer = CountVectorizer(stop_words='english')\n",
    "    counts = vectorizer.fit_transform(text)\n",
    "    counts = pd.DataFrame(counts.toarray(),columns=vectorizer.get_feature_names()).transpose()\n",
    "    return counts\n",
    "counts = get_company_text_multiple(links_unique[0:2])\n",
    "print(counts)"
   ]
  },
  {
   "cell_type": "code",
   "execution_count": 62,
   "metadata": {},
   "outputs": [
    {
     "name": "stdout",
     "output_type": "stream",
     "text": [
      "['3M', 'AT%26T', 'AbbVie_Inc.', 'Abbott_Laboratories', 'Accenture', 'Adobe_Inc.', 'Allstate', 'Alphabet_Inc.', 'Altria', 'Amazon.com', 'American_Express', 'American_International_Group', 'American_Tower', 'Amgen', 'Apple_Inc.', 'Bank_of_America', 'Berkshire_Hathaway', 'Biogen', 'BlackRock', 'Boeing', 'Booking_Holdings', 'Bristol-Myers_Squibb', 'CVS_Health', 'Capital_One', 'Caterpillar_Inc.', 'Charter_Communications', 'Chevron_Corporation', 'Cisco_Systems', 'Citigroup', 'Colgate-Palmolive', 'Comcast', 'ConocoPhillips', 'Costco_Wholesale_Corp.', 'Danaher_Corporation', 'Dow_Inc.', 'DuPont_de_Nemours_Inc', 'Duke_Energy', 'Eli_Lilly_and_Company', 'Emerson_Electric', 'Exelon', 'ExxonMobil', 'Facebook,_Inc.', 'FedEx', 'Ford_Motor_Company', 'General_Dynamics', 'General_Electric', 'General_Motors', 'Gilead_Sciences', 'Goldman_Sachs', 'Honeywell', 'IBM', 'Intel', 'JPMorgan_Chase_%26_Co.', 'Johnson_%26_Johnson', 'Kinder_Morgan', 'Kraft_Heinz', 'Lockheed_Martin', 'Lowe%27s', 'Mastercard', 'McDonald%27s', 'Medtronic', 'Merck_%26_Co.', 'MetLife', 'Microsoft', 'Mondel%C4%93z_International', 'Morgan_Stanley', 'Netflix', 'NextEra_Energy', 'Nike,_Inc.', 'Nvidia', 'Oracle_Corporation', 'PayPal', 'PepsiCo', 'Pfizer_Inc', 'Philip_Morris_International', 'Procter_%26_Gamble', 'Qualcomm', 'Raytheon_Technologies', 'Salesforce.com', 'Schlumberger', 'Simon_Property_Group', 'Southern_Company', 'Starbucks', 'Target_Corporation', 'Tesla,_Inc.', 'Texas_Instruments', 'The_Bank_of_New_York_Mellon', 'The_Coca-Cola_Company', 'The_Home_Depot', 'The_Walt_Disney_Company', 'Thermo_Fisher_Scientific', 'U.S._Bancorp', 'Union_Pacific_Corporation', 'UnitedHealth_Group', 'United_Parcel_Service', 'Verizon_Communications', 'Visa_Inc.', 'Walgreens_Boots_Alliance', 'Walmart', 'Wells_Fargo']\n"
     ]
    }
   ],
   "source": [
    "#Let's find the index\n",
    "index = [x[31:] for x in links_unique]\n",
    "print(index)"
   ]
  },
  {
   "cell_type": "code",
   "execution_count": 64,
   "metadata": {},
   "outputs": [],
   "source": [
    "def get_company_text_multiple(urls):\n",
    "    text = []\n",
    "    for url in urls:\n",
    "        r = requests.get(url)\n",
    "        soup = BeautifulSoup(r.content, 'html.parser')\n",
    "        paragraphs = soup.find_all(\"p\")\n",
    "        paragraphs = [paragraph.text for paragraph in paragraphs]\n",
    "        paragraphs = \" \".join(paragraphs)\n",
    "        pattern = \"\\[[0-9]+\\]\"\n",
    "        paragraphs = re.sub(pattern, \"\", paragraphs)\n",
    "        stemmer = nltk.stem.SnowballStemmer('english')\n",
    "        paragraphs = stemmer.stem(paragraphs)\n",
    "        text.append(paragraphs)\n",
    "    vectorizer = CountVectorizer(stop_words='english')\n",
    "    counts = vectorizer.fit_transform(text)\n",
    "    counts = pd.DataFrame(counts.toarray(),columns=vectorizer.get_feature_names()).transpose()\n",
    "    return counts\n",
    "counts = get_company_text_multiple(links_unique)\n",
    "counts.columns = index\n",
    "#print(counts)"
   ]
  },
  {
   "cell_type": "code",
   "execution_count": 65,
   "metadata": {},
   "outputs": [],
   "source": [
    "#Save down the data for future use\n",
    "counts.to_csv(\"Company Words.csv\")"
   ]
  },
  {
   "cell_type": "code",
   "execution_count": 66,
   "metadata": {},
   "outputs": [
    {
     "name": "stdout",
     "output_type": "stream",
     "text": [
      "company       3774\n",
      "million       1437\n",
      "new           1410\n",
      "billion       1393\n",
      "announced     1236\n",
      "              ... \n",
      "morgan         307\n",
      "goldman        305\n",
      "president      296\n",
      "operations     296\n",
      "product        294\n",
      "Length: 100, dtype: int64\n"
     ]
    }
   ],
   "source": [
    "#Find the most common words\n",
    "print(counts.sum(axis=1).sort_values(ascending=False).head(100))"
   ]
  },
  {
   "cell_type": "code",
   "execution_count": 68,
   "metadata": {},
   "outputs": [],
   "source": [
    "#Convert to frequency\n",
    "word_frequency = counts.copy()\n",
    "word_frequency = word_frequency / word_frequency.sum()\n",
    "#print(word_frequency)"
   ]
  },
  {
   "cell_type": "markdown",
   "metadata": {},
   "source": [
    "# Company Distances and Industry Distances"
   ]
  },
  {
   "cell_type": "code",
   "execution_count": 72,
   "metadata": {},
   "outputs": [
    {
     "name": "stdout",
     "output_type": "stream",
     "text": [
      "0.0908896529307158\n",
      "0.08974937899562371\n"
     ]
    }
   ],
   "source": [
    "#We can use euclidean distance to see how far away two companies are in terms of words \n",
    "def findDist(company1,company2):\n",
    "    return sum((company1-company2)**2)**.5\n",
    "print(findDist(word_frequency['Wells_Fargo'],word_frequency['Walmart']))\n",
    "print(findDist(word_frequency['United_Parcel_Service'],word_frequency['Walmart']))"
   ]
  },
  {
   "cell_type": "code",
   "execution_count": 74,
   "metadata": {},
   "outputs": [],
   "source": [
    "#We can use itertools to find the combinations\n",
    "from  itertools import combinations\n",
    "combinations = list(combinations(word_frequency.columns,2))\n",
    "#print(combinations)"
   ]
  },
  {
   "cell_type": "code",
   "execution_count": 75,
   "metadata": {},
   "outputs": [],
   "source": [
    "#Create the distance dataframe\n",
    "distance = pd.DataFrame(combinations)\n",
    "distance.columns = [\"Company 1\", \"Company 2\"]\n",
    "#Create the distance for each combination\n",
    "distance[\"Distance\"] = distance.apply(lambda x: findDist(word_frequency[x[\"Company 1\"]], word_frequency[x[\"Company 2\"]]), axis=1)\n",
    "#print(distance)"
   ]
  },
  {
   "cell_type": "code",
   "execution_count": 79,
   "metadata": {},
   "outputs": [
    {
     "name": "stdout",
     "output_type": "stream",
     "text": [
      "                      Company 1                  Company 2  Distance\n",
      "172          Procter_%26_Gamble                     AT%26T  0.050923\n",
      "172                      AT%26T         Procter_%26_Gamble  0.050923\n",
      "125                   Citigroup                     AT%26T  0.054037\n",
      "125                      AT%26T                  Citigroup  0.054037\n",
      "2417                  Citigroup     JPMorgan_Chase_%26_Co.  0.055636\n",
      "...                         ...                        ...       ...\n",
      "2840                   Dow_Inc.         Oracle_Corporation  0.267924\n",
      "2858                   Dow_Inc.             The_Home_Depot  0.268676\n",
      "2858             The_Home_Depot                   Dow_Inc.  0.268676\n",
      "2862                   Dow_Inc.  Union_Pacific_Corporation  0.299143\n",
      "2862  Union_Pacific_Corporation                   Dow_Inc.  0.299143\n",
      "\n",
      "[9900 rows x 3 columns]\n"
     ]
    }
   ],
   "source": [
    "#Find the closest distances\n",
    "print(distance.sort_values(by=\"Distance\"))"
   ]
  },
  {
   "cell_type": "code",
   "execution_count": 77,
   "metadata": {},
   "outputs": [
    {
     "name": "stdout",
     "output_type": "stream",
     "text": [
      "        Company 1                 Company 2  Distance\n",
      "0              3M                    AT%26T  0.072097\n",
      "1              3M               AbbVie_Inc.  0.091408\n",
      "2              3M       Abbott_Laboratories  0.092580\n",
      "3              3M                 Accenture  0.096868\n",
      "4              3M                Adobe_Inc.  0.100438\n",
      "...           ...                       ...       ...\n",
      "4945      Walmart                 Visa_Inc.  0.084740\n",
      "4946  Wells_Fargo                 Visa_Inc.  0.092302\n",
      "4947      Walmart  Walgreens_Boots_Alliance  0.086281\n",
      "4948  Wells_Fargo  Walgreens_Boots_Alliance  0.099624\n",
      "4949  Wells_Fargo                   Walmart  0.090890\n",
      "\n",
      "[9900 rows x 3 columns]\n"
     ]
    }
   ],
   "source": [
    "#Let's reverse the columns and append so that we have both sides mirrored\n",
    "temp = distance.copy()\n",
    "temp.columns = [\"Company 2\", \"Company 1\", \"Distance\"]\n",
    "distance = pd.concat([distance, temp], sort=False)\n",
    "print(distance)"
   ]
  },
  {
   "cell_type": "code",
   "execution_count": 78,
   "metadata": {},
   "outputs": [
    {
     "name": "stdout",
     "output_type": "stream",
     "text": [
      "        Company 1                  Company 2  Distance\n",
      "2464  Wells_Fargo                  Citigroup  0.074843\n",
      "196   Wells_Fargo                     AT%26T  0.078106\n",
      "3868  Wells_Fargo     JPMorgan_Chase_%26_Co.  0.078977\n",
      "4673  Wells_Fargo         Procter_%26_Gamble  0.081739\n",
      "3674  Wells_Fargo              Goldman_Sachs  0.086452\n",
      "...           ...                        ...       ...\n",
      "4003  Wells_Fargo                Kraft_Heinz  0.121471\n",
      "1868  Wells_Fargo           Booking_Holdings  0.123811\n",
      "1208  Wells_Fargo             American_Tower  0.137602\n",
      "4928  Wells_Fargo  Union_Pacific_Corporation  0.199576\n",
      "2869  Wells_Fargo                   Dow_Inc.  0.263831\n",
      "\n",
      "[99 rows x 3 columns]\n"
     ]
    }
   ],
   "source": [
    "#Let's see how Wells Fargo looks in terms of distance to other companies\n",
    "print(distance[distance[\"Company 1\"] == \"Wells_Fargo\"].sort_values(by=\"Distance\"))"
   ]
  },
  {
   "cell_type": "code",
   "execution_count": 81,
   "metadata": {},
   "outputs": [],
   "source": [
    "#Let's grab industry classifications, first the infobox needs to be found\n",
    "r = requests.get(links_unique[0])\n",
    "soup = BeautifulSoup(r.content, 'html.parser')\n",
    "infobox = soup.find(\"table\", {\"class\": \"infobox\"})"
   ]
  },
  {
   "cell_type": "code",
   "execution_count": 82,
   "metadata": {},
   "outputs": [
    {
     "name": "stdout",
     "output_type": "stream",
     "text": [
      "<th scope=\"row\" style=\"padding-right: 0.5em;\">Industry</th>\n"
     ]
    }
   ],
   "source": [
    "#Within the text box we need to find the table header with text industry\n",
    "print(infobox.find(\"th\", text = \"Industry\"))"
   ]
  },
  {
   "cell_type": "code",
   "execution_count": 83,
   "metadata": {},
   "outputs": [
    {
     "data": {
      "text/plain": [
       "[<th scope=\"row\" style=\"padding-right: 0.5em;\">Industry</th>,\n",
       " <td class=\"category\" style=\"line-height: 1.35em;\"><a href=\"/wiki/Conglomerate_(company)\" title=\"Conglomerate (company)\">Conglomerate</a></td>,\n",
       " <a href=\"/wiki/Conglomerate_(company)\" title=\"Conglomerate (company)\">Conglomerate</a>]"
      ]
     },
     "execution_count": 83,
     "metadata": {},
     "output_type": "execute_result"
    }
   ],
   "source": [
    "#And the parent of this\n",
    "infobox.find(\"th\", text = \"Industry\").parent()"
   ]
  },
  {
   "cell_type": "code",
   "execution_count": 84,
   "metadata": {},
   "outputs": [
    {
     "data": {
      "text/plain": [
       "<td class=\"category\" style=\"line-height: 1.35em;\"><a href=\"/wiki/Conglomerate_(company)\" title=\"Conglomerate (company)\">Conglomerate</a></td>"
      ]
     },
     "execution_count": 84,
     "metadata": {},
     "output_type": "execute_result"
    }
   ],
   "source": [
    "#This returns an array and we will need to grab the second element\n",
    "infobox.find(\"th\", text = \"Industry\").parent()[1]"
   ]
  },
  {
   "cell_type": "code",
   "execution_count": 85,
   "metadata": {},
   "outputs": [
    {
     "name": "stdout",
     "output_type": "stream",
     "text": [
      "[['Conglomerate'], ['Telecommunications', 'Technology', 'Mass media', 'Entertainment'], ['Biopharmaceutical'], ['Health care', 'Medical devices', 'Pharmaceutical'], ['Professional services']]\n"
     ]
    }
   ],
   "source": [
    "#Turn it into a function\n",
    "def get_company_industries(urls):\n",
    "    industries_data = []\n",
    "    for url in urls:\n",
    "        r = requests.get(url)\n",
    "        soup = BeautifulSoup(r.content, 'html.parser')\n",
    "        infobox = soup.find(\"table\", {\"class\": \"infobox\"})\n",
    "        industries = [x.text for x in infobox.find(\"th\", text = \"Industry\").parent()[1].find_all('a')]\n",
    "        industries_data.append(industries)\n",
    "    return industries_data\n",
    "print(get_company_industries(links_unique[:5]))"
   ]
  },
  {
   "cell_type": "code",
   "execution_count": 86,
   "metadata": {},
   "outputs": [
    {
     "name": "stdout",
     "output_type": "stream",
     "text": [
      "                         0    1    2    3    4\n",
      "Conglomerate           1.0  0.0  0.0  0.0  0.0\n",
      "Telecommunications     0.0  1.0  0.0  0.0  0.0\n",
      "Technology             0.0  1.0  0.0  0.0  0.0\n",
      "Mass media             0.0  1.0  0.0  0.0  0.0\n",
      "Entertainment          0.0  1.0  0.0  0.0  0.0\n",
      "Biopharmaceutical      0.0  0.0  1.0  0.0  0.0\n",
      "Health care            0.0  0.0  0.0  1.0  0.0\n",
      "Medical devices        0.0  0.0  0.0  1.0  0.0\n",
      "Pharmaceutical         0.0  0.0  0.0  1.0  0.0\n",
      "Professional services  0.0  0.0  0.0  0.0  1.0\n"
     ]
    }
   ],
   "source": [
    "#Instead of an array, let's modify to get a dataframe of dummy variables representing what industries each company is tagged with\n",
    "def get_company_industries(urls):\n",
    "    industries_data = []\n",
    "    for url in urls:\n",
    "        r = requests.get(url)\n",
    "        soup = BeautifulSoup(r.content, 'html.parser')\n",
    "        infobox = soup.find(\"table\", {\"class\": \"infobox\"})\n",
    "        industries = [x.text for x in infobox.find(\"th\", text = \"Industry\").parent()[1].find_all('a')]\n",
    "        industries = pd.Series(1, index=industries)\n",
    "        industries_data.append(industries)\n",
    "    industries_data = pd.concat(industries_data,axis=1,sort=False).fillna(0)\n",
    "    return industries_data\n",
    "print(get_company_industries(links_unique[:5]))"
   ]
  },
  {
   "cell_type": "code",
   "execution_count": 90,
   "metadata": {},
   "outputs": [],
   "source": [
    "#And clean up with transposing and putting in the index of tickers\n",
    "def get_company_industries(urls):\n",
    "    industries_data = []\n",
    "    for url in urls:\n",
    "        r = requests.get(url)\n",
    "        soup = BeautifulSoup(r.content, 'html.parser')\n",
    "        infobox = soup.find(\"table\", {\"class\": \"infobox\"})\n",
    "        industries = [x.text for x in infobox.find(\"th\", text = \"Industry\").parent()[1].find_all('a')]\n",
    "        industries = pd.Series(1, index=industries)\n",
    "        industries_data.append(industries)\n",
    "    industries_data = pd.concat(industries_data,axis=1,sort=False).fillna(0)\n",
    "    return industries_data\n",
    "industries = get_company_industries(links_unique)\n",
    "industries = industries.transpose()\n",
    "industries.index = index\n",
    "#print(industries)"
   ]
  },
  {
   "cell_type": "code",
   "execution_count": 88,
   "metadata": {},
   "outputs": [
    {
     "name": "stdout",
     "output_type": "stream",
     "text": [
      "Financial services           15.0\n",
      "Retail                        7.0\n",
      "Cloud computing               6.0\n",
      "Conglomerate                  6.0\n",
      "Mass media                    5.0\n",
      "                             ... \n",
      "Social networking service     1.0\n",
      "Internet                      1.0\n",
      "Corporate venture capital     1.0\n",
      "Electric power industry       1.0\n",
      "Petroleum industry            1.0\n",
      "Length: 87, dtype: float64\n"
     ]
    }
   ],
   "source": [
    "#Which industries are the most common?\n",
    "print(industries.sum().sort_values(ascending=False))"
   ]
  },
  {
   "cell_type": "code",
   "execution_count": 93,
   "metadata": {},
   "outputs": [],
   "source": [
    "#We can see that an issue is Financial Services and financial services are listed differently\n",
    "#We need to handle that by using lower on industries\n",
    "def get_company_industries(urls):\n",
    "    industries_data = []\n",
    "    for url in urls:\n",
    "        r = requests.get(url)\n",
    "        soup = BeautifulSoup(r.content, 'html.parser')\n",
    "        infobox = soup.find(\"table\", {\"class\": \"infobox\"})\n",
    "        industries = [x.text.lower() for x in infobox.find(\"th\", text = \"Industry\").parent()[1].find_all('a')]\n",
    "        industries = pd.Series(1, index=industries)\n",
    "        industries_data.append(industries)\n",
    "    industries_data = pd.concat(industries_data,axis=1,sort=False).fillna(0)\n",
    "    return industries_data\n",
    "industries = get_company_industries(links_unique)\n",
    "industries = industries.transpose()\n",
    "industries.index = index\n",
    "#print(industries)"
   ]
  },
  {
   "cell_type": "code",
   "execution_count": 91,
   "metadata": {},
   "outputs": [],
   "source": [
    "#Now the industries are corrected\n",
    "# print(industries.sum().sort_values(ascending=False))"
   ]
  },
  {
   "cell_type": "code",
   "execution_count": 92,
   "metadata": {},
   "outputs": [],
   "source": [
    "#Filter to be only industries with at least 2 instances\n",
    "industries = industries.loc[:,industries.sum() >= 2]"
   ]
  },
  {
   "cell_type": "code",
   "execution_count": 94,
   "metadata": {},
   "outputs": [
    {
     "name": "stdout",
     "output_type": "stream",
     "text": [
      "Index(['American_Express', 'American_International_Group', 'Bank_of_America',\n",
      "       'Capital_One', 'Caterpillar_Inc.', 'Citigroup', 'Goldman_Sachs',\n",
      "       'JPMorgan_Chase_%26_Co.', 'Mastercard', 'MetLife', 'Morgan_Stanley',\n",
      "       'PayPal', 'The_Bank_of_New_York_Mellon', 'U.S._Bancorp', 'Visa_Inc.',\n",
      "       'Wells_Fargo'],\n",
      "      dtype='object')\n"
     ]
    }
   ],
   "source": [
    "#Let's see which companies are in financial services\n",
    "fin_services = industries[industries['financial services'] == 1].index\n",
    "print(fin_services)"
   ]
  },
  {
   "cell_type": "code",
   "execution_count": 95,
   "metadata": {},
   "outputs": [
    {
     "name": "stdout",
     "output_type": "stream",
     "text": [
      "0       False\n",
      "1       False\n",
      "2       False\n",
      "3       False\n",
      "4       False\n",
      "        ...  \n",
      "4945    False\n",
      "4946     True\n",
      "4947    False\n",
      "4948    False\n",
      "4949    False\n",
      "Length: 9900, dtype: bool\n"
     ]
    }
   ],
   "source": [
    "#Now that we know which companies are in, we can make two indices\n",
    "#First, the index for whenever both companies are in financial services\n",
    "fin_services_index = distance['Company 1'].isin(fin_services) & distance['Company 2'].isin(fin_services)\n",
    "#And then the second index for combinations where exactly one company is in financial services\n",
    "fin_services_index2 = distance['Company 1'].isin(fin_services) & ~distance['Company 2'].isin(fin_services)\n",
    "print(fin_services_index)"
   ]
  },
  {
   "cell_type": "code",
   "execution_count": 96,
   "metadata": {},
   "outputs": [
    {
     "name": "stdout",
     "output_type": "stream",
     "text": [
      "0.08814485902712393\n",
      "0.09842137335566324\n"
     ]
    }
   ],
   "source": [
    "#Let's check how similar companies are within and outside of the financials industry\n",
    "print(distance.loc[fin_services_index][\"Distance\"].mean())\n",
    "print(distance.loc[fin_services_index2][\"Distance\"].mean())"
   ]
  },
  {
   "cell_type": "code",
   "execution_count": 97,
   "metadata": {},
   "outputs": [
    {
     "name": "stdout",
     "output_type": "stream",
     "text": [
      "                Industry 1            Industry 2\n",
      "0             conglomerate    telecommunications\n",
      "1             conglomerate            technology\n",
      "2             conglomerate            mass media\n",
      "3             conglomerate         entertainment\n",
      "4             conglomerate     biopharmaceutical\n",
      "...                    ...                   ...\n",
      "3235              beverage  laboratory equipment\n",
      "3236              beverage   managed health care\n",
      "3237             retailing  laboratory equipment\n",
      "3238             retailing   managed health care\n",
      "3239  laboratory equipment   managed health care\n",
      "\n",
      "[3240 rows x 2 columns]\n"
     ]
    }
   ],
   "source": [
    "#And check how different industries line up\n",
    "#First create the base of the dataframe, each combination of industry\n",
    "from  itertools import combinations\n",
    "industry_distances = pd.DataFrame(list(combinations(industries.columns,2)))\n",
    "industry_distances.columns = [\"Industry 1\", \"Industry 2\"]\n",
    "print(industry_distances)"
   ]
  },
  {
   "cell_type": "code",
   "execution_count": 98,
   "metadata": {},
   "outputs": [
    {
     "name": "stdout",
     "output_type": "stream",
     "text": [
      "0.08949137182244628\n"
     ]
    }
   ],
   "source": [
    "#Create a function which finds average distance between chosen industries\n",
    "def find_industry_distance(key1,key2,distance):\n",
    "    firms1 = industries[industries[key1] == 1].index\n",
    "    firms2 = industries[industries[key2] == 1].index\n",
    "    i1 = distance['Company 1'].isin(firms1) & distance['Company 2'].isin(firms2)\n",
    "    i2 = distance['Company 1'].isin(firms2) & distance['Company 2'].isin(firms1)\n",
    "    i = i1 | i2\n",
    "    return distance.loc[i][\"Distance\"].mean()\n",
    "\n",
    "print(find_industry_distance('conglomerate','telecommunications',distance))"
   ]
  },
  {
   "cell_type": "code",
   "execution_count": 99,
   "metadata": {},
   "outputs": [],
   "source": [
    "#Get the distances \n",
    "industry_distances[\"Distance\"] = industry_distances.apply(lambda x: find_industry_distance(x[\"Industry 1\"],x[\"Industry 2\"],distance), axis=1)"
   ]
  },
  {
   "cell_type": "code",
   "execution_count": 100,
   "metadata": {},
   "outputs": [],
   "source": [
    "#Drop null values in place\n",
    "industry_distances.dropna(inplace=True)"
   ]
  },
  {
   "cell_type": "code",
   "execution_count": 101,
   "metadata": {},
   "outputs": [
    {
     "name": "stdout",
     "output_type": "stream",
     "text": [
      "                Industry 1            Industry 2  Distance\n",
      "0             conglomerate    telecommunications  0.089491\n",
      "1             conglomerate            technology  0.097238\n",
      "2             conglomerate            mass media  0.091165\n",
      "3             conglomerate         entertainment  0.089813\n",
      "4             conglomerate     biopharmaceutical  0.094157\n",
      "...                    ...                   ...       ...\n",
      "3235  laboratory equipment              beverage  0.107292\n",
      "3236   managed health care              beverage  0.103665\n",
      "3237  laboratory equipment             retailing  0.117706\n",
      "3238   managed health care             retailing  0.110417\n",
      "3239   managed health care  laboratory equipment  0.095167\n",
      "\n",
      "[6442 rows x 3 columns]\n"
     ]
    }
   ],
   "source": [
    "#And mirror like we did before\n",
    "temp = industry_distances.copy()\n",
    "temp.columns =  [\"Industry 2\", \"Industry 1\", \"Distance\"]\n",
    "industry_distances = pd.concat([industry_distances,temp],sort=False)\n",
    "print(industry_distances)"
   ]
  },
  {
   "cell_type": "code",
   "execution_count": 102,
   "metadata": {},
   "outputs": [
    {
     "name": "stdout",
     "output_type": "stream",
     "text": [
      "                        Industry 1                    Industry 2  Distance\n",
      "2237                     beverages               heavy equipment  0.072843\n",
      "2237               heavy equipment                     beverages  0.072843\n",
      "2223               heavy equipment                   restaurants  0.073142\n",
      "2223                   restaurants               heavy equipment  0.073142\n",
      "2217               heavy equipment                  shipbuilding  0.073415\n",
      "...                            ...                           ...       ...\n",
      "2485           enterprise software                     chemicals  0.186157\n",
      "2496                     retailing                     chemicals  0.191266\n",
      "2496                     chemicals                     retailing  0.191266\n",
      "1489                     chemicals  real estate investment trust  0.198253\n",
      "1489  real estate investment trust                     chemicals  0.198253\n",
      "\n",
      "[6442 rows x 3 columns]\n"
     ]
    }
   ],
   "source": [
    "#Find the most similar\n",
    "print(industry_distances.sort_values(by=\"Distance\"))"
   ]
  },
  {
   "cell_type": "code",
   "execution_count": 103,
   "metadata": {},
   "outputs": [
    {
     "name": "stdout",
     "output_type": "stream",
     "text": [
      "                        Industry 1                    Industry 2  Distance\n",
      "2237                     beverages               heavy equipment  0.072843\n",
      "2237               heavy equipment                     beverages  0.072843\n",
      "2223               heavy equipment                   restaurants  0.073142\n",
      "2223                   restaurants               heavy equipment  0.073142\n",
      "2217               heavy equipment                  shipbuilding  0.073415\n",
      "...                            ...                           ...       ...\n",
      "2485           enterprise software                     chemicals  0.186157\n",
      "2496                     retailing                     chemicals  0.191266\n",
      "2496                     chemicals                     retailing  0.191266\n",
      "1489                     chemicals  real estate investment trust  0.198253\n",
      "1489  real estate investment trust                     chemicals  0.198253\n",
      "\n",
      "[6442 rows x 3 columns]\n"
     ]
    }
   ],
   "source": [
    "print(industry_distances.sort_values(by='Distance').dropna())"
   ]
  },
  {
   "cell_type": "code",
   "execution_count": 104,
   "metadata": {},
   "outputs": [
    {
     "name": "stdout",
     "output_type": "stream",
     "text": [
      "              Industry 1                    Industry 2  Distance\n",
      "1424  financial services               heavy equipment  0.084637\n",
      "1443  financial services                   restaurants  0.084860\n",
      "1457  financial services                     beverages  0.084882\n",
      "1437  financial services                  shipbuilding  0.085780\n",
      "1438  financial services                 pharmaceutics  0.086122\n",
      "...                  ...                           ...       ...\n",
      "1450  financial services       electric power industry  0.109084\n",
      "1467  financial services                     retailing  0.111164\n",
      "1422  financial services                        travel  0.121024\n",
      "1410  financial services  real estate investment trust  0.132415\n",
      "1430  financial services                     chemicals  0.178062\n",
      "\n",
      "[80 rows x 3 columns]\n"
     ]
    }
   ],
   "source": [
    "#What about the most similar to financial technology?\n",
    "print(industry_distances[industry_distances[\"Industry 1\"] == 'financial services'].sort_values(by='Distance').dropna())"
   ]
  },
  {
   "cell_type": "code",
   "execution_count": 110,
   "metadata": {},
   "outputs": [
    {
     "name": "stdout",
     "output_type": "stream",
     "text": [
      "['heavy equipment' 'restaurants' 'beverages' 'shipbuilding'\n",
      " 'pharmaceutics']\n"
     ]
    }
   ],
   "source": [
    "#Grab the top 5 similar industries\n",
    "top_ind = industry_distances[industry_distances[\"Industry 1\"] == 'financial services'].sort_values(by='Distance').dropna()[\"Industry 2\"].values[:5]\n",
    "print(top_ind)"
   ]
  },
  {
   "cell_type": "code",
   "execution_count": 111,
   "metadata": {},
   "outputs": [
    {
     "name": "stdout",
     "output_type": "stream",
     "text": [
      "['financial services', 'heavy equipment', 'restaurants', 'beverages', 'shipbuilding', 'pharmaceutics']\n"
     ]
    }
   ],
   "source": [
    "#Add in financial services since that's our base\n",
    "top_ind = ['financial services']+list(top_ind)\n",
    "print(top_ind)"
   ]
  },
  {
   "cell_type": "code",
   "execution_count": 112,
   "metadata": {},
   "outputs": [
    {
     "name": "stdout",
     "output_type": "stream",
     "text": [
      "Industry 2          financial services  heavy equipment  restaurants  \\\n",
      "Industry 1                                                             \n",
      "financial services                 NaN         0.084637     0.084860   \n",
      "heavy equipment               0.084637              NaN     0.073142   \n",
      "restaurants                   0.084860         0.073142          NaN   \n",
      "beverages                     0.084882         0.072843     0.073860   \n",
      "shipbuilding                  0.085780         0.073415     0.076883   \n",
      "pharmaceutics                 0.086122         0.075871     0.077389   \n",
      "\n",
      "Industry 2          beverages  shipbuilding  pharmaceutics  \n",
      "Industry 1                                                  \n",
      "financial services   0.084882      0.085780       0.086122  \n",
      "heavy equipment      0.072843      0.073415       0.075871  \n",
      "restaurants          0.073860      0.076883       0.077389  \n",
      "beverages                 NaN      0.076458       0.076531  \n",
      "shipbuilding         0.076458           NaN       0.078197  \n",
      "pharmaceutics        0.076531      0.078197            NaN  \n"
     ]
    }
   ],
   "source": [
    "#Pivot\n",
    "pivot_data = industry_distances.pivot(\"Industry 1\", \"Industry 2\", \"Distance\").reindex(index=top_ind, columns=top_ind)\n",
    "print(pivot_data)"
   ]
  },
  {
   "cell_type": "code",
   "execution_count": 114,
   "metadata": {},
   "outputs": [
    {
     "data": {
      "image/png": "[encoded data removed]",
      "text/plain": [
       "<Figure size 432x288 with 2 Axes>"
      ]
     },
     "metadata": {
      "needs_background": "light"
     },
     "output_type": "display_data"
    }
   ],
   "source": [
    "import seaborn as sns\n",
    "import matplotlib.pyplot as plt\n",
    "#Plot the heatmap\n",
    "sns.heatmap(pivot_data)\n",
    "plt.show()"
   ]
  },
  {
   "cell_type": "code",
   "execution_count": 115,
   "metadata": {},
   "outputs": [
    {
     "data": {
      "image/png": "[encoded data removed]",
      "text/plain": [
       "<Figure size 432x288 with 2 Axes>"
      ]
     },
     "metadata": {
      "needs_background": "light"
     },
     "output_type": "display_data"
    }
   ],
   "source": [
    "#Annotate\n",
    "sns.heatmap(pivot_data, cmap='YlGnBu', annot=True)\n",
    "plt.show()"
   ]
  }
 ],
 "metadata": {
  "kernelspec": {
   "display_name": "Python 3",
   "language": "python",
   "name": "python3"
  },
  "language_info": {
   "codemirror_mode": {
    "name": "ipython",
    "version": 3
   },
   "file_extension": ".py",
   "mimetype": "text/x-python",
   "name": "python",
   "nbconvert_exporter": "python",
   "pygments_lexer": "ipython3",
   "version": "3.7.6"
  }
 },
 "nbformat": 4,
 "nbformat_minor": 4
}
